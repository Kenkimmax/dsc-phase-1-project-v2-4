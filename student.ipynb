{
  "cells": [
    {
      "cell_type": "markdown",
      "metadata": {
        "id": "Ol4OoA8sigvt"
      },
      "source": [
        "## Final Project Submission\n",
        "\n",
        "Please fill out:\n",
        "* Student name: Kenneth Kimani\n",
        "* Student pace: self paced / part time / full time\n",
        "* Scheduled project review date/time: \n",
        "* Instructor name: \n",
        "* Blog post URL:\n"
      ]
    },
    {
      "cell_type": "code",
      "execution_count": 1,
      "metadata": {
        "id": "iLDHpD26igv6"
      },
      "outputs": [],
      "source": [
        "# Your code here - remember to use markdown cells for comments as well!"
      ]
    },
    {
      "cell_type": "markdown",
      "source": [
        "Microsoft Movie Production Need Analysis"
      ],
      "metadata": {
        "id": "xwRpCO9B_OJt"
      }
    },
    {
      "cell_type": "markdown",
      "source": [
        "OVERVIEW\n",
        "The project analyzes was to provide actionable insight to the Microsoft Head of new movie Studio. The analysis used data from 3 sources namely: Movie_info, reviews and bom movie.\n",
        "\n",
        "Key Takeouts:\n",
        "Top 5 movie genre to produce fall under the five big catergorirs Action and Adventure|Classics|Drama, Drama|Science Fiction and Fantasy,Drama|Musical and Performing Arts, Drama|Mystery and Suspense and Drama|Kids and Family' 'Comedy\n",
        "\n",
        "The optimal Movie duration is critical to the Audience.\n",
        "\n",
        "Understading the different season patterns to release new movies.\n",
        "\n",
        "Speak into the production cost.\n",
        "\n",
        "\n"
      ],
      "metadata": {
        "id": "r-cN4frS_rh2"
      }
    },
    {
      "cell_type": "markdown",
      "source": [
        "Business Problem\n",
        "\n",
        "Microsoft sees all the big companies creating original video content and they want to get in on the fun. They have decided to create a new movie studio, but they don’t know anything about creating movies. You are charged with exploring what types of films are currently doing the best at the box office. You must then translate those findings into actionable insights that the head of Microsoft's new movie studio can use to help decide what type of films to create."
      ],
      "metadata": {
        "id": "Z_MAdz0aDu-7"
      }
    },
    {
      "cell_type": "markdown",
      "source": [
        "Data Understanding\n",
        "\n",
        "The Movie_info data source contains movie details from 1921 to 2018.The data entails movie theater release dates, the writer, director and the movie rating categories.\n",
        "\n",
        "The Movie budget data source contains the name, release date, the production costs and both the domestic and foreign earnings from 2014 t0 2020.\n",
        "\n",
        "The bom movie data source has the movie title,studio,domestic and foreign earunings and release year.The data runs from 2010 to 2020."
      ],
      "metadata": {
        "id": "etV4u0e2D_Hh"
      }
    },
    {
      "cell_type": "markdown",
      "source": [
        "Import Data from the CSV files.We first import the needed libraries.\n"
      ],
      "metadata": {
        "id": "e4NcV3epnReS"
      }
    },
    {
      "cell_type": "markdown",
      "source": [],
      "metadata": {
        "id": "73NKHTE8n8Xw"
      }
    },
    {
      "cell_type": "code",
      "source": [
        "#import the needed libraries.\n",
        "import pandas as pd\n",
        "import numpy as np\n",
        "import matplotlib.pyplot as plt\n",
        "import seaborn as sns\n"
      ],
      "metadata": {
        "id": "3W0FCaiknsFN"
      },
      "execution_count": 2,
      "outputs": []
    },
    {
      "cell_type": "markdown",
      "source": [
        "Load the movie_info into a DataFrame and Explore the data.\n",
        "The Movie_info data source contains movie details from 1921 t0 2018.The data entails movie theater relaese dates, the writer, director and the movie rating categories.\n"
      ],
      "metadata": {
        "id": "Sri0j6r8oleS"
      }
    },
    {
      "cell_type": "code",
      "source": [
        "movie_information = pd.read_csv('/content/rt.movie_info.tsv', delimiter='\\t',index_col=0)\n",
        "movie_information.head()"
      ],
      "metadata": {
        "colab": {
          "base_uri": "https://localhost:8080/",
          "height": 455
        },
        "id": "oaaRdN0SpB74",
        "outputId": "1e716157-4cd8-4e39-9dff-e3de97c39cf2"
      },
      "execution_count": 3,
      "outputs": [
        {
          "output_type": "execute_result",
          "data": {
            "text/plain": [
              "                                             synopsis rating  \\\n",
              "id                                                             \n",
              "1   This gritty, fast-paced, and innovative police...      R   \n",
              "3   New York City, not-too-distant-future: Eric Pa...      R   \n",
              "5   Illeana Douglas delivers a superb performance ...      R   \n",
              "6   Michael Douglas runs afoul of a treacherous su...      R   \n",
              "7                                                 NaN     NR   \n",
              "\n",
              "                                  genre          director  \\\n",
              "id                                                          \n",
              "1   Action and Adventure|Classics|Drama  William Friedkin   \n",
              "3     Drama|Science Fiction and Fantasy  David Cronenberg   \n",
              "5     Drama|Musical and Performing Arts    Allison Anders   \n",
              "6            Drama|Mystery and Suspense    Barry Levinson   \n",
              "7                         Drama|Romance    Rodney Bennett   \n",
              "\n",
              "                             writer  theater_date      dvd_date currency  \\\n",
              "id                                                                         \n",
              "1                    Ernest Tidyman   Oct 9, 1971  Sep 25, 2001      NaN   \n",
              "3      David Cronenberg|Don DeLillo  Aug 17, 2012   Jan 1, 2013        $   \n",
              "5                    Allison Anders  Sep 13, 1996  Apr 18, 2000      NaN   \n",
              "6   Paul Attanasio|Michael Crichton   Dec 9, 1994  Aug 27, 1997      NaN   \n",
              "7                      Giles Cooper           NaN           NaN      NaN   \n",
              "\n",
              "   box_office      runtime             studio  \n",
              "id                                             \n",
              "1         NaN  104 minutes                NaN  \n",
              "3     600,000  108 minutes  Entertainment One  \n",
              "5         NaN  116 minutes                NaN  \n",
              "6         NaN  128 minutes                NaN  \n",
              "7         NaN  200 minutes                NaN  "
            ],
            "text/html": [
              "\n",
              "  <div id=\"df-d1cdf0bd-d64b-408e-8c5c-7751a3034965\">\n",
              "    <div class=\"colab-df-container\">\n",
              "      <div>\n",
              "<style scoped>\n",
              "    .dataframe tbody tr th:only-of-type {\n",
              "        vertical-align: middle;\n",
              "    }\n",
              "\n",
              "    .dataframe tbody tr th {\n",
              "        vertical-align: top;\n",
              "    }\n",
              "\n",
              "    .dataframe thead th {\n",
              "        text-align: right;\n",
              "    }\n",
              "</style>\n",
              "<table border=\"1\" class=\"dataframe\">\n",
              "  <thead>\n",
              "    <tr style=\"text-align: right;\">\n",
              "      <th></th>\n",
              "      <th>synopsis</th>\n",
              "      <th>rating</th>\n",
              "      <th>genre</th>\n",
              "      <th>director</th>\n",
              "      <th>writer</th>\n",
              "      <th>theater_date</th>\n",
              "      <th>dvd_date</th>\n",
              "      <th>currency</th>\n",
              "      <th>box_office</th>\n",
              "      <th>runtime</th>\n",
              "      <th>studio</th>\n",
              "    </tr>\n",
              "    <tr>\n",
              "      <th>id</th>\n",
              "      <th></th>\n",
              "      <th></th>\n",
              "      <th></th>\n",
              "      <th></th>\n",
              "      <th></th>\n",
              "      <th></th>\n",
              "      <th></th>\n",
              "      <th></th>\n",
              "      <th></th>\n",
              "      <th></th>\n",
              "      <th></th>\n",
              "    </tr>\n",
              "  </thead>\n",
              "  <tbody>\n",
              "    <tr>\n",
              "      <th>1</th>\n",
              "      <td>This gritty, fast-paced, and innovative police...</td>\n",
              "      <td>R</td>\n",
              "      <td>Action and Adventure|Classics|Drama</td>\n",
              "      <td>William Friedkin</td>\n",
              "      <td>Ernest Tidyman</td>\n",
              "      <td>Oct 9, 1971</td>\n",
              "      <td>Sep 25, 2001</td>\n",
              "      <td>NaN</td>\n",
              "      <td>NaN</td>\n",
              "      <td>104 minutes</td>\n",
              "      <td>NaN</td>\n",
              "    </tr>\n",
              "    <tr>\n",
              "      <th>3</th>\n",
              "      <td>New York City, not-too-distant-future: Eric Pa...</td>\n",
              "      <td>R</td>\n",
              "      <td>Drama|Science Fiction and Fantasy</td>\n",
              "      <td>David Cronenberg</td>\n",
              "      <td>David Cronenberg|Don DeLillo</td>\n",
              "      <td>Aug 17, 2012</td>\n",
              "      <td>Jan 1, 2013</td>\n",
              "      <td>$</td>\n",
              "      <td>600,000</td>\n",
              "      <td>108 minutes</td>\n",
              "      <td>Entertainment One</td>\n",
              "    </tr>\n",
              "    <tr>\n",
              "      <th>5</th>\n",
              "      <td>Illeana Douglas delivers a superb performance ...</td>\n",
              "      <td>R</td>\n",
              "      <td>Drama|Musical and Performing Arts</td>\n",
              "      <td>Allison Anders</td>\n",
              "      <td>Allison Anders</td>\n",
              "      <td>Sep 13, 1996</td>\n",
              "      <td>Apr 18, 2000</td>\n",
              "      <td>NaN</td>\n",
              "      <td>NaN</td>\n",
              "      <td>116 minutes</td>\n",
              "      <td>NaN</td>\n",
              "    </tr>\n",
              "    <tr>\n",
              "      <th>6</th>\n",
              "      <td>Michael Douglas runs afoul of a treacherous su...</td>\n",
              "      <td>R</td>\n",
              "      <td>Drama|Mystery and Suspense</td>\n",
              "      <td>Barry Levinson</td>\n",
              "      <td>Paul Attanasio|Michael Crichton</td>\n",
              "      <td>Dec 9, 1994</td>\n",
              "      <td>Aug 27, 1997</td>\n",
              "      <td>NaN</td>\n",
              "      <td>NaN</td>\n",
              "      <td>128 minutes</td>\n",
              "      <td>NaN</td>\n",
              "    </tr>\n",
              "    <tr>\n",
              "      <th>7</th>\n",
              "      <td>NaN</td>\n",
              "      <td>NR</td>\n",
              "      <td>Drama|Romance</td>\n",
              "      <td>Rodney Bennett</td>\n",
              "      <td>Giles Cooper</td>\n",
              "      <td>NaN</td>\n",
              "      <td>NaN</td>\n",
              "      <td>NaN</td>\n",
              "      <td>NaN</td>\n",
              "      <td>200 minutes</td>\n",
              "      <td>NaN</td>\n",
              "    </tr>\n",
              "  </tbody>\n",
              "</table>\n",
              "</div>\n",
              "      <button class=\"colab-df-convert\" onclick=\"convertToInteractive('df-d1cdf0bd-d64b-408e-8c5c-7751a3034965')\"\n",
              "              title=\"Convert this dataframe to an interactive table.\"\n",
              "              style=\"display:none;\">\n",
              "        \n",
              "  <svg xmlns=\"http://www.w3.org/2000/svg\" height=\"24px\"viewBox=\"0 0 24 24\"\n",
              "       width=\"24px\">\n",
              "    <path d=\"M0 0h24v24H0V0z\" fill=\"none\"/>\n",
              "    <path d=\"M18.56 5.44l.94 2.06.94-2.06 2.06-.94-2.06-.94-.94-2.06-.94 2.06-2.06.94zm-11 1L8.5 8.5l.94-2.06 2.06-.94-2.06-.94L8.5 2.5l-.94 2.06-2.06.94zm10 10l.94 2.06.94-2.06 2.06-.94-2.06-.94-.94-2.06-.94 2.06-2.06.94z\"/><path d=\"M17.41 7.96l-1.37-1.37c-.4-.4-.92-.59-1.43-.59-.52 0-1.04.2-1.43.59L10.3 9.45l-7.72 7.72c-.78.78-.78 2.05 0 2.83L4 21.41c.39.39.9.59 1.41.59.51 0 1.02-.2 1.41-.59l7.78-7.78 2.81-2.81c.8-.78.8-2.07 0-2.86zM5.41 20L4 18.59l7.72-7.72 1.47 1.35L5.41 20z\"/>\n",
              "  </svg>\n",
              "      </button>\n",
              "      \n",
              "  <style>\n",
              "    .colab-df-container {\n",
              "      display:flex;\n",
              "      flex-wrap:wrap;\n",
              "      gap: 12px;\n",
              "    }\n",
              "\n",
              "    .colab-df-convert {\n",
              "      background-color: #E8F0FE;\n",
              "      border: none;\n",
              "      border-radius: 50%;\n",
              "      cursor: pointer;\n",
              "      display: none;\n",
              "      fill: #1967D2;\n",
              "      height: 32px;\n",
              "      padding: 0 0 0 0;\n",
              "      width: 32px;\n",
              "    }\n",
              "\n",
              "    .colab-df-convert:hover {\n",
              "      background-color: #E2EBFA;\n",
              "      box-shadow: 0px 1px 2px rgba(60, 64, 67, 0.3), 0px 1px 3px 1px rgba(60, 64, 67, 0.15);\n",
              "      fill: #174EA6;\n",
              "    }\n",
              "\n",
              "    [theme=dark] .colab-df-convert {\n",
              "      background-color: #3B4455;\n",
              "      fill: #D2E3FC;\n",
              "    }\n",
              "\n",
              "    [theme=dark] .colab-df-convert:hover {\n",
              "      background-color: #434B5C;\n",
              "      box-shadow: 0px 1px 3px 1px rgba(0, 0, 0, 0.15);\n",
              "      filter: drop-shadow(0px 1px 2px rgba(0, 0, 0, 0.3));\n",
              "      fill: #FFFFFF;\n",
              "    }\n",
              "  </style>\n",
              "\n",
              "      <script>\n",
              "        const buttonEl =\n",
              "          document.querySelector('#df-d1cdf0bd-d64b-408e-8c5c-7751a3034965 button.colab-df-convert');\n",
              "        buttonEl.style.display =\n",
              "          google.colab.kernel.accessAllowed ? 'block' : 'none';\n",
              "\n",
              "        async function convertToInteractive(key) {\n",
              "          const element = document.querySelector('#df-d1cdf0bd-d64b-408e-8c5c-7751a3034965');\n",
              "          const dataTable =\n",
              "            await google.colab.kernel.invokeFunction('convertToInteractive',\n",
              "                                                     [key], {});\n",
              "          if (!dataTable) return;\n",
              "\n",
              "          const docLinkHtml = 'Like what you see? Visit the ' +\n",
              "            '<a target=\"_blank\" href=https://colab.research.google.com/notebooks/data_table.ipynb>data table notebook</a>'\n",
              "            + ' to learn more about interactive tables.';\n",
              "          element.innerHTML = '';\n",
              "          dataTable['output_type'] = 'display_data';\n",
              "          await google.colab.output.renderOutput(dataTable, element);\n",
              "          const docLink = document.createElement('div');\n",
              "          docLink.innerHTML = docLinkHtml;\n",
              "          element.appendChild(docLink);\n",
              "        }\n",
              "      </script>\n",
              "    </div>\n",
              "  </div>\n",
              "  "
            ]
          },
          "metadata": {},
          "execution_count": 3
        }
      ]
    },
    {
      "cell_type": "code",
      "source": [
        "#movie_rating = movie_information.pivot(index='synopsis', columns='director', values='currency')\n",
        "#movie_rating.head()"
      ],
      "metadata": {
        "id": "7Ksp5vyOkIvx"
      },
      "execution_count": 4,
      "outputs": []
    },
    {
      "cell_type": "markdown",
      "source": [
        "Conduct some data Exploratory data analysis."
      ],
      "metadata": {
        "id": "09P8bwxEioQw"
      }
    },
    {
      "cell_type": "code",
      "source": [
        "movie_information.shape"
      ],
      "metadata": {
        "colab": {
          "base_uri": "https://localhost:8080/"
        },
        "id": "cQ6IrgDIRAsY",
        "outputId": "bd41bf72-9eca-4b29-ec75-f63f8ee07434"
      },
      "execution_count": 5,
      "outputs": [
        {
          "output_type": "execute_result",
          "data": {
            "text/plain": [
              "(1560, 11)"
            ]
          },
          "metadata": {},
          "execution_count": 5
        }
      ]
    },
    {
      "cell_type": "code",
      "source": [
        "movie_information.describe()"
      ],
      "metadata": {
        "colab": {
          "base_uri": "https://localhost:8080/",
          "height": 236
        },
        "id": "nnugIpggAwJW",
        "outputId": "fc8c075a-83bf-44e0-dfbf-f669c85bdd9d"
      },
      "execution_count": 6,
      "outputs": [
        {
          "output_type": "execute_result",
          "data": {
            "text/plain": [
              "                                                 synopsis rating  genre  \\\n",
              "count                                                1498   1557   1552   \n",
              "unique                                               1497      6    299   \n",
              "top     A group of air crash survivors are stranded in...      R  Drama   \n",
              "freq                                                    2    521    151   \n",
              "\n",
              "                director       writer theater_date     dvd_date currency  \\\n",
              "count               1361         1111         1201         1201      340   \n",
              "unique              1125         1069         1025          717        1   \n",
              "top     Steven Spielberg  Woody Allen  Jan 1, 1987  Jun 1, 2004        $   \n",
              "freq                  10            4            8           11      340   \n",
              "\n",
              "       box_office     runtime              studio  \n",
              "count         340        1530                 494  \n",
              "unique        336         142                 200  \n",
              "top       600,000  90 minutes  Universal Pictures  \n",
              "freq            2          72                  35  "
            ],
            "text/html": [
              "\n",
              "  <div id=\"df-31f66c4d-cea7-4108-8a77-06ff66b246e4\">\n",
              "    <div class=\"colab-df-container\">\n",
              "      <div>\n",
              "<style scoped>\n",
              "    .dataframe tbody tr th:only-of-type {\n",
              "        vertical-align: middle;\n",
              "    }\n",
              "\n",
              "    .dataframe tbody tr th {\n",
              "        vertical-align: top;\n",
              "    }\n",
              "\n",
              "    .dataframe thead th {\n",
              "        text-align: right;\n",
              "    }\n",
              "</style>\n",
              "<table border=\"1\" class=\"dataframe\">\n",
              "  <thead>\n",
              "    <tr style=\"text-align: right;\">\n",
              "      <th></th>\n",
              "      <th>synopsis</th>\n",
              "      <th>rating</th>\n",
              "      <th>genre</th>\n",
              "      <th>director</th>\n",
              "      <th>writer</th>\n",
              "      <th>theater_date</th>\n",
              "      <th>dvd_date</th>\n",
              "      <th>currency</th>\n",
              "      <th>box_office</th>\n",
              "      <th>runtime</th>\n",
              "      <th>studio</th>\n",
              "    </tr>\n",
              "  </thead>\n",
              "  <tbody>\n",
              "    <tr>\n",
              "      <th>count</th>\n",
              "      <td>1498</td>\n",
              "      <td>1557</td>\n",
              "      <td>1552</td>\n",
              "      <td>1361</td>\n",
              "      <td>1111</td>\n",
              "      <td>1201</td>\n",
              "      <td>1201</td>\n",
              "      <td>340</td>\n",
              "      <td>340</td>\n",
              "      <td>1530</td>\n",
              "      <td>494</td>\n",
              "    </tr>\n",
              "    <tr>\n",
              "      <th>unique</th>\n",
              "      <td>1497</td>\n",
              "      <td>6</td>\n",
              "      <td>299</td>\n",
              "      <td>1125</td>\n",
              "      <td>1069</td>\n",
              "      <td>1025</td>\n",
              "      <td>717</td>\n",
              "      <td>1</td>\n",
              "      <td>336</td>\n",
              "      <td>142</td>\n",
              "      <td>200</td>\n",
              "    </tr>\n",
              "    <tr>\n",
              "      <th>top</th>\n",
              "      <td>A group of air crash survivors are stranded in...</td>\n",
              "      <td>R</td>\n",
              "      <td>Drama</td>\n",
              "      <td>Steven Spielberg</td>\n",
              "      <td>Woody Allen</td>\n",
              "      <td>Jan 1, 1987</td>\n",
              "      <td>Jun 1, 2004</td>\n",
              "      <td>$</td>\n",
              "      <td>600,000</td>\n",
              "      <td>90 minutes</td>\n",
              "      <td>Universal Pictures</td>\n",
              "    </tr>\n",
              "    <tr>\n",
              "      <th>freq</th>\n",
              "      <td>2</td>\n",
              "      <td>521</td>\n",
              "      <td>151</td>\n",
              "      <td>10</td>\n",
              "      <td>4</td>\n",
              "      <td>8</td>\n",
              "      <td>11</td>\n",
              "      <td>340</td>\n",
              "      <td>2</td>\n",
              "      <td>72</td>\n",
              "      <td>35</td>\n",
              "    </tr>\n",
              "  </tbody>\n",
              "</table>\n",
              "</div>\n",
              "      <button class=\"colab-df-convert\" onclick=\"convertToInteractive('df-31f66c4d-cea7-4108-8a77-06ff66b246e4')\"\n",
              "              title=\"Convert this dataframe to an interactive table.\"\n",
              "              style=\"display:none;\">\n",
              "        \n",
              "  <svg xmlns=\"http://www.w3.org/2000/svg\" height=\"24px\"viewBox=\"0 0 24 24\"\n",
              "       width=\"24px\">\n",
              "    <path d=\"M0 0h24v24H0V0z\" fill=\"none\"/>\n",
              "    <path d=\"M18.56 5.44l.94 2.06.94-2.06 2.06-.94-2.06-.94-.94-2.06-.94 2.06-2.06.94zm-11 1L8.5 8.5l.94-2.06 2.06-.94-2.06-.94L8.5 2.5l-.94 2.06-2.06.94zm10 10l.94 2.06.94-2.06 2.06-.94-2.06-.94-.94-2.06-.94 2.06-2.06.94z\"/><path d=\"M17.41 7.96l-1.37-1.37c-.4-.4-.92-.59-1.43-.59-.52 0-1.04.2-1.43.59L10.3 9.45l-7.72 7.72c-.78.78-.78 2.05 0 2.83L4 21.41c.39.39.9.59 1.41.59.51 0 1.02-.2 1.41-.59l7.78-7.78 2.81-2.81c.8-.78.8-2.07 0-2.86zM5.41 20L4 18.59l7.72-7.72 1.47 1.35L5.41 20z\"/>\n",
              "  </svg>\n",
              "      </button>\n",
              "      \n",
              "  <style>\n",
              "    .colab-df-container {\n",
              "      display:flex;\n",
              "      flex-wrap:wrap;\n",
              "      gap: 12px;\n",
              "    }\n",
              "\n",
              "    .colab-df-convert {\n",
              "      background-color: #E8F0FE;\n",
              "      border: none;\n",
              "      border-radius: 50%;\n",
              "      cursor: pointer;\n",
              "      display: none;\n",
              "      fill: #1967D2;\n",
              "      height: 32px;\n",
              "      padding: 0 0 0 0;\n",
              "      width: 32px;\n",
              "    }\n",
              "\n",
              "    .colab-df-convert:hover {\n",
              "      background-color: #E2EBFA;\n",
              "      box-shadow: 0px 1px 2px rgba(60, 64, 67, 0.3), 0px 1px 3px 1px rgba(60, 64, 67, 0.15);\n",
              "      fill: #174EA6;\n",
              "    }\n",
              "\n",
              "    [theme=dark] .colab-df-convert {\n",
              "      background-color: #3B4455;\n",
              "      fill: #D2E3FC;\n",
              "    }\n",
              "\n",
              "    [theme=dark] .colab-df-convert:hover {\n",
              "      background-color: #434B5C;\n",
              "      box-shadow: 0px 1px 3px 1px rgba(0, 0, 0, 0.15);\n",
              "      filter: drop-shadow(0px 1px 2px rgba(0, 0, 0, 0.3));\n",
              "      fill: #FFFFFF;\n",
              "    }\n",
              "  </style>\n",
              "\n",
              "      <script>\n",
              "        const buttonEl =\n",
              "          document.querySelector('#df-31f66c4d-cea7-4108-8a77-06ff66b246e4 button.colab-df-convert');\n",
              "        buttonEl.style.display =\n",
              "          google.colab.kernel.accessAllowed ? 'block' : 'none';\n",
              "\n",
              "        async function convertToInteractive(key) {\n",
              "          const element = document.querySelector('#df-31f66c4d-cea7-4108-8a77-06ff66b246e4');\n",
              "          const dataTable =\n",
              "            await google.colab.kernel.invokeFunction('convertToInteractive',\n",
              "                                                     [key], {});\n",
              "          if (!dataTable) return;\n",
              "\n",
              "          const docLinkHtml = 'Like what you see? Visit the ' +\n",
              "            '<a target=\"_blank\" href=https://colab.research.google.com/notebooks/data_table.ipynb>data table notebook</a>'\n",
              "            + ' to learn more about interactive tables.';\n",
              "          element.innerHTML = '';\n",
              "          dataTable['output_type'] = 'display_data';\n",
              "          await google.colab.output.renderOutput(dataTable, element);\n",
              "          const docLink = document.createElement('div');\n",
              "          docLink.innerHTML = docLinkHtml;\n",
              "          element.appendChild(docLink);\n",
              "        }\n",
              "      </script>\n",
              "    </div>\n",
              "  </div>\n",
              "  "
            ]
          },
          "metadata": {},
          "execution_count": 6
        }
      ]
    },
    {
      "cell_type": "code",
      "source": [
        "movie_information.duplicated().value_counts()"
      ],
      "metadata": {
        "colab": {
          "base_uri": "https://localhost:8080/"
        },
        "id": "XfaMIDIblYUq",
        "outputId": "9a9b2f24-b4d9-420b-d5be-47e576eabcbf"
      },
      "execution_count": 7,
      "outputs": [
        {
          "output_type": "execute_result",
          "data": {
            "text/plain": [
              "False    1556\n",
              "True        4\n",
              "dtype: int64"
            ]
          },
          "metadata": {},
          "execution_count": 7
        }
      ]
    },
    {
      "cell_type": "code",
      "source": [
        "# Convert the theater_date to datetime\n",
        "movie_information['theater_date'] =  pd.to_datetime(movie_information['theater_date'])\n",
        "movie_information['theater_date'].describe()"
      ],
      "metadata": {
        "colab": {
          "base_uri": "https://localhost:8080/"
        },
        "id": "BdJeMaJim-Sq",
        "outputId": "48934fa9-a18d-4521-dc60-85e64e4a8477"
      },
      "execution_count": 8,
      "outputs": [
        {
          "output_type": "stream",
          "name": "stderr",
          "text": [
            "<ipython-input-8-86242a280f5e>:2: FutureWarning: Treating datetime data as categorical rather than numeric in `.describe` is deprecated and will be removed in a future version of pandas. Specify `datetime_is_numeric=True` to silence this warning and adopt the future behavior now.\n",
            "  movie_information['theater_date'].describe()\n"
          ]
        },
        {
          "output_type": "execute_result",
          "data": {
            "text/plain": [
              "count                    1201\n",
              "unique                   1025\n",
              "top       1987-01-01 00:00:00\n",
              "freq                        8\n",
              "first     1921-01-01 00:00:00\n",
              "last      2018-10-19 00:00:00\n",
              "Name: theater_date, dtype: object"
            ]
          },
          "metadata": {},
          "execution_count": 8
        }
      ]
    },
    {
      "cell_type": "markdown",
      "source": [
        "Explore the Director column to understand the top talents."
      ],
      "metadata": {
        "id": "UBV-iIK0baqB"
      }
    },
    {
      "cell_type": "code",
      "source": [
        "\n",
        "top_director = movie_information[\"director\"].unique()[:10]\n",
        "\n",
        "top_director_counts = movie_information[\"director\"].value_counts().nlargest(10).tolist()\n",
        "\n",
        "#print(\"Genre:\", top_genre)\n",
        "#print(\"Counts:\", top_genre_counts)\n",
        "\n",
        "#sns.barplot(data = movie_information, y = top_director_counts, x = top_director )\n",
        "\n",
        "y= top_director\n",
        " \n",
        "# getting values against each value of y\n",
        "x= top_director_counts\n",
        "plt.barh(y, x , color = 'blue' , alpha =0.75)\n",
        "\n",
        " \n",
        "# setting label of y-axis\n",
        "plt.ylabel(\"Count of movie Releases \")\n",
        " \n",
        "# setting label of x-axis\n",
        "plt.xlabel(\"Counts\")\n",
        "plt.title(\"Top 10 Active Movie Directors (No.Releases)\")\n",
        "plt.show()"
      ],
      "metadata": {
        "colab": {
          "base_uri": "https://localhost:8080/",
          "height": 472
        },
        "id": "hyYwGOJ9q0iQ",
        "outputId": "9c1ec19f-0da7-4c06-c8b7-a64baca21b9a"
      },
      "execution_count": 9,
      "outputs": [
        {
          "output_type": "display_data",
          "data": {
            "text/plain": [
              "<Figure size 640x480 with 1 Axes>"
            ],
            "image/png": "[encoded data removed]"
          },
          "metadata": {}
        }
      ]
    },
    {
      "cell_type": "markdown",
      "source": [],
      "metadata": {
        "id": "smgM7clQbYpy"
      }
    },
    {
      "cell_type": "code",
      "source": [
        "movie_information.groupby('rating')['director'].sum()\n",
        "print(movie_information.groupby('rating')['director'].sum())"
      ],
      "metadata": {
        "colab": {
          "base_uri": "https://localhost:8080/"
        },
        "id": "24aIU9jY4fOR",
        "outputId": "a86552cd-9282-4eff-86e8-3496ae478827"
      },
      "execution_count": 67,
      "outputs": [
        {
          "output_type": "stream",
          "name": "stdout",
          "text": [
            "rating\n",
            "G        Roy RowlandJohn LasseterMichael RubboLeo McCar...\n",
            "NC17                                           John Waters\n",
            "NR       Rodney BennettWilliam WellmanEdward DmytrykTer...\n",
            "PG       Jay RussellRick RosenthalMartyn BurkeSteve Boy...\n",
            "PG-13    Jake KasdanFrank MarshallWilliam FriedkinCarl ...\n",
            "R        William FriedkinDavid CronenbergAllison Anders...\n",
            "Name: director, dtype: object\n"
          ]
        }
      ]
    },
    {
      "cell_type": "code",
      "source": [
        "#Check on the missing data. \n",
        "movie_information.isna().sum()"
      ],
      "metadata": {
        "colab": {
          "base_uri": "https://localhost:8080/"
        },
        "id": "5sVOViZTeAE9",
        "outputId": "9edc7832-9097-4c25-eef2-57da85b690ad"
      },
      "execution_count": 11,
      "outputs": [
        {
          "output_type": "execute_result",
          "data": {
            "text/plain": [
              "synopsis          62\n",
              "rating             3\n",
              "genre              8\n",
              "director         199\n",
              "writer           449\n",
              "theater_date     359\n",
              "dvd_date         359\n",
              "currency        1220\n",
              "box_office      1220\n",
              "runtime           30\n",
              "studio          1066\n",
              "dtype: int64"
            ]
          },
          "metadata": {},
          "execution_count": 11
        }
      ]
    },
    {
      "cell_type": "markdown",
      "source": [
        "Identify the relevant columns for your analysis and create a new dataframe."
      ],
      "metadata": {
        "id": "gaKSS7iNgvdx"
      }
    },
    {
      "cell_type": "code",
      "source": [
        "relevant_columns=['rating','genre','runtime','director','theater_date']"
      ],
      "metadata": {
        "id": "xGErkNXHi1NS"
      },
      "execution_count": 12,
      "outputs": []
    },
    {
      "cell_type": "code",
      "source": [
        "#create a new dataframe and check for missing data.\n",
        "summary_columns = movie_information[relevant_columns]\n",
        "summary_columns.isna().describe"
      ],
      "metadata": {
        "colab": {
          "base_uri": "https://localhost:8080/"
        },
        "id": "_fA7a6WavwxJ",
        "outputId": "790112f4-d53f-48f8-c988-0a20b7e70861"
      },
      "execution_count": 13,
      "outputs": [
        {
          "output_type": "execute_result",
          "data": {
            "text/plain": [
              "<bound method NDFrame.describe of       rating  genre  runtime  director  theater_date\n",
              "id                                                  \n",
              "1      False  False    False     False         False\n",
              "3      False  False    False     False         False\n",
              "5      False  False    False     False         False\n",
              "6      False  False    False     False         False\n",
              "7      False  False    False     False          True\n",
              "...      ...    ...      ...       ...           ...\n",
              "1996   False  False    False      True         False\n",
              "1997   False  False    False     False         False\n",
              "1998   False  False    False     False         False\n",
              "1999   False  False    False     False         False\n",
              "2000   False  False    False      True         False\n",
              "\n",
              "[1560 rows x 5 columns]>"
            ]
          },
          "metadata": {},
          "execution_count": 13
        }
      ]
    },
    {
      "cell_type": "code",
      "source": [
        "#Drop data from rows with NAN values from the selected columns in the new dataframe\n",
        "clean_columns_mov_info = summary_columns.dropna(axis =0,subset =['director','theater_date','runtime'])"
      ],
      "metadata": {
        "id": "4OJNtNZ0HC4y"
      },
      "execution_count": 14,
      "outputs": []
    },
    {
      "cell_type": "code",
      "source": [
        "#Check the significance difference after dropping.\n",
        "clean_columns_mov_info.shape"
      ],
      "metadata": {
        "colab": {
          "base_uri": "https://localhost:8080/"
        },
        "id": "YagtCgKTIMDj",
        "outputId": "fb678d8d-f4c0-41e9-f6c0-7b11988f61f8"
      },
      "execution_count": 15,
      "outputs": [
        {
          "output_type": "execute_result",
          "data": {
            "text/plain": [
              "(1076, 5)"
            ]
          },
          "metadata": {},
          "execution_count": 15
        }
      ]
    },
    {
      "cell_type": "code",
      "source": [
        "#summary_columns\n",
        "#import datetime\n",
        "#Split the theater date columns into %dd%mm%yy and add to the new dataframe- convert the running time to hours\n",
        "clean_columns_mov_info['month'] = clean_columns_mov_info['theater_date'].dt.month\n",
        "clean_columns_mov_info['year'] = clean_columns_mov_info['theater_date'].dt.year\n",
        "clean_columns_mov_info['date'] = clean_columns_mov_info['theater_date'].dt.day\n",
        "clean_columns_mov_info['day_week'] = clean_columns_mov_info['theater_date'].dt.day_name()\n",
        "clean_columns_mov_info[['hours', 'time_unit']] = clean_columns_mov_info[\"runtime\"].apply(lambda x: pd.Series(str(x).split(\" \")))\n",
        "clean_columns_mov_info[[\"hours\"]] = clean_columns_mov_info[[\"hours\"]].apply(pd.to_numeric)/60\n",
        "clean_columns_mov_info"
      ],
      "metadata": {
        "id": "s9fRaKWfwdPw",
        "colab": {
          "base_uri": "https://localhost:8080/",
          "height": 1000
        },
        "outputId": "e8f77e89-4dd7-448a-a7b4-a201c33ab6fd"
      },
      "execution_count": 16,
      "outputs": [
        {
          "output_type": "stream",
          "name": "stderr",
          "text": [
            "<ipython-input-16-9c27a1aee98c>:4: SettingWithCopyWarning: \n",
            "A value is trying to be set on a copy of a slice from a DataFrame.\n",
            "Try using .loc[row_indexer,col_indexer] = value instead\n",
            "\n",
            "See the caveats in the documentation: https://pandas.pydata.org/pandas-docs/stable/user_guide/indexing.html#returning-a-view-versus-a-copy\n",
            "  clean_columns_mov_info['month'] = clean_columns_mov_info['theater_date'].dt.month\n",
            "<ipython-input-16-9c27a1aee98c>:5: SettingWithCopyWarning: \n",
            "A value is trying to be set on a copy of a slice from a DataFrame.\n",
            "Try using .loc[row_indexer,col_indexer] = value instead\n",
            "\n",
            "See the caveats in the documentation: https://pandas.pydata.org/pandas-docs/stable/user_guide/indexing.html#returning-a-view-versus-a-copy\n",
            "  clean_columns_mov_info['year'] = clean_columns_mov_info['theater_date'].dt.year\n",
            "<ipython-input-16-9c27a1aee98c>:6: SettingWithCopyWarning: \n",
            "A value is trying to be set on a copy of a slice from a DataFrame.\n",
            "Try using .loc[row_indexer,col_indexer] = value instead\n",
            "\n",
            "See the caveats in the documentation: https://pandas.pydata.org/pandas-docs/stable/user_guide/indexing.html#returning-a-view-versus-a-copy\n",
            "  clean_columns_mov_info['date'] = clean_columns_mov_info['theater_date'].dt.day\n",
            "<ipython-input-16-9c27a1aee98c>:7: SettingWithCopyWarning: \n",
            "A value is trying to be set on a copy of a slice from a DataFrame.\n",
            "Try using .loc[row_indexer,col_indexer] = value instead\n",
            "\n",
            "See the caveats in the documentation: https://pandas.pydata.org/pandas-docs/stable/user_guide/indexing.html#returning-a-view-versus-a-copy\n",
            "  clean_columns_mov_info['day_week'] = clean_columns_mov_info['theater_date'].dt.day_name()\n",
            "<ipython-input-16-9c27a1aee98c>:8: SettingWithCopyWarning: \n",
            "A value is trying to be set on a copy of a slice from a DataFrame.\n",
            "Try using .loc[row_indexer,col_indexer] = value instead\n",
            "\n",
            "See the caveats in the documentation: https://pandas.pydata.org/pandas-docs/stable/user_guide/indexing.html#returning-a-view-versus-a-copy\n",
            "  clean_columns_mov_info[['hours', 'time_unit']] = clean_columns_mov_info[\"runtime\"].apply(lambda x: pd.Series(str(x).split(\" \")))\n",
            "<ipython-input-16-9c27a1aee98c>:8: SettingWithCopyWarning: \n",
            "A value is trying to be set on a copy of a slice from a DataFrame.\n",
            "Try using .loc[row_indexer,col_indexer] = value instead\n",
            "\n",
            "See the caveats in the documentation: https://pandas.pydata.org/pandas-docs/stable/user_guide/indexing.html#returning-a-view-versus-a-copy\n",
            "  clean_columns_mov_info[['hours', 'time_unit']] = clean_columns_mov_info[\"runtime\"].apply(lambda x: pd.Series(str(x).split(\" \")))\n",
            "<ipython-input-16-9c27a1aee98c>:9: SettingWithCopyWarning: \n",
            "A value is trying to be set on a copy of a slice from a DataFrame.\n",
            "Try using .loc[row_indexer,col_indexer] = value instead\n",
            "\n",
            "See the caveats in the documentation: https://pandas.pydata.org/pandas-docs/stable/user_guide/indexing.html#returning-a-view-versus-a-copy\n",
            "  clean_columns_mov_info[[\"hours\"]] = clean_columns_mov_info[[\"hours\"]].apply(pd.to_numeric)/60\n"
          ]
        },
        {
          "output_type": "execute_result",
          "data": {
            "text/plain": [
              "     rating                                              genre      runtime  \\\n",
              "id                                                                            \n",
              "1         R                Action and Adventure|Classics|Drama  104 minutes   \n",
              "3         R                  Drama|Science Fiction and Fantasy  108 minutes   \n",
              "5         R                  Drama|Musical and Performing Arts  116 minutes   \n",
              "6         R                         Drama|Mystery and Suspense  128 minutes   \n",
              "8        PG                              Drama|Kids and Family   95 minutes   \n",
              "...     ...                                                ...          ...   \n",
              "1993     PG                                             Comedy   95 minutes   \n",
              "1995  PG-13                Action and Adventure|Comedy|Western  107 minutes   \n",
              "1997     PG                 Comedy|Science Fiction and Fantasy   88 minutes   \n",
              "1998      G  Classics|Comedy|Drama|Musical and Performing Arts  111 minutes   \n",
              "1999     PG    Comedy|Drama|Kids and Family|Sports and Fitness  101 minutes   \n",
              "\n",
              "                director theater_date  month  year  date   day_week     hours  \\\n",
              "id                                                                              \n",
              "1       William Friedkin   1971-10-09     10  1971     9   Saturday  1.733333   \n",
              "3       David Cronenberg   2012-08-17      8  2012    17     Friday  1.800000   \n",
              "5         Allison Anders   1996-09-13      9  1996    13     Friday  1.933333   \n",
              "6         Barry Levinson   1994-12-09     12  1994     9     Friday  2.133333   \n",
              "8            Jay Russell   2000-03-03      3  2000     3     Friday  1.583333   \n",
              "...                  ...          ...    ...   ...   ...        ...       ...   \n",
              "1993        James Lapine   1993-06-04      6  1993     4     Friday  1.583333   \n",
              "1995    Barry Sonnenfeld   1999-06-30      6  1999    30  Wednesday  1.783333   \n",
              "1997        Steve Barron   1993-07-23      7  1993    23     Friday  1.466667   \n",
              "1998      Gordon Douglas   1962-01-01      1  1962     1     Monday  1.850000   \n",
              "1999  David Mickey Evans   1993-04-01      4  1993     1   Thursday  1.683333   \n",
              "\n",
              "     time_unit  \n",
              "id              \n",
              "1      minutes  \n",
              "3      minutes  \n",
              "5      minutes  \n",
              "6      minutes  \n",
              "8      minutes  \n",
              "...        ...  \n",
              "1993   minutes  \n",
              "1995   minutes  \n",
              "1997   minutes  \n",
              "1998   minutes  \n",
              "1999   minutes  \n",
              "\n",
              "[1076 rows x 11 columns]"
            ],
            "text/html": [
              "\n",
              "  <div id=\"df-8dbd7acd-49f7-4892-9131-44b81c1786a8\">\n",
              "    <div class=\"colab-df-container\">\n",
              "      <div>\n",
              "<style scoped>\n",
              "    .dataframe tbody tr th:only-of-type {\n",
              "        vertical-align: middle;\n",
              "    }\n",
              "\n",
              "    .dataframe tbody tr th {\n",
              "        vertical-align: top;\n",
              "    }\n",
              "\n",
              "    .dataframe thead th {\n",
              "        text-align: right;\n",
              "    }\n",
              "</style>\n",
              "<table border=\"1\" class=\"dataframe\">\n",
              "  <thead>\n",
              "    <tr style=\"text-align: right;\">\n",
              "      <th></th>\n",
              "      <th>rating</th>\n",
              "      <th>genre</th>\n",
              "      <th>runtime</th>\n",
              "      <th>director</th>\n",
              "      <th>theater_date</th>\n",
              "      <th>month</th>\n",
              "      <th>year</th>\n",
              "      <th>date</th>\n",
              "      <th>day_week</th>\n",
              "      <th>hours</th>\n",
              "      <th>time_unit</th>\n",
              "    </tr>\n",
              "    <tr>\n",
              "      <th>id</th>\n",
              "      <th></th>\n",
              "      <th></th>\n",
              "      <th></th>\n",
              "      <th></th>\n",
              "      <th></th>\n",
              "      <th></th>\n",
              "      <th></th>\n",
              "      <th></th>\n",
              "      <th></th>\n",
              "      <th></th>\n",
              "      <th></th>\n",
              "    </tr>\n",
              "  </thead>\n",
              "  <tbody>\n",
              "    <tr>\n",
              "      <th>1</th>\n",
              "      <td>R</td>\n",
              "      <td>Action and Adventure|Classics|Drama</td>\n",
              "      <td>104 minutes</td>\n",
              "      <td>William Friedkin</td>\n",
              "      <td>1971-10-09</td>\n",
              "      <td>10</td>\n",
              "      <td>1971</td>\n",
              "      <td>9</td>\n",
              "      <td>Saturday</td>\n",
              "      <td>1.733333</td>\n",
              "      <td>minutes</td>\n",
              "    </tr>\n",
              "    <tr>\n",
              "      <th>3</th>\n",
              "      <td>R</td>\n",
              "      <td>Drama|Science Fiction and Fantasy</td>\n",
              "      <td>108 minutes</td>\n",
              "      <td>David Cronenberg</td>\n",
              "      <td>2012-08-17</td>\n",
              "      <td>8</td>\n",
              "      <td>2012</td>\n",
              "      <td>17</td>\n",
              "      <td>Friday</td>\n",
              "      <td>1.800000</td>\n",
              "      <td>minutes</td>\n",
              "    </tr>\n",
              "    <tr>\n",
              "      <th>5</th>\n",
              "      <td>R</td>\n",
              "      <td>Drama|Musical and Performing Arts</td>\n",
              "      <td>116 minutes</td>\n",
              "      <td>Allison Anders</td>\n",
              "      <td>1996-09-13</td>\n",
              "      <td>9</td>\n",
              "      <td>1996</td>\n",
              "      <td>13</td>\n",
              "      <td>Friday</td>\n",
              "      <td>1.933333</td>\n",
              "      <td>minutes</td>\n",
              "    </tr>\n",
              "    <tr>\n",
              "      <th>6</th>\n",
              "      <td>R</td>\n",
              "      <td>Drama|Mystery and Suspense</td>\n",
              "      <td>128 minutes</td>\n",
              "      <td>Barry Levinson</td>\n",
              "      <td>1994-12-09</td>\n",
              "      <td>12</td>\n",
              "      <td>1994</td>\n",
              "      <td>9</td>\n",
              "      <td>Friday</td>\n",
              "      <td>2.133333</td>\n",
              "      <td>minutes</td>\n",
              "    </tr>\n",
              "    <tr>\n",
              "      <th>8</th>\n",
              "      <td>PG</td>\n",
              "      <td>Drama|Kids and Family</td>\n",
              "      <td>95 minutes</td>\n",
              "      <td>Jay Russell</td>\n",
              "      <td>2000-03-03</td>\n",
              "      <td>3</td>\n",
              "      <td>2000</td>\n",
              "      <td>3</td>\n",
              "      <td>Friday</td>\n",
              "      <td>1.583333</td>\n",
              "      <td>minutes</td>\n",
              "    </tr>\n",
              "    <tr>\n",
              "      <th>...</th>\n",
              "      <td>...</td>\n",
              "      <td>...</td>\n",
              "      <td>...</td>\n",
              "      <td>...</td>\n",
              "      <td>...</td>\n",
              "      <td>...</td>\n",
              "      <td>...</td>\n",
              "      <td>...</td>\n",
              "      <td>...</td>\n",
              "      <td>...</td>\n",
              "      <td>...</td>\n",
              "    </tr>\n",
              "    <tr>\n",
              "      <th>1993</th>\n",
              "      <td>PG</td>\n",
              "      <td>Comedy</td>\n",
              "      <td>95 minutes</td>\n",
              "      <td>James Lapine</td>\n",
              "      <td>1993-06-04</td>\n",
              "      <td>6</td>\n",
              "      <td>1993</td>\n",
              "      <td>4</td>\n",
              "      <td>Friday</td>\n",
              "      <td>1.583333</td>\n",
              "      <td>minutes</td>\n",
              "    </tr>\n",
              "    <tr>\n",
              "      <th>1995</th>\n",
              "      <td>PG-13</td>\n",
              "      <td>Action and Adventure|Comedy|Western</td>\n",
              "      <td>107 minutes</td>\n",
              "      <td>Barry Sonnenfeld</td>\n",
              "      <td>1999-06-30</td>\n",
              "      <td>6</td>\n",
              "      <td>1999</td>\n",
              "      <td>30</td>\n",
              "      <td>Wednesday</td>\n",
              "      <td>1.783333</td>\n",
              "      <td>minutes</td>\n",
              "    </tr>\n",
              "    <tr>\n",
              "      <th>1997</th>\n",
              "      <td>PG</td>\n",
              "      <td>Comedy|Science Fiction and Fantasy</td>\n",
              "      <td>88 minutes</td>\n",
              "      <td>Steve Barron</td>\n",
              "      <td>1993-07-23</td>\n",
              "      <td>7</td>\n",
              "      <td>1993</td>\n",
              "      <td>23</td>\n",
              "      <td>Friday</td>\n",
              "      <td>1.466667</td>\n",
              "      <td>minutes</td>\n",
              "    </tr>\n",
              "    <tr>\n",
              "      <th>1998</th>\n",
              "      <td>G</td>\n",
              "      <td>Classics|Comedy|Drama|Musical and Performing Arts</td>\n",
              "      <td>111 minutes</td>\n",
              "      <td>Gordon Douglas</td>\n",
              "      <td>1962-01-01</td>\n",
              "      <td>1</td>\n",
              "      <td>1962</td>\n",
              "      <td>1</td>\n",
              "      <td>Monday</td>\n",
              "      <td>1.850000</td>\n",
              "      <td>minutes</td>\n",
              "    </tr>\n",
              "    <tr>\n",
              "      <th>1999</th>\n",
              "      <td>PG</td>\n",
              "      <td>Comedy|Drama|Kids and Family|Sports and Fitness</td>\n",
              "      <td>101 minutes</td>\n",
              "      <td>David Mickey Evans</td>\n",
              "      <td>1993-04-01</td>\n",
              "      <td>4</td>\n",
              "      <td>1993</td>\n",
              "      <td>1</td>\n",
              "      <td>Thursday</td>\n",
              "      <td>1.683333</td>\n",
              "      <td>minutes</td>\n",
              "    </tr>\n",
              "  </tbody>\n",
              "</table>\n",
              "<p>1076 rows × 11 columns</p>\n",
              "</div>\n",
              "      <button class=\"colab-df-convert\" onclick=\"convertToInteractive('df-8dbd7acd-49f7-4892-9131-44b81c1786a8')\"\n",
              "              title=\"Convert this dataframe to an interactive table.\"\n",
              "              style=\"display:none;\">\n",
              "        \n",
              "  <svg xmlns=\"http://www.w3.org/2000/svg\" height=\"24px\"viewBox=\"0 0 24 24\"\n",
              "       width=\"24px\">\n",
              "    <path d=\"M0 0h24v24H0V0z\" fill=\"none\"/>\n",
              "    <path d=\"M18.56 5.44l.94 2.06.94-2.06 2.06-.94-2.06-.94-.94-2.06-.94 2.06-2.06.94zm-11 1L8.5 8.5l.94-2.06 2.06-.94-2.06-.94L8.5 2.5l-.94 2.06-2.06.94zm10 10l.94 2.06.94-2.06 2.06-.94-2.06-.94-.94-2.06-.94 2.06-2.06.94z\"/><path d=\"M17.41 7.96l-1.37-1.37c-.4-.4-.92-.59-1.43-.59-.52 0-1.04.2-1.43.59L10.3 9.45l-7.72 7.72c-.78.78-.78 2.05 0 2.83L4 21.41c.39.39.9.59 1.41.59.51 0 1.02-.2 1.41-.59l7.78-7.78 2.81-2.81c.8-.78.8-2.07 0-2.86zM5.41 20L4 18.59l7.72-7.72 1.47 1.35L5.41 20z\"/>\n",
              "  </svg>\n",
              "      </button>\n",
              "      \n",
              "  <style>\n",
              "    .colab-df-container {\n",
              "      display:flex;\n",
              "      flex-wrap:wrap;\n",
              "      gap: 12px;\n",
              "    }\n",
              "\n",
              "    .colab-df-convert {\n",
              "      background-color: #E8F0FE;\n",
              "      border: none;\n",
              "      border-radius: 50%;\n",
              "      cursor: pointer;\n",
              "      display: none;\n",
              "      fill: #1967D2;\n",
              "      height: 32px;\n",
              "      padding: 0 0 0 0;\n",
              "      width: 32px;\n",
              "    }\n",
              "\n",
              "    .colab-df-convert:hover {\n",
              "      background-color: #E2EBFA;\n",
              "      box-shadow: 0px 1px 2px rgba(60, 64, 67, 0.3), 0px 1px 3px 1px rgba(60, 64, 67, 0.15);\n",
              "      fill: #174EA6;\n",
              "    }\n",
              "\n",
              "    [theme=dark] .colab-df-convert {\n",
              "      background-color: #3B4455;\n",
              "      fill: #D2E3FC;\n",
              "    }\n",
              "\n",
              "    [theme=dark] .colab-df-convert:hover {\n",
              "      background-color: #434B5C;\n",
              "      box-shadow: 0px 1px 3px 1px rgba(0, 0, 0, 0.15);\n",
              "      filter: drop-shadow(0px 1px 2px rgba(0, 0, 0, 0.3));\n",
              "      fill: #FFFFFF;\n",
              "    }\n",
              "  </style>\n",
              "\n",
              "      <script>\n",
              "        const buttonEl =\n",
              "          document.querySelector('#df-8dbd7acd-49f7-4892-9131-44b81c1786a8 button.colab-df-convert');\n",
              "        buttonEl.style.display =\n",
              "          google.colab.kernel.accessAllowed ? 'block' : 'none';\n",
              "\n",
              "        async function convertToInteractive(key) {\n",
              "          const element = document.querySelector('#df-8dbd7acd-49f7-4892-9131-44b81c1786a8');\n",
              "          const dataTable =\n",
              "            await google.colab.kernel.invokeFunction('convertToInteractive',\n",
              "                                                     [key], {});\n",
              "          if (!dataTable) return;\n",
              "\n",
              "          const docLinkHtml = 'Like what you see? Visit the ' +\n",
              "            '<a target=\"_blank\" href=https://colab.research.google.com/notebooks/data_table.ipynb>data table notebook</a>'\n",
              "            + ' to learn more about interactive tables.';\n",
              "          element.innerHTML = '';\n",
              "          dataTable['output_type'] = 'display_data';\n",
              "          await google.colab.output.renderOutput(dataTable, element);\n",
              "          const docLink = document.createElement('div');\n",
              "          docLink.innerHTML = docLinkHtml;\n",
              "          element.appendChild(docLink);\n",
              "        }\n",
              "      </script>\n",
              "    </div>\n",
              "  </div>\n",
              "  "
            ]
          },
          "metadata": {},
          "execution_count": 16
        }
      ]
    },
    {
      "cell_type": "code",
      "source": [
        "#clean_columns_mov_info.info()\n",
        "clean_columns_mov_info.head()"
      ],
      "metadata": {
        "colab": {
          "base_uri": "https://localhost:8080/",
          "height": 237
        },
        "id": "IGB5Fy54_S5j",
        "outputId": "3f20f474-8a0f-4cc6-df75-8f370cb967c7"
      },
      "execution_count": 17,
      "outputs": [
        {
          "output_type": "execute_result",
          "data": {
            "text/plain": [
              "   rating                                genre      runtime          director  \\\n",
              "id                                                                              \n",
              "1       R  Action and Adventure|Classics|Drama  104 minutes  William Friedkin   \n",
              "3       R    Drama|Science Fiction and Fantasy  108 minutes  David Cronenberg   \n",
              "5       R    Drama|Musical and Performing Arts  116 minutes    Allison Anders   \n",
              "6       R           Drama|Mystery and Suspense  128 minutes    Barry Levinson   \n",
              "8      PG                Drama|Kids and Family   95 minutes       Jay Russell   \n",
              "\n",
              "   theater_date  month  year  date  day_week     hours time_unit  \n",
              "id                                                                \n",
              "1    1971-10-09     10  1971     9  Saturday  1.733333   minutes  \n",
              "3    2012-08-17      8  2012    17    Friday  1.800000   minutes  \n",
              "5    1996-09-13      9  1996    13    Friday  1.933333   minutes  \n",
              "6    1994-12-09     12  1994     9    Friday  2.133333   minutes  \n",
              "8    2000-03-03      3  2000     3    Friday  1.583333   minutes  "
            ],
            "text/html": [
              "\n",
              "  <div id=\"df-4b549c04-d282-4c3c-9f94-fb0e66c2e68f\">\n",
              "    <div class=\"colab-df-container\">\n",
              "      <div>\n",
              "<style scoped>\n",
              "    .dataframe tbody tr th:only-of-type {\n",
              "        vertical-align: middle;\n",
              "    }\n",
              "\n",
              "    .dataframe tbody tr th {\n",
              "        vertical-align: top;\n",
              "    }\n",
              "\n",
              "    .dataframe thead th {\n",
              "        text-align: right;\n",
              "    }\n",
              "</style>\n",
              "<table border=\"1\" class=\"dataframe\">\n",
              "  <thead>\n",
              "    <tr style=\"text-align: right;\">\n",
              "      <th></th>\n",
              "      <th>rating</th>\n",
              "      <th>genre</th>\n",
              "      <th>runtime</th>\n",
              "      <th>director</th>\n",
              "      <th>theater_date</th>\n",
              "      <th>month</th>\n",
              "      <th>year</th>\n",
              "      <th>date</th>\n",
              "      <th>day_week</th>\n",
              "      <th>hours</th>\n",
              "      <th>time_unit</th>\n",
              "    </tr>\n",
              "    <tr>\n",
              "      <th>id</th>\n",
              "      <th></th>\n",
              "      <th></th>\n",
              "      <th></th>\n",
              "      <th></th>\n",
              "      <th></th>\n",
              "      <th></th>\n",
              "      <th></th>\n",
              "      <th></th>\n",
              "      <th></th>\n",
              "      <th></th>\n",
              "      <th></th>\n",
              "    </tr>\n",
              "  </thead>\n",
              "  <tbody>\n",
              "    <tr>\n",
              "      <th>1</th>\n",
              "      <td>R</td>\n",
              "      <td>Action and Adventure|Classics|Drama</td>\n",
              "      <td>104 minutes</td>\n",
              "      <td>William Friedkin</td>\n",
              "      <td>1971-10-09</td>\n",
              "      <td>10</td>\n",
              "      <td>1971</td>\n",
              "      <td>9</td>\n",
              "      <td>Saturday</td>\n",
              "      <td>1.733333</td>\n",
              "      <td>minutes</td>\n",
              "    </tr>\n",
              "    <tr>\n",
              "      <th>3</th>\n",
              "      <td>R</td>\n",
              "      <td>Drama|Science Fiction and Fantasy</td>\n",
              "      <td>108 minutes</td>\n",
              "      <td>David Cronenberg</td>\n",
              "      <td>2012-08-17</td>\n",
              "      <td>8</td>\n",
              "      <td>2012</td>\n",
              "      <td>17</td>\n",
              "      <td>Friday</td>\n",
              "      <td>1.800000</td>\n",
              "      <td>minutes</td>\n",
              "    </tr>\n",
              "    <tr>\n",
              "      <th>5</th>\n",
              "      <td>R</td>\n",
              "      <td>Drama|Musical and Performing Arts</td>\n",
              "      <td>116 minutes</td>\n",
              "      <td>Allison Anders</td>\n",
              "      <td>1996-09-13</td>\n",
              "      <td>9</td>\n",
              "      <td>1996</td>\n",
              "      <td>13</td>\n",
              "      <td>Friday</td>\n",
              "      <td>1.933333</td>\n",
              "      <td>minutes</td>\n",
              "    </tr>\n",
              "    <tr>\n",
              "      <th>6</th>\n",
              "      <td>R</td>\n",
              "      <td>Drama|Mystery and Suspense</td>\n",
              "      <td>128 minutes</td>\n",
              "      <td>Barry Levinson</td>\n",
              "      <td>1994-12-09</td>\n",
              "      <td>12</td>\n",
              "      <td>1994</td>\n",
              "      <td>9</td>\n",
              "      <td>Friday</td>\n",
              "      <td>2.133333</td>\n",
              "      <td>minutes</td>\n",
              "    </tr>\n",
              "    <tr>\n",
              "      <th>8</th>\n",
              "      <td>PG</td>\n",
              "      <td>Drama|Kids and Family</td>\n",
              "      <td>95 minutes</td>\n",
              "      <td>Jay Russell</td>\n",
              "      <td>2000-03-03</td>\n",
              "      <td>3</td>\n",
              "      <td>2000</td>\n",
              "      <td>3</td>\n",
              "      <td>Friday</td>\n",
              "      <td>1.583333</td>\n",
              "      <td>minutes</td>\n",
              "    </tr>\n",
              "  </tbody>\n",
              "</table>\n",
              "</div>\n",
              "      <button class=\"colab-df-convert\" onclick=\"convertToInteractive('df-4b549c04-d282-4c3c-9f94-fb0e66c2e68f')\"\n",
              "              title=\"Convert this dataframe to an interactive table.\"\n",
              "              style=\"display:none;\">\n",
              "        \n",
              "  <svg xmlns=\"http://www.w3.org/2000/svg\" height=\"24px\"viewBox=\"0 0 24 24\"\n",
              "       width=\"24px\">\n",
              "    <path d=\"M0 0h24v24H0V0z\" fill=\"none\"/>\n",
              "    <path d=\"M18.56 5.44l.94 2.06.94-2.06 2.06-.94-2.06-.94-.94-2.06-.94 2.06-2.06.94zm-11 1L8.5 8.5l.94-2.06 2.06-.94-2.06-.94L8.5 2.5l-.94 2.06-2.06.94zm10 10l.94 2.06.94-2.06 2.06-.94-2.06-.94-.94-2.06-.94 2.06-2.06.94z\"/><path d=\"M17.41 7.96l-1.37-1.37c-.4-.4-.92-.59-1.43-.59-.52 0-1.04.2-1.43.59L10.3 9.45l-7.72 7.72c-.78.78-.78 2.05 0 2.83L4 21.41c.39.39.9.59 1.41.59.51 0 1.02-.2 1.41-.59l7.78-7.78 2.81-2.81c.8-.78.8-2.07 0-2.86zM5.41 20L4 18.59l7.72-7.72 1.47 1.35L5.41 20z\"/>\n",
              "  </svg>\n",
              "      </button>\n",
              "      \n",
              "  <style>\n",
              "    .colab-df-container {\n",
              "      display:flex;\n",
              "      flex-wrap:wrap;\n",
              "      gap: 12px;\n",
              "    }\n",
              "\n",
              "    .colab-df-convert {\n",
              "      background-color: #E8F0FE;\n",
              "      border: none;\n",
              "      border-radius: 50%;\n",
              "      cursor: pointer;\n",
              "      display: none;\n",
              "      fill: #1967D2;\n",
              "      height: 32px;\n",
              "      padding: 0 0 0 0;\n",
              "      width: 32px;\n",
              "    }\n",
              "\n",
              "    .colab-df-convert:hover {\n",
              "      background-color: #E2EBFA;\n",
              "      box-shadow: 0px 1px 2px rgba(60, 64, 67, 0.3), 0px 1px 3px 1px rgba(60, 64, 67, 0.15);\n",
              "      fill: #174EA6;\n",
              "    }\n",
              "\n",
              "    [theme=dark] .colab-df-convert {\n",
              "      background-color: #3B4455;\n",
              "      fill: #D2E3FC;\n",
              "    }\n",
              "\n",
              "    [theme=dark] .colab-df-convert:hover {\n",
              "      background-color: #434B5C;\n",
              "      box-shadow: 0px 1px 3px 1px rgba(0, 0, 0, 0.15);\n",
              "      filter: drop-shadow(0px 1px 2px rgba(0, 0, 0, 0.3));\n",
              "      fill: #FFFFFF;\n",
              "    }\n",
              "  </style>\n",
              "\n",
              "      <script>\n",
              "        const buttonEl =\n",
              "          document.querySelector('#df-4b549c04-d282-4c3c-9f94-fb0e66c2e68f button.colab-df-convert');\n",
              "        buttonEl.style.display =\n",
              "          google.colab.kernel.accessAllowed ? 'block' : 'none';\n",
              "\n",
              "        async function convertToInteractive(key) {\n",
              "          const element = document.querySelector('#df-4b549c04-d282-4c3c-9f94-fb0e66c2e68f');\n",
              "          const dataTable =\n",
              "            await google.colab.kernel.invokeFunction('convertToInteractive',\n",
              "                                                     [key], {});\n",
              "          if (!dataTable) return;\n",
              "\n",
              "          const docLinkHtml = 'Like what you see? Visit the ' +\n",
              "            '<a target=\"_blank\" href=https://colab.research.google.com/notebooks/data_table.ipynb>data table notebook</a>'\n",
              "            + ' to learn more about interactive tables.';\n",
              "          element.innerHTML = '';\n",
              "          dataTable['output_type'] = 'display_data';\n",
              "          await google.colab.output.renderOutput(dataTable, element);\n",
              "          const docLink = document.createElement('div');\n",
              "          docLink.innerHTML = docLinkHtml;\n",
              "          element.appendChild(docLink);\n",
              "        }\n",
              "      </script>\n",
              "    </div>\n",
              "  </div>\n",
              "  "
            ]
          },
          "metadata": {},
          "execution_count": 17
        }
      ]
    },
    {
      "cell_type": "code",
      "source": [
        "#This gives a quick glance on the statistical measures of the numerical dataset\n",
        "# Average runtime for a movie is 1.7 hours or 106 minutes\n",
        "clean_columns_mov_info.describe()"
      ],
      "metadata": {
        "colab": {
          "base_uri": "https://localhost:8080/",
          "height": 300
        },
        "id": "ewaGabf3Xnvl",
        "outputId": "f8374abb-8658-491c-df76-60e25a22f331"
      },
      "execution_count": 18,
      "outputs": [
        {
          "output_type": "execute_result",
          "data": {
            "text/plain": [
              "             month         year         date        hours\n",
              "count  1076.000000  1076.000000  1076.000000  1076.000000\n",
              "mean      6.506506  1991.498141    13.869888     1.771747\n",
              "std       3.638420    19.721526     9.382804     0.360515\n",
              "min       1.000000  1921.000000     1.000000     0.866667\n",
              "25%       3.000000  1983.000000     5.000000     1.550000\n",
              "50%       7.000000  1996.000000    13.000000     1.700000\n",
              "75%      10.000000  2006.000000    22.000000     1.933333\n",
              "max      12.000000  2018.000000    31.000000     5.966667"
            ],
            "text/html": [
              "\n",
              "  <div id=\"df-81ae7dad-41b7-47bd-b8cc-1f65b1206cb3\">\n",
              "    <div class=\"colab-df-container\">\n",
              "      <div>\n",
              "<style scoped>\n",
              "    .dataframe tbody tr th:only-of-type {\n",
              "        vertical-align: middle;\n",
              "    }\n",
              "\n",
              "    .dataframe tbody tr th {\n",
              "        vertical-align: top;\n",
              "    }\n",
              "\n",
              "    .dataframe thead th {\n",
              "        text-align: right;\n",
              "    }\n",
              "</style>\n",
              "<table border=\"1\" class=\"dataframe\">\n",
              "  <thead>\n",
              "    <tr style=\"text-align: right;\">\n",
              "      <th></th>\n",
              "      <th>month</th>\n",
              "      <th>year</th>\n",
              "      <th>date</th>\n",
              "      <th>hours</th>\n",
              "    </tr>\n",
              "  </thead>\n",
              "  <tbody>\n",
              "    <tr>\n",
              "      <th>count</th>\n",
              "      <td>1076.000000</td>\n",
              "      <td>1076.000000</td>\n",
              "      <td>1076.000000</td>\n",
              "      <td>1076.000000</td>\n",
              "    </tr>\n",
              "    <tr>\n",
              "      <th>mean</th>\n",
              "      <td>6.506506</td>\n",
              "      <td>1991.498141</td>\n",
              "      <td>13.869888</td>\n",
              "      <td>1.771747</td>\n",
              "    </tr>\n",
              "    <tr>\n",
              "      <th>std</th>\n",
              "      <td>3.638420</td>\n",
              "      <td>19.721526</td>\n",
              "      <td>9.382804</td>\n",
              "      <td>0.360515</td>\n",
              "    </tr>\n",
              "    <tr>\n",
              "      <th>min</th>\n",
              "      <td>1.000000</td>\n",
              "      <td>1921.000000</td>\n",
              "      <td>1.000000</td>\n",
              "      <td>0.866667</td>\n",
              "    </tr>\n",
              "    <tr>\n",
              "      <th>25%</th>\n",
              "      <td>3.000000</td>\n",
              "      <td>1983.000000</td>\n",
              "      <td>5.000000</td>\n",
              "      <td>1.550000</td>\n",
              "    </tr>\n",
              "    <tr>\n",
              "      <th>50%</th>\n",
              "      <td>7.000000</td>\n",
              "      <td>1996.000000</td>\n",
              "      <td>13.000000</td>\n",
              "      <td>1.700000</td>\n",
              "    </tr>\n",
              "    <tr>\n",
              "      <th>75%</th>\n",
              "      <td>10.000000</td>\n",
              "      <td>2006.000000</td>\n",
              "      <td>22.000000</td>\n",
              "      <td>1.933333</td>\n",
              "    </tr>\n",
              "    <tr>\n",
              "      <th>max</th>\n",
              "      <td>12.000000</td>\n",
              "      <td>2018.000000</td>\n",
              "      <td>31.000000</td>\n",
              "      <td>5.966667</td>\n",
              "    </tr>\n",
              "  </tbody>\n",
              "</table>\n",
              "</div>\n",
              "      <button class=\"colab-df-convert\" onclick=\"convertToInteractive('df-81ae7dad-41b7-47bd-b8cc-1f65b1206cb3')\"\n",
              "              title=\"Convert this dataframe to an interactive table.\"\n",
              "              style=\"display:none;\">\n",
              "        \n",
              "  <svg xmlns=\"http://www.w3.org/2000/svg\" height=\"24px\"viewBox=\"0 0 24 24\"\n",
              "       width=\"24px\">\n",
              "    <path d=\"M0 0h24v24H0V0z\" fill=\"none\"/>\n",
              "    <path d=\"M18.56 5.44l.94 2.06.94-2.06 2.06-.94-2.06-.94-.94-2.06-.94 2.06-2.06.94zm-11 1L8.5 8.5l.94-2.06 2.06-.94-2.06-.94L8.5 2.5l-.94 2.06-2.06.94zm10 10l.94 2.06.94-2.06 2.06-.94-2.06-.94-.94-2.06-.94 2.06-2.06.94z\"/><path d=\"M17.41 7.96l-1.37-1.37c-.4-.4-.92-.59-1.43-.59-.52 0-1.04.2-1.43.59L10.3 9.45l-7.72 7.72c-.78.78-.78 2.05 0 2.83L4 21.41c.39.39.9.59 1.41.59.51 0 1.02-.2 1.41-.59l7.78-7.78 2.81-2.81c.8-.78.8-2.07 0-2.86zM5.41 20L4 18.59l7.72-7.72 1.47 1.35L5.41 20z\"/>\n",
              "  </svg>\n",
              "      </button>\n",
              "      \n",
              "  <style>\n",
              "    .colab-df-container {\n",
              "      display:flex;\n",
              "      flex-wrap:wrap;\n",
              "      gap: 12px;\n",
              "    }\n",
              "\n",
              "    .colab-df-convert {\n",
              "      background-color: #E8F0FE;\n",
              "      border: none;\n",
              "      border-radius: 50%;\n",
              "      cursor: pointer;\n",
              "      display: none;\n",
              "      fill: #1967D2;\n",
              "      height: 32px;\n",
              "      padding: 0 0 0 0;\n",
              "      width: 32px;\n",
              "    }\n",
              "\n",
              "    .colab-df-convert:hover {\n",
              "      background-color: #E2EBFA;\n",
              "      box-shadow: 0px 1px 2px rgba(60, 64, 67, 0.3), 0px 1px 3px 1px rgba(60, 64, 67, 0.15);\n",
              "      fill: #174EA6;\n",
              "    }\n",
              "\n",
              "    [theme=dark] .colab-df-convert {\n",
              "      background-color: #3B4455;\n",
              "      fill: #D2E3FC;\n",
              "    }\n",
              "\n",
              "    [theme=dark] .colab-df-convert:hover {\n",
              "      background-color: #434B5C;\n",
              "      box-shadow: 0px 1px 3px 1px rgba(0, 0, 0, 0.15);\n",
              "      filter: drop-shadow(0px 1px 2px rgba(0, 0, 0, 0.3));\n",
              "      fill: #FFFFFF;\n",
              "    }\n",
              "  </style>\n",
              "\n",
              "      <script>\n",
              "        const buttonEl =\n",
              "          document.querySelector('#df-81ae7dad-41b7-47bd-b8cc-1f65b1206cb3 button.colab-df-convert');\n",
              "        buttonEl.style.display =\n",
              "          google.colab.kernel.accessAllowed ? 'block' : 'none';\n",
              "\n",
              "        async function convertToInteractive(key) {\n",
              "          const element = document.querySelector('#df-81ae7dad-41b7-47bd-b8cc-1f65b1206cb3');\n",
              "          const dataTable =\n",
              "            await google.colab.kernel.invokeFunction('convertToInteractive',\n",
              "                                                     [key], {});\n",
              "          if (!dataTable) return;\n",
              "\n",
              "          const docLinkHtml = 'Like what you see? Visit the ' +\n",
              "            '<a target=\"_blank\" href=https://colab.research.google.com/notebooks/data_table.ipynb>data table notebook</a>'\n",
              "            + ' to learn more about interactive tables.';\n",
              "          element.innerHTML = '';\n",
              "          dataTable['output_type'] = 'display_data';\n",
              "          await google.colab.output.renderOutput(dataTable, element);\n",
              "          const docLink = document.createElement('div');\n",
              "          docLink.innerHTML = docLinkHtml;\n",
              "          element.appendChild(docLink);\n",
              "        }\n",
              "      </script>\n",
              "    </div>\n",
              "  </div>\n",
              "  "
            ]
          },
          "metadata": {},
          "execution_count": 18
        }
      ]
    },
    {
      "cell_type": "code",
      "source": [
        "top_director = clean_columns_mov_info[\"director\"].unique()[:3]\n",
        "top_genre = clean_columns_mov_info[\"genre\"].unique()[:10]\n",
        "top_director_counts = clean_columns_mov_info[\"director\"].value_counts().nlargest(10).tolist()\n",
        "\n",
        "active_years = clean_columns_mov_info[\"year\"].value_counts().nlargest(10)\n",
        "\n"
      ],
      "metadata": {
        "id": "MqeNN8shHaAi"
      },
      "execution_count": 19,
      "outputs": []
    },
    {
      "cell_type": "code",
      "source": [
        "#movie_rating = movie_information.pivot(index='synopsis', columns='director', values='currency')\n",
        "#movie_rating.head()"
      ],
      "metadata": {
        "id": "HgKN7opuj0-R"
      },
      "execution_count": 20,
      "outputs": []
    },
    {
      "cell_type": "markdown",
      "source": [
        "Analysis"
      ],
      "metadata": {
        "id": "cIDQACDkjkWd"
      }
    },
    {
      "cell_type": "code",
      "source": [
        "#Plot a histogram showing movie releases by months. understand the best time.\n",
        "#Data is consistent with the industry norm.It is a common practice that Friday is reserved as the day for movie theaters to premiere new \n",
        "#films due to the fact that many people want to watch the movie during their weekends\n",
        "sns.histplot(data = clean_columns_mov_info, x =\"day_week\",color =\"pink\",bins=10).set_title('Best day of the Week to premiere a Movie in Theaters')\n"
      ],
      "metadata": {
        "colab": {
          "base_uri": "https://localhost:8080/",
          "height": 489
        },
        "id": "wjXnUSDJIwVi",
        "outputId": "9066062e-77fb-4486-b1f9-472a91023da7"
      },
      "execution_count": 69,
      "outputs": [
        {
          "output_type": "execute_result",
          "data": {
            "text/plain": [
              "Text(0.5, 1.0, 'Best day of the Week to premiere a Movie in Theaters')"
            ]
          },
          "metadata": {},
          "execution_count": 69
        },
        {
          "output_type": "display_data",
          "data": {
            "text/plain": [
              "<Figure size 640x480 with 1 Axes>"
            ],
            "image/png": "[encoded data removed]"
          },
          "metadata": {}
        }
      ]
    },
    {
      "cell_type": "code",
      "source": [
        "#Top Movie Genre\n",
        "top_genre = clean_columns_mov_info[\"genre\"].unique()[:10]\n",
        "\n",
        "top_genre_counts = clean_columns_mov_info[\"genre\"].value_counts().nlargest(10).tolist()\n",
        "\n",
        "print(\"Genre:\", top_genre)\n",
        "print(\"Counts:\", top_genre_counts)"
      ],
      "metadata": {
        "colab": {
          "base_uri": "https://localhost:8080/"
        },
        "id": "ZyYK-JBI0B3p",
        "outputId": "5e3b2aaf-b7fb-4bad-a554-913240732561"
      },
      "execution_count": 22,
      "outputs": [
        {
          "output_type": "stream",
          "name": "stdout",
          "text": [
            "Genre: ['Action and Adventure|Classics|Drama' 'Drama|Science Fiction and Fantasy'\n",
            " 'Drama|Musical and Performing Arts' 'Drama|Mystery and Suspense'\n",
            " 'Drama|Kids and Family' 'Comedy' 'Drama'\n",
            " 'Action and Adventure|Mystery and Suspense|Science Fiction and Fantasy'\n",
            " 'Classics|Comedy|Drama' 'Comedy|Drama|Mystery and Suspense']\n",
            "Counts: [95, 83, 58, 48, 32, 29, 26, 25, 24, 23]\n"
          ]
        }
      ]
    },
    {
      "cell_type": "code",
      "source": [
        "#Filter the top movie genres\n",
        "y= top_genre\n",
        " \n",
        "# getting values against each value of y\n",
        "x= top_genre_counts\n",
        "plt.barh(y, x , color = 'red' , alpha =0.75)\n",
        "\n",
        " \n",
        "# setting label of y-axis\n",
        "plt.ylabel(\"Top 10 movie genre\")\n",
        " \n",
        "# setting label of x-axis\n",
        "plt.xlabel(\"Counts\")\n",
        "plt.title(\"Top 10 Movie Genre\")\n",
        "plt.show()"
      ],
      "metadata": {
        "colab": {
          "base_uri": "https://localhost:8080/",
          "height": 472
        },
        "id": "Jlq6HDN-3Ues",
        "outputId": "d595266d-3953-4910-b919-acdb37169107"
      },
      "execution_count": 23,
      "outputs": [
        {
          "output_type": "display_data",
          "data": {
            "text/plain": [
              "<Figure size 640x480 with 1 Axes>"
            ],
            "image/png": "[encoded data removed]"
          },
          "metadata": {}
        }
      ]
    },
    {
      "cell_type": "code",
      "source": [
        "#sns.pairplot(data = clean_columns_mov_info)\n",
        "sns.countplot(x=\"month\", data=clean_columns_mov_info)#hue=\"year\","
      ],
      "metadata": {
        "colab": {
          "base_uri": "https://localhost:8080/",
          "height": 466
        },
        "id": "iqMFjgS3WP5n",
        "outputId": "cfd1aece-47a4-4e15-e7af-79b8716ab9c3"
      },
      "execution_count": 24,
      "outputs": [
        {
          "output_type": "execute_result",
          "data": {
            "text/plain": [
              "<Axes: xlabel='month', ylabel='count'>"
            ]
          },
          "metadata": {},
          "execution_count": 24
        },
        {
          "output_type": "display_data",
          "data": {
            "text/plain": [
              "<Figure size 640x480 with 1 Axes>"
            ],
            "image/png": "[encoded data removed]"
          },
          "metadata": {}
        }
      ]
    },
    {
      "cell_type": "code",
      "source": [
        "sns.countplot(x=\"director\", hue=\"rating\",data=clean_columns_mov_info)\n"
      ],
      "metadata": {
        "colab": {
          "base_uri": "https://localhost:8080/",
          "height": 467
        },
        "id": "1ucSZaOgXH0l",
        "outputId": "a54b3bf8-1e96-47cc-9cc3-b7d68672bacb"
      },
      "execution_count": 72,
      "outputs": [
        {
          "output_type": "execute_result",
          "data": {
            "text/plain": [
              "<Axes: xlabel='director', ylabel='count'>"
            ]
          },
          "metadata": {},
          "execution_count": 72
        },
        {
          "output_type": "display_data",
          "data": {
            "text/plain": [
              "<Figure size 640x480 with 1 Axes>"
            ],
            "image/png": "[encoded data removed]"
          },
          "metadata": {}
        }
      ]
    },
    {
      "cell_type": "markdown",
      "source": [],
      "metadata": {
        "id": "rMkFAhFHqzMg"
      }
    },
    {
      "cell_type": "markdown",
      "source": [
        "Load the review data into a DataFrame and do some exploratory "
      ],
      "metadata": {
        "id": "S_gEn0Cuq6qB"
      }
    },
    {
      "cell_type": "code",
      "source": [
        "movie_reviews =pd.read_csv('/content/rt.reviews.tsv', delimiter='\\t',  encoding='latin-1')\n",
        "movie_reviews.head()"
      ],
      "metadata": {
        "id": "I4mNfpxLrw74",
        "colab": {
          "base_uri": "https://localhost:8080/",
          "height": 206
        },
        "outputId": "8edfbed6-7a98-413b-c3ae-122b30d6f35b"
      },
      "execution_count": 26,
      "outputs": [
        {
          "output_type": "execute_result",
          "data": {
            "text/plain": [
              "   id                                             review rating   fresh  \\\n",
              "0   3  A distinctly gallows take on contemporary fina...    3/5   fresh   \n",
              "1   3  It's an allegory in search of a meaning that n...    NaN  rotten   \n",
              "2   3  ... life lived in a bubble in financial dealin...    NaN   fresh   \n",
              "3   3  Continuing along a line introduced in last yea...    NaN   fresh   \n",
              "4   3             ... a perverse twist on neorealism...     NaN   fresh   \n",
              "\n",
              "           critic  top_critic         publisher               date  \n",
              "0      PJ Nabarro           0   Patrick Nabarro  November 10, 2018  \n",
              "1  Annalee Newitz           0           io9.com       May 23, 2018  \n",
              "2    Sean Axmaker           0  Stream on Demand    January 4, 2018  \n",
              "3   Daniel Kasman           0              MUBI  November 16, 2017  \n",
              "4             NaN           0      Cinema Scope   October 12, 2017  "
            ],
            "text/html": [
              "\n",
              "  <div id=\"df-ab19f5a6-41da-4cbb-b225-ac11e2a00964\">\n",
              "    <div class=\"colab-df-container\">\n",
              "      <div>\n",
              "<style scoped>\n",
              "    .dataframe tbody tr th:only-of-type {\n",
              "        vertical-align: middle;\n",
              "    }\n",
              "\n",
              "    .dataframe tbody tr th {\n",
              "        vertical-align: top;\n",
              "    }\n",
              "\n",
              "    .dataframe thead th {\n",
              "        text-align: right;\n",
              "    }\n",
              "</style>\n",
              "<table border=\"1\" class=\"dataframe\">\n",
              "  <thead>\n",
              "    <tr style=\"text-align: right;\">\n",
              "      <th></th>\n",
              "      <th>id</th>\n",
              "      <th>review</th>\n",
              "      <th>rating</th>\n",
              "      <th>fresh</th>\n",
              "      <th>critic</th>\n",
              "      <th>top_critic</th>\n",
              "      <th>publisher</th>\n",
              "      <th>date</th>\n",
              "    </tr>\n",
              "  </thead>\n",
              "  <tbody>\n",
              "    <tr>\n",
              "      <th>0</th>\n",
              "      <td>3</td>\n",
              "      <td>A distinctly gallows take on contemporary fina...</td>\n",
              "      <td>3/5</td>\n",
              "      <td>fresh</td>\n",
              "      <td>PJ Nabarro</td>\n",
              "      <td>0</td>\n",
              "      <td>Patrick Nabarro</td>\n",
              "      <td>November 10, 2018</td>\n",
              "    </tr>\n",
              "    <tr>\n",
              "      <th>1</th>\n",
              "      <td>3</td>\n",
              "      <td>It's an allegory in search of a meaning that n...</td>\n",
              "      <td>NaN</td>\n",
              "      <td>rotten</td>\n",
              "      <td>Annalee Newitz</td>\n",
              "      <td>0</td>\n",
              "      <td>io9.com</td>\n",
              "      <td>May 23, 2018</td>\n",
              "    </tr>\n",
              "    <tr>\n",
              "      <th>2</th>\n",
              "      <td>3</td>\n",
              "      <td>... life lived in a bubble in financial dealin...</td>\n",
              "      <td>NaN</td>\n",
              "      <td>fresh</td>\n",
              "      <td>Sean Axmaker</td>\n",
              "      <td>0</td>\n",
              "      <td>Stream on Demand</td>\n",
              "      <td>January 4, 2018</td>\n",
              "    </tr>\n",
              "    <tr>\n",
              "      <th>3</th>\n",
              "      <td>3</td>\n",
              "      <td>Continuing along a line introduced in last yea...</td>\n",
              "      <td>NaN</td>\n",
              "      <td>fresh</td>\n",
              "      <td>Daniel Kasman</td>\n",
              "      <td>0</td>\n",
              "      <td>MUBI</td>\n",
              "      <td>November 16, 2017</td>\n",
              "    </tr>\n",
              "    <tr>\n",
              "      <th>4</th>\n",
              "      <td>3</td>\n",
              "      <td>... a perverse twist on neorealism...</td>\n",
              "      <td>NaN</td>\n",
              "      <td>fresh</td>\n",
              "      <td>NaN</td>\n",
              "      <td>0</td>\n",
              "      <td>Cinema Scope</td>\n",
              "      <td>October 12, 2017</td>\n",
              "    </tr>\n",
              "  </tbody>\n",
              "</table>\n",
              "</div>\n",
              "      <button class=\"colab-df-convert\" onclick=\"convertToInteractive('df-ab19f5a6-41da-4cbb-b225-ac11e2a00964')\"\n",
              "              title=\"Convert this dataframe to an interactive table.\"\n",
              "              style=\"display:none;\">\n",
              "        \n",
              "  <svg xmlns=\"http://www.w3.org/2000/svg\" height=\"24px\"viewBox=\"0 0 24 24\"\n",
              "       width=\"24px\">\n",
              "    <path d=\"M0 0h24v24H0V0z\" fill=\"none\"/>\n",
              "    <path d=\"M18.56 5.44l.94 2.06.94-2.06 2.06-.94-2.06-.94-.94-2.06-.94 2.06-2.06.94zm-11 1L8.5 8.5l.94-2.06 2.06-.94-2.06-.94L8.5 2.5l-.94 2.06-2.06.94zm10 10l.94 2.06.94-2.06 2.06-.94-2.06-.94-.94-2.06-.94 2.06-2.06.94z\"/><path d=\"M17.41 7.96l-1.37-1.37c-.4-.4-.92-.59-1.43-.59-.52 0-1.04.2-1.43.59L10.3 9.45l-7.72 7.72c-.78.78-.78 2.05 0 2.83L4 21.41c.39.39.9.59 1.41.59.51 0 1.02-.2 1.41-.59l7.78-7.78 2.81-2.81c.8-.78.8-2.07 0-2.86zM5.41 20L4 18.59l7.72-7.72 1.47 1.35L5.41 20z\"/>\n",
              "  </svg>\n",
              "      </button>\n",
              "      \n",
              "  <style>\n",
              "    .colab-df-container {\n",
              "      display:flex;\n",
              "      flex-wrap:wrap;\n",
              "      gap: 12px;\n",
              "    }\n",
              "\n",
              "    .colab-df-convert {\n",
              "      background-color: #E8F0FE;\n",
              "      border: none;\n",
              "      border-radius: 50%;\n",
              "      cursor: pointer;\n",
              "      display: none;\n",
              "      fill: #1967D2;\n",
              "      height: 32px;\n",
              "      padding: 0 0 0 0;\n",
              "      width: 32px;\n",
              "    }\n",
              "\n",
              "    .colab-df-convert:hover {\n",
              "      background-color: #E2EBFA;\n",
              "      box-shadow: 0px 1px 2px rgba(60, 64, 67, 0.3), 0px 1px 3px 1px rgba(60, 64, 67, 0.15);\n",
              "      fill: #174EA6;\n",
              "    }\n",
              "\n",
              "    [theme=dark] .colab-df-convert {\n",
              "      background-color: #3B4455;\n",
              "      fill: #D2E3FC;\n",
              "    }\n",
              "\n",
              "    [theme=dark] .colab-df-convert:hover {\n",
              "      background-color: #434B5C;\n",
              "      box-shadow: 0px 1px 3px 1px rgba(0, 0, 0, 0.15);\n",
              "      filter: drop-shadow(0px 1px 2px rgba(0, 0, 0, 0.3));\n",
              "      fill: #FFFFFF;\n",
              "    }\n",
              "  </style>\n",
              "\n",
              "      <script>\n",
              "        const buttonEl =\n",
              "          document.querySelector('#df-ab19f5a6-41da-4cbb-b225-ac11e2a00964 button.colab-df-convert');\n",
              "        buttonEl.style.display =\n",
              "          google.colab.kernel.accessAllowed ? 'block' : 'none';\n",
              "\n",
              "        async function convertToInteractive(key) {\n",
              "          const element = document.querySelector('#df-ab19f5a6-41da-4cbb-b225-ac11e2a00964');\n",
              "          const dataTable =\n",
              "            await google.colab.kernel.invokeFunction('convertToInteractive',\n",
              "                                                     [key], {});\n",
              "          if (!dataTable) return;\n",
              "\n",
              "          const docLinkHtml = 'Like what you see? Visit the ' +\n",
              "            '<a target=\"_blank\" href=https://colab.research.google.com/notebooks/data_table.ipynb>data table notebook</a>'\n",
              "            + ' to learn more about interactive tables.';\n",
              "          element.innerHTML = '';\n",
              "          dataTable['output_type'] = 'display_data';\n",
              "          await google.colab.output.renderOutput(dataTable, element);\n",
              "          const docLink = document.createElement('div');\n",
              "          docLink.innerHTML = docLinkHtml;\n",
              "          element.appendChild(docLink);\n",
              "        }\n",
              "      </script>\n",
              "    </div>\n",
              "  </div>\n",
              "  "
            ]
          },
          "metadata": {},
          "execution_count": 26
        }
      ]
    },
    {
      "cell_type": "code",
      "source": [
        "movie_reviews['fresh'].value_counts()"
      ],
      "metadata": {
        "id": "Su4CdfzqJG87",
        "colab": {
          "base_uri": "https://localhost:8080/"
        },
        "outputId": "ee5b42f7-5453-41c5-83ef-e4c5e01a91f8"
      },
      "execution_count": 27,
      "outputs": [
        {
          "output_type": "execute_result",
          "data": {
            "text/plain": [
              "fresh     33035\n",
              "rotten    21397\n",
              "Name: fresh, dtype: int64"
            ]
          },
          "metadata": {},
          "execution_count": 27
        }
      ]
    },
    {
      "cell_type": "markdown",
      "source": [
        "Load the tmdb movie\n",
        " data into a DataFrame and do some exploratory"
      ],
      "metadata": {
        "id": "D7YgHjIast_Y"
      }
    },
    {
      "cell_type": "code",
      "source": [
        "mdb_movies = pd.read_csv('/content/tmdb.movies.csv',index_col=0)\n",
        "mdb_movies.head()"
      ],
      "metadata": {
        "colab": {
          "base_uri": "https://localhost:8080/",
          "height": 285
        },
        "id": "WLY2m952s-SX",
        "outputId": "5b7cd74d-675e-4621-a543-d2872660e9e5"
      },
      "execution_count": 28,
      "outputs": [
        {
          "output_type": "execute_result",
          "data": {
            "text/plain": [
              "             genre_ids     id original_language  \\\n",
              "0      [12, 14, 10751]  12444                en   \n",
              "1  [14, 12, 16, 10751]  10191                en   \n",
              "2        [12, 28, 878]  10138                en   \n",
              "3      [16, 35, 10751]    862                en   \n",
              "4        [28, 878, 12]  27205                en   \n",
              "\n",
              "                                 original_title  popularity release_date  \\\n",
              "0  Harry Potter and the Deathly Hallows: Part 1      33.533   2010-11-19   \n",
              "1                      How to Train Your Dragon      28.734   2010-03-26   \n",
              "2                                    Iron Man 2      28.515   2010-05-07   \n",
              "3                                     Toy Story      28.005   1995-11-22   \n",
              "4                                     Inception      27.920   2010-07-16   \n",
              "\n",
              "                                          title  vote_average  vote_count  \n",
              "0  Harry Potter and the Deathly Hallows: Part 1           7.7       10788  \n",
              "1                      How to Train Your Dragon           7.7        7610  \n",
              "2                                    Iron Man 2           6.8       12368  \n",
              "3                                     Toy Story           7.9       10174  \n",
              "4                                     Inception           8.3       22186  "
            ],
            "text/html": [
              "\n",
              "  <div id=\"df-06e4f6d7-dfbd-46be-84da-31bb214b163d\">\n",
              "    <div class=\"colab-df-container\">\n",
              "      <div>\n",
              "<style scoped>\n",
              "    .dataframe tbody tr th:only-of-type {\n",
              "        vertical-align: middle;\n",
              "    }\n",
              "\n",
              "    .dataframe tbody tr th {\n",
              "        vertical-align: top;\n",
              "    }\n",
              "\n",
              "    .dataframe thead th {\n",
              "        text-align: right;\n",
              "    }\n",
              "</style>\n",
              "<table border=\"1\" class=\"dataframe\">\n",
              "  <thead>\n",
              "    <tr style=\"text-align: right;\">\n",
              "      <th></th>\n",
              "      <th>genre_ids</th>\n",
              "      <th>id</th>\n",
              "      <th>original_language</th>\n",
              "      <th>original_title</th>\n",
              "      <th>popularity</th>\n",
              "      <th>release_date</th>\n",
              "      <th>title</th>\n",
              "      <th>vote_average</th>\n",
              "      <th>vote_count</th>\n",
              "    </tr>\n",
              "  </thead>\n",
              "  <tbody>\n",
              "    <tr>\n",
              "      <th>0</th>\n",
              "      <td>[12, 14, 10751]</td>\n",
              "      <td>12444</td>\n",
              "      <td>en</td>\n",
              "      <td>Harry Potter and the Deathly Hallows: Part 1</td>\n",
              "      <td>33.533</td>\n",
              "      <td>2010-11-19</td>\n",
              "      <td>Harry Potter and the Deathly Hallows: Part 1</td>\n",
              "      <td>7.7</td>\n",
              "      <td>10788</td>\n",
              "    </tr>\n",
              "    <tr>\n",
              "      <th>1</th>\n",
              "      <td>[14, 12, 16, 10751]</td>\n",
              "      <td>10191</td>\n",
              "      <td>en</td>\n",
              "      <td>How to Train Your Dragon</td>\n",
              "      <td>28.734</td>\n",
              "      <td>2010-03-26</td>\n",
              "      <td>How to Train Your Dragon</td>\n",
              "      <td>7.7</td>\n",
              "      <td>7610</td>\n",
              "    </tr>\n",
              "    <tr>\n",
              "      <th>2</th>\n",
              "      <td>[12, 28, 878]</td>\n",
              "      <td>10138</td>\n",
              "      <td>en</td>\n",
              "      <td>Iron Man 2</td>\n",
              "      <td>28.515</td>\n",
              "      <td>2010-05-07</td>\n",
              "      <td>Iron Man 2</td>\n",
              "      <td>6.8</td>\n",
              "      <td>12368</td>\n",
              "    </tr>\n",
              "    <tr>\n",
              "      <th>3</th>\n",
              "      <td>[16, 35, 10751]</td>\n",
              "      <td>862</td>\n",
              "      <td>en</td>\n",
              "      <td>Toy Story</td>\n",
              "      <td>28.005</td>\n",
              "      <td>1995-11-22</td>\n",
              "      <td>Toy Story</td>\n",
              "      <td>7.9</td>\n",
              "      <td>10174</td>\n",
              "    </tr>\n",
              "    <tr>\n",
              "      <th>4</th>\n",
              "      <td>[28, 878, 12]</td>\n",
              "      <td>27205</td>\n",
              "      <td>en</td>\n",
              "      <td>Inception</td>\n",
              "      <td>27.920</td>\n",
              "      <td>2010-07-16</td>\n",
              "      <td>Inception</td>\n",
              "      <td>8.3</td>\n",
              "      <td>22186</td>\n",
              "    </tr>\n",
              "  </tbody>\n",
              "</table>\n",
              "</div>\n",
              "      <button class=\"colab-df-convert\" onclick=\"convertToInteractive('df-06e4f6d7-dfbd-46be-84da-31bb214b163d')\"\n",
              "              title=\"Convert this dataframe to an interactive table.\"\n",
              "              style=\"display:none;\">\n",
              "        \n",
              "  <svg xmlns=\"http://www.w3.org/2000/svg\" height=\"24px\"viewBox=\"0 0 24 24\"\n",
              "       width=\"24px\">\n",
              "    <path d=\"M0 0h24v24H0V0z\" fill=\"none\"/>\n",
              "    <path d=\"M18.56 5.44l.94 2.06.94-2.06 2.06-.94-2.06-.94-.94-2.06-.94 2.06-2.06.94zm-11 1L8.5 8.5l.94-2.06 2.06-.94-2.06-.94L8.5 2.5l-.94 2.06-2.06.94zm10 10l.94 2.06.94-2.06 2.06-.94-2.06-.94-.94-2.06-.94 2.06-2.06.94z\"/><path d=\"M17.41 7.96l-1.37-1.37c-.4-.4-.92-.59-1.43-.59-.52 0-1.04.2-1.43.59L10.3 9.45l-7.72 7.72c-.78.78-.78 2.05 0 2.83L4 21.41c.39.39.9.59 1.41.59.51 0 1.02-.2 1.41-.59l7.78-7.78 2.81-2.81c.8-.78.8-2.07 0-2.86zM5.41 20L4 18.59l7.72-7.72 1.47 1.35L5.41 20z\"/>\n",
              "  </svg>\n",
              "      </button>\n",
              "      \n",
              "  <style>\n",
              "    .colab-df-container {\n",
              "      display:flex;\n",
              "      flex-wrap:wrap;\n",
              "      gap: 12px;\n",
              "    }\n",
              "\n",
              "    .colab-df-convert {\n",
              "      background-color: #E8F0FE;\n",
              "      border: none;\n",
              "      border-radius: 50%;\n",
              "      cursor: pointer;\n",
              "      display: none;\n",
              "      fill: #1967D2;\n",
              "      height: 32px;\n",
              "      padding: 0 0 0 0;\n",
              "      width: 32px;\n",
              "    }\n",
              "\n",
              "    .colab-df-convert:hover {\n",
              "      background-color: #E2EBFA;\n",
              "      box-shadow: 0px 1px 2px rgba(60, 64, 67, 0.3), 0px 1px 3px 1px rgba(60, 64, 67, 0.15);\n",
              "      fill: #174EA6;\n",
              "    }\n",
              "\n",
              "    [theme=dark] .colab-df-convert {\n",
              "      background-color: #3B4455;\n",
              "      fill: #D2E3FC;\n",
              "    }\n",
              "\n",
              "    [theme=dark] .colab-df-convert:hover {\n",
              "      background-color: #434B5C;\n",
              "      box-shadow: 0px 1px 3px 1px rgba(0, 0, 0, 0.15);\n",
              "      filter: drop-shadow(0px 1px 2px rgba(0, 0, 0, 0.3));\n",
              "      fill: #FFFFFF;\n",
              "    }\n",
              "  </style>\n",
              "\n",
              "      <script>\n",
              "        const buttonEl =\n",
              "          document.querySelector('#df-06e4f6d7-dfbd-46be-84da-31bb214b163d button.colab-df-convert');\n",
              "        buttonEl.style.display =\n",
              "          google.colab.kernel.accessAllowed ? 'block' : 'none';\n",
              "\n",
              "        async function convertToInteractive(key) {\n",
              "          const element = document.querySelector('#df-06e4f6d7-dfbd-46be-84da-31bb214b163d');\n",
              "          const dataTable =\n",
              "            await google.colab.kernel.invokeFunction('convertToInteractive',\n",
              "                                                     [key], {});\n",
              "          if (!dataTable) return;\n",
              "\n",
              "          const docLinkHtml = 'Like what you see? Visit the ' +\n",
              "            '<a target=\"_blank\" href=https://colab.research.google.com/notebooks/data_table.ipynb>data table notebook</a>'\n",
              "            + ' to learn more about interactive tables.';\n",
              "          element.innerHTML = '';\n",
              "          dataTable['output_type'] = 'display_data';\n",
              "          await google.colab.output.renderOutput(dataTable, element);\n",
              "          const docLink = document.createElement('div');\n",
              "          docLink.innerHTML = docLinkHtml;\n",
              "          element.appendChild(docLink);\n",
              "        }\n",
              "      </script>\n",
              "    </div>\n",
              "  </div>\n",
              "  "
            ]
          },
          "metadata": {},
          "execution_count": 28
        }
      ]
    },
    {
      "cell_type": "code",
      "source": [
        "top_language = mdb_movies['original_language'].unique()[:10]\n",
        "top_language_count = mdb_movies['original_language'].value_counts().nlargest(10).tolist()\n",
        "#top_language_sum = mdb_movies('top_language_count').sum()[:10]\n",
        "#top_language_percentage = top_language_sum / top_language_count = mdb_movies *100\n",
        "print(\"Language:\", top_language)\n",
        "\n",
        "print(\"Counts:\", top_language_count)\n",
        "\n",
        "\n",
        "\n"
      ],
      "metadata": {
        "id": "n25d7PFFtgRg",
        "colab": {
          "base_uri": "https://localhost:8080/"
        },
        "outputId": "0b3e31a4-7cc2-441b-d09c-d6cc3b3d58ea"
      },
      "execution_count": 29,
      "outputs": [
        {
          "output_type": "stream",
          "name": "stdout",
          "text": [
            "Language: ['en' 'nl' 'es' 'ja' 'sv' 'de' 'fr' 'cn' 'it' 'ru']\n",
            "Counts: [23291, 507, 455, 298, 265, 237, 177, 172, 123, 96]\n"
          ]
        }
      ]
    },
    {
      "cell_type": "code",
      "source": [
        "bar_chart_title = \"Top 10 Original Movie Language\"\n",
        "\n",
        "fig, ax = plt.subplots()\n",
        "\n",
        "\n",
        "ax.bar(top_language,top_language_count)\n",
        "ax.set_xlabel('Language')\n",
        "ax.set_ylabel('Count of Language Movies')\n",
        "ax.set_title(bar_chart_title)\n"
      ],
      "metadata": {
        "colab": {
          "base_uri": "https://localhost:8080/",
          "height": 489
        },
        "id": "HPVaTGrDHpWU",
        "outputId": "b4971bef-0de6-4f82-8622-d07c3e574340"
      },
      "execution_count": 73,
      "outputs": [
        {
          "output_type": "execute_result",
          "data": {
            "text/plain": [
              "Text(0.5, 1.0, 'Top 10 Original Movie Language')"
            ]
          },
          "metadata": {},
          "execution_count": 73
        },
        {
          "output_type": "display_data",
          "data": {
            "text/plain": [
              "<Figure size 640x480 with 1 Axes>"
            ],
            "image/png": "[encoded data removed]"
          },
          "metadata": {}
        }
      ]
    },
    {
      "cell_type": "code",
      "source": [
        "none_english "
      ],
      "metadata": {
        "id": "5qizpN9En56h"
      },
      "execution_count": null,
      "outputs": []
    },
    {
      "cell_type": "code",
      "source": [
        "mdb_movies['genre_ids'].unique"
      ],
      "metadata": {
        "colab": {
          "base_uri": "https://localhost:8080/"
        },
        "id": "AIXZOJ7NmeUm",
        "outputId": "715d6837-0a01-46ca-f8ec-6643c32f51b6"
      },
      "execution_count": 31,
      "outputs": [
        {
          "output_type": "execute_result",
          "data": {
            "text/plain": [
              "<bound method Series.unique of 0            [12, 14, 10751]\n",
              "1        [14, 12, 16, 10751]\n",
              "2              [12, 28, 878]\n",
              "3            [16, 35, 10751]\n",
              "4              [28, 878, 12]\n",
              "                ...         \n",
              "26512               [27, 18]\n",
              "26513               [18, 53]\n",
              "26514           [14, 28, 12]\n",
              "26515        [10751, 12, 28]\n",
              "26516               [53, 27]\n",
              "Name: genre_ids, Length: 26517, dtype: object>"
            ]
          },
          "metadata": {},
          "execution_count": 31
        }
      ]
    },
    {
      "cell_type": "code",
      "source": [
        "mdb_movies.isna().sum()"
      ],
      "metadata": {
        "colab": {
          "base_uri": "https://localhost:8080/"
        },
        "id": "GWtXazgjeY65",
        "outputId": "5e6d3cf3-f450-459d-dcff-00de8b3127d9"
      },
      "execution_count": 32,
      "outputs": [
        {
          "output_type": "execute_result",
          "data": {
            "text/plain": [
              "genre_ids            0\n",
              "id                   0\n",
              "original_language    0\n",
              "original_title       0\n",
              "popularity           0\n",
              "release_date         0\n",
              "title                0\n",
              "vote_average         0\n",
              "vote_count           0\n",
              "dtype: int64"
            ]
          },
          "metadata": {},
          "execution_count": 32
        }
      ]
    },
    {
      "cell_type": "code",
      "source": [
        "mdb_movies.shape"
      ],
      "metadata": {
        "colab": {
          "base_uri": "https://localhost:8080/"
        },
        "id": "o3kPPW7L6sFg",
        "outputId": "51de59db-0972-4ce0-8c85-6e9b59adf69d"
      },
      "execution_count": 33,
      "outputs": [
        {
          "output_type": "execute_result",
          "data": {
            "text/plain": [
              "(26517, 9)"
            ]
          },
          "metadata": {},
          "execution_count": 33
        }
      ]
    },
    {
      "cell_type": "code",
      "source": [
        "mdb_movies.duplicated().value_counts()"
      ],
      "metadata": {
        "colab": {
          "base_uri": "https://localhost:8080/"
        },
        "id": "dK65jgPksN0o",
        "outputId": "88acd8a0-11d2-43b7-b35b-1ddc331e24be"
      },
      "execution_count": 34,
      "outputs": [
        {
          "output_type": "execute_result",
          "data": {
            "text/plain": [
              "False    25497\n",
              "True      1020\n",
              "dtype: int64"
            ]
          },
          "metadata": {},
          "execution_count": 34
        }
      ]
    },
    {
      "cell_type": "markdown",
      "source": [
        "Load the movie budgetdata into a DataFrame and do some exploratory."
      ],
      "metadata": {
        "id": "qAvm7Mnxtqmw"
      }
    },
    {
      "cell_type": "code",
      "source": [
        "#Load the csv data\n",
        "movie_budget = pd.read_csv('/content/tn.movie_budgets.csv',index_col=0)\n",
        "movie_budget.head()"
      ],
      "metadata": {
        "colab": {
          "base_uri": "https://localhost:8080/",
          "height": 237
        },
        "id": "8le6_hL9twVG",
        "outputId": "cdb94d7a-52d7-4d8f-ad88-b144f1b0f19e"
      },
      "execution_count": 35,
      "outputs": [
        {
          "output_type": "execute_result",
          "data": {
            "text/plain": [
              "    release_date                                        movie  \\\n",
              "id                                                              \n",
              "1   Dec 18, 2009                                       Avatar   \n",
              "2   May 20, 2011  Pirates of the Caribbean: On Stranger Tides   \n",
              "3    Jun 7, 2019                                 Dark Phoenix   \n",
              "4    May 1, 2015                      Avengers: Age of Ultron   \n",
              "5   Dec 15, 2017            Star Wars Ep. VIII: The Last Jedi   \n",
              "\n",
              "   production_budget domestic_gross worldwide_gross  \n",
              "id                                                   \n",
              "1       $425,000,000   $760,507,625  $2,776,345,279  \n",
              "2       $410,600,000   $241,063,875  $1,045,663,875  \n",
              "3       $350,000,000    $42,762,350    $149,762,350  \n",
              "4       $330,600,000   $459,005,868  $1,403,013,963  \n",
              "5       $317,000,000   $620,181,382  $1,316,721,747  "
            ],
            "text/html": [
              "\n",
              "  <div id=\"df-b8e42d3d-0f19-47b0-846a-623b1bda78eb\">\n",
              "    <div class=\"colab-df-container\">\n",
              "      <div>\n",
              "<style scoped>\n",
              "    .dataframe tbody tr th:only-of-type {\n",
              "        vertical-align: middle;\n",
              "    }\n",
              "\n",
              "    .dataframe tbody tr th {\n",
              "        vertical-align: top;\n",
              "    }\n",
              "\n",
              "    .dataframe thead th {\n",
              "        text-align: right;\n",
              "    }\n",
              "</style>\n",
              "<table border=\"1\" class=\"dataframe\">\n",
              "  <thead>\n",
              "    <tr style=\"text-align: right;\">\n",
              "      <th></th>\n",
              "      <th>release_date</th>\n",
              "      <th>movie</th>\n",
              "      <th>production_budget</th>\n",
              "      <th>domestic_gross</th>\n",
              "      <th>worldwide_gross</th>\n",
              "    </tr>\n",
              "    <tr>\n",
              "      <th>id</th>\n",
              "      <th></th>\n",
              "      <th></th>\n",
              "      <th></th>\n",
              "      <th></th>\n",
              "      <th></th>\n",
              "    </tr>\n",
              "  </thead>\n",
              "  <tbody>\n",
              "    <tr>\n",
              "      <th>1</th>\n",
              "      <td>Dec 18, 2009</td>\n",
              "      <td>Avatar</td>\n",
              "      <td>$425,000,000</td>\n",
              "      <td>$760,507,625</td>\n",
              "      <td>$2,776,345,279</td>\n",
              "    </tr>\n",
              "    <tr>\n",
              "      <th>2</th>\n",
              "      <td>May 20, 2011</td>\n",
              "      <td>Pirates of the Caribbean: On Stranger Tides</td>\n",
              "      <td>$410,600,000</td>\n",
              "      <td>$241,063,875</td>\n",
              "      <td>$1,045,663,875</td>\n",
              "    </tr>\n",
              "    <tr>\n",
              "      <th>3</th>\n",
              "      <td>Jun 7, 2019</td>\n",
              "      <td>Dark Phoenix</td>\n",
              "      <td>$350,000,000</td>\n",
              "      <td>$42,762,350</td>\n",
              "      <td>$149,762,350</td>\n",
              "    </tr>\n",
              "    <tr>\n",
              "      <th>4</th>\n",
              "      <td>May 1, 2015</td>\n",
              "      <td>Avengers: Age of Ultron</td>\n",
              "      <td>$330,600,000</td>\n",
              "      <td>$459,005,868</td>\n",
              "      <td>$1,403,013,963</td>\n",
              "    </tr>\n",
              "    <tr>\n",
              "      <th>5</th>\n",
              "      <td>Dec 15, 2017</td>\n",
              "      <td>Star Wars Ep. VIII: The Last Jedi</td>\n",
              "      <td>$317,000,000</td>\n",
              "      <td>$620,181,382</td>\n",
              "      <td>$1,316,721,747</td>\n",
              "    </tr>\n",
              "  </tbody>\n",
              "</table>\n",
              "</div>\n",
              "      <button class=\"colab-df-convert\" onclick=\"convertToInteractive('df-b8e42d3d-0f19-47b0-846a-623b1bda78eb')\"\n",
              "              title=\"Convert this dataframe to an interactive table.\"\n",
              "              style=\"display:none;\">\n",
              "        \n",
              "  <svg xmlns=\"http://www.w3.org/2000/svg\" height=\"24px\"viewBox=\"0 0 24 24\"\n",
              "       width=\"24px\">\n",
              "    <path d=\"M0 0h24v24H0V0z\" fill=\"none\"/>\n",
              "    <path d=\"M18.56 5.44l.94 2.06.94-2.06 2.06-.94-2.06-.94-.94-2.06-.94 2.06-2.06.94zm-11 1L8.5 8.5l.94-2.06 2.06-.94-2.06-.94L8.5 2.5l-.94 2.06-2.06.94zm10 10l.94 2.06.94-2.06 2.06-.94-2.06-.94-.94-2.06-.94 2.06-2.06.94z\"/><path d=\"M17.41 7.96l-1.37-1.37c-.4-.4-.92-.59-1.43-.59-.52 0-1.04.2-1.43.59L10.3 9.45l-7.72 7.72c-.78.78-.78 2.05 0 2.83L4 21.41c.39.39.9.59 1.41.59.51 0 1.02-.2 1.41-.59l7.78-7.78 2.81-2.81c.8-.78.8-2.07 0-2.86zM5.41 20L4 18.59l7.72-7.72 1.47 1.35L5.41 20z\"/>\n",
              "  </svg>\n",
              "      </button>\n",
              "      \n",
              "  <style>\n",
              "    .colab-df-container {\n",
              "      display:flex;\n",
              "      flex-wrap:wrap;\n",
              "      gap: 12px;\n",
              "    }\n",
              "\n",
              "    .colab-df-convert {\n",
              "      background-color: #E8F0FE;\n",
              "      border: none;\n",
              "      border-radius: 50%;\n",
              "      cursor: pointer;\n",
              "      display: none;\n",
              "      fill: #1967D2;\n",
              "      height: 32px;\n",
              "      padding: 0 0 0 0;\n",
              "      width: 32px;\n",
              "    }\n",
              "\n",
              "    .colab-df-convert:hover {\n",
              "      background-color: #E2EBFA;\n",
              "      box-shadow: 0px 1px 2px rgba(60, 64, 67, 0.3), 0px 1px 3px 1px rgba(60, 64, 67, 0.15);\n",
              "      fill: #174EA6;\n",
              "    }\n",
              "\n",
              "    [theme=dark] .colab-df-convert {\n",
              "      background-color: #3B4455;\n",
              "      fill: #D2E3FC;\n",
              "    }\n",
              "\n",
              "    [theme=dark] .colab-df-convert:hover {\n",
              "      background-color: #434B5C;\n",
              "      box-shadow: 0px 1px 3px 1px rgba(0, 0, 0, 0.15);\n",
              "      filter: drop-shadow(0px 1px 2px rgba(0, 0, 0, 0.3));\n",
              "      fill: #FFFFFF;\n",
              "    }\n",
              "  </style>\n",
              "\n",
              "      <script>\n",
              "        const buttonEl =\n",
              "          document.querySelector('#df-b8e42d3d-0f19-47b0-846a-623b1bda78eb button.colab-df-convert');\n",
              "        buttonEl.style.display =\n",
              "          google.colab.kernel.accessAllowed ? 'block' : 'none';\n",
              "\n",
              "        async function convertToInteractive(key) {\n",
              "          const element = document.querySelector('#df-b8e42d3d-0f19-47b0-846a-623b1bda78eb');\n",
              "          const dataTable =\n",
              "            await google.colab.kernel.invokeFunction('convertToInteractive',\n",
              "                                                     [key], {});\n",
              "          if (!dataTable) return;\n",
              "\n",
              "          const docLinkHtml = 'Like what you see? Visit the ' +\n",
              "            '<a target=\"_blank\" href=https://colab.research.google.com/notebooks/data_table.ipynb>data table notebook</a>'\n",
              "            + ' to learn more about interactive tables.';\n",
              "          element.innerHTML = '';\n",
              "          dataTable['output_type'] = 'display_data';\n",
              "          await google.colab.output.renderOutput(dataTable, element);\n",
              "          const docLink = document.createElement('div');\n",
              "          docLink.innerHTML = docLinkHtml;\n",
              "          element.appendChild(docLink);\n",
              "        }\n",
              "      </script>\n",
              "    </div>\n",
              "  </div>\n",
              "  "
            ]
          },
          "metadata": {},
          "execution_count": 35
        }
      ]
    },
    {
      "cell_type": "code",
      "source": [
        "movie_budget.dtypes"
      ],
      "metadata": {
        "colab": {
          "base_uri": "https://localhost:8080/"
        },
        "id": "aqClyEvjumM0",
        "outputId": "efe9c72f-9b65-4ecc-b0c8-8d66cec8f225"
      },
      "execution_count": 36,
      "outputs": [
        {
          "output_type": "execute_result",
          "data": {
            "text/plain": [
              "release_date         object\n",
              "movie                object\n",
              "production_budget    object\n",
              "domestic_gross       object\n",
              "worldwide_gross      object\n",
              "dtype: object"
            ]
          },
          "metadata": {},
          "execution_count": 36
        }
      ]
    },
    {
      "cell_type": "code",
      "source": [
        "#convert the release date data into datetime\n",
        "movie_budget['release_date'] =  pd.to_datetime(movie_budget['release_date'])\n",
        "movie_budget['release_date'].describe()"
      ],
      "metadata": {
        "colab": {
          "base_uri": "https://localhost:8080/"
        },
        "id": "Y1p5v1TCvYdC",
        "outputId": "7ab3374d-90df-4a9f-e882-48040d6331d6"
      },
      "execution_count": 37,
      "outputs": [
        {
          "output_type": "stream",
          "name": "stderr",
          "text": [
            "<ipython-input-37-dfb959834d69>:3: FutureWarning: Treating datetime data as categorical rather than numeric in `.describe` is deprecated and will be removed in a future version of pandas. Specify `datetime_is_numeric=True` to silence this warning and adopt the future behavior now.\n",
            "  movie_budget['release_date'].describe()\n"
          ]
        },
        {
          "output_type": "execute_result",
          "data": {
            "text/plain": [
              "count                    5782\n",
              "unique                   2418\n",
              "top       2014-12-31 00:00:00\n",
              "freq                       24\n",
              "first     1915-02-08 00:00:00\n",
              "last      2020-12-31 00:00:00\n",
              "Name: release_date, dtype: object"
            ]
          },
          "metadata": {},
          "execution_count": 37
        }
      ]
    },
    {
      "cell_type": "code",
      "source": [
        "#Remove the characters using a function.Example $ and ,\n",
        "def remove_character(data, cols, characters):\n",
        "    \"\"\"simple function to remove characters\"\"\"\n",
        "    # loop through the columns\n",
        "    for col in cols:\n",
        "        data[col] = data[col].str.strip(characters)\n",
        "\n",
        "    return data.head()\n",
        "\n",
        "remove_character(movie_budget, ['production_budget', 'domestic_gross', 'worldwide_gross'],'$')"
      ],
      "metadata": {
        "colab": {
          "base_uri": "https://localhost:8080/",
          "height": 237
        },
        "id": "kK2XtiTDyim3",
        "outputId": "225f4fdf-3790-4a5b-ce9e-6e0d7268f9d2"
      },
      "execution_count": 38,
      "outputs": [
        {
          "output_type": "execute_result",
          "data": {
            "text/plain": [
              "   release_date                                        movie  \\\n",
              "id                                                             \n",
              "1    2009-12-18                                       Avatar   \n",
              "2    2011-05-20  Pirates of the Caribbean: On Stranger Tides   \n",
              "3    2019-06-07                                 Dark Phoenix   \n",
              "4    2015-05-01                      Avengers: Age of Ultron   \n",
              "5    2017-12-15            Star Wars Ep. VIII: The Last Jedi   \n",
              "\n",
              "   production_budget domestic_gross worldwide_gross  \n",
              "id                                                   \n",
              "1        425,000,000    760,507,625   2,776,345,279  \n",
              "2        410,600,000    241,063,875   1,045,663,875  \n",
              "3        350,000,000     42,762,350     149,762,350  \n",
              "4        330,600,000    459,005,868   1,403,013,963  \n",
              "5        317,000,000    620,181,382   1,316,721,747  "
            ],
            "text/html": [
              "\n",
              "  <div id=\"df-f60036e1-410d-4c32-9a67-f697969e48b2\">\n",
              "    <div class=\"colab-df-container\">\n",
              "      <div>\n",
              "<style scoped>\n",
              "    .dataframe tbody tr th:only-of-type {\n",
              "        vertical-align: middle;\n",
              "    }\n",
              "\n",
              "    .dataframe tbody tr th {\n",
              "        vertical-align: top;\n",
              "    }\n",
              "\n",
              "    .dataframe thead th {\n",
              "        text-align: right;\n",
              "    }\n",
              "</style>\n",
              "<table border=\"1\" class=\"dataframe\">\n",
              "  <thead>\n",
              "    <tr style=\"text-align: right;\">\n",
              "      <th></th>\n",
              "      <th>release_date</th>\n",
              "      <th>movie</th>\n",
              "      <th>production_budget</th>\n",
              "      <th>domestic_gross</th>\n",
              "      <th>worldwide_gross</th>\n",
              "    </tr>\n",
              "    <tr>\n",
              "      <th>id</th>\n",
              "      <th></th>\n",
              "      <th></th>\n",
              "      <th></th>\n",
              "      <th></th>\n",
              "      <th></th>\n",
              "    </tr>\n",
              "  </thead>\n",
              "  <tbody>\n",
              "    <tr>\n",
              "      <th>1</th>\n",
              "      <td>2009-12-18</td>\n",
              "      <td>Avatar</td>\n",
              "      <td>425,000,000</td>\n",
              "      <td>760,507,625</td>\n",
              "      <td>2,776,345,279</td>\n",
              "    </tr>\n",
              "    <tr>\n",
              "      <th>2</th>\n",
              "      <td>2011-05-20</td>\n",
              "      <td>Pirates of the Caribbean: On Stranger Tides</td>\n",
              "      <td>410,600,000</td>\n",
              "      <td>241,063,875</td>\n",
              "      <td>1,045,663,875</td>\n",
              "    </tr>\n",
              "    <tr>\n",
              "      <th>3</th>\n",
              "      <td>2019-06-07</td>\n",
              "      <td>Dark Phoenix</td>\n",
              "      <td>350,000,000</td>\n",
              "      <td>42,762,350</td>\n",
              "      <td>149,762,350</td>\n",
              "    </tr>\n",
              "    <tr>\n",
              "      <th>4</th>\n",
              "      <td>2015-05-01</td>\n",
              "      <td>Avengers: Age of Ultron</td>\n",
              "      <td>330,600,000</td>\n",
              "      <td>459,005,868</td>\n",
              "      <td>1,403,013,963</td>\n",
              "    </tr>\n",
              "    <tr>\n",
              "      <th>5</th>\n",
              "      <td>2017-12-15</td>\n",
              "      <td>Star Wars Ep. VIII: The Last Jedi</td>\n",
              "      <td>317,000,000</td>\n",
              "      <td>620,181,382</td>\n",
              "      <td>1,316,721,747</td>\n",
              "    </tr>\n",
              "  </tbody>\n",
              "</table>\n",
              "</div>\n",
              "      <button class=\"colab-df-convert\" onclick=\"convertToInteractive('df-f60036e1-410d-4c32-9a67-f697969e48b2')\"\n",
              "              title=\"Convert this dataframe to an interactive table.\"\n",
              "              style=\"display:none;\">\n",
              "        \n",
              "  <svg xmlns=\"http://www.w3.org/2000/svg\" height=\"24px\"viewBox=\"0 0 24 24\"\n",
              "       width=\"24px\">\n",
              "    <path d=\"M0 0h24v24H0V0z\" fill=\"none\"/>\n",
              "    <path d=\"M18.56 5.44l.94 2.06.94-2.06 2.06-.94-2.06-.94-.94-2.06-.94 2.06-2.06.94zm-11 1L8.5 8.5l.94-2.06 2.06-.94-2.06-.94L8.5 2.5l-.94 2.06-2.06.94zm10 10l.94 2.06.94-2.06 2.06-.94-2.06-.94-.94-2.06-.94 2.06-2.06.94z\"/><path d=\"M17.41 7.96l-1.37-1.37c-.4-.4-.92-.59-1.43-.59-.52 0-1.04.2-1.43.59L10.3 9.45l-7.72 7.72c-.78.78-.78 2.05 0 2.83L4 21.41c.39.39.9.59 1.41.59.51 0 1.02-.2 1.41-.59l7.78-7.78 2.81-2.81c.8-.78.8-2.07 0-2.86zM5.41 20L4 18.59l7.72-7.72 1.47 1.35L5.41 20z\"/>\n",
              "  </svg>\n",
              "      </button>\n",
              "      \n",
              "  <style>\n",
              "    .colab-df-container {\n",
              "      display:flex;\n",
              "      flex-wrap:wrap;\n",
              "      gap: 12px;\n",
              "    }\n",
              "\n",
              "    .colab-df-convert {\n",
              "      background-color: #E8F0FE;\n",
              "      border: none;\n",
              "      border-radius: 50%;\n",
              "      cursor: pointer;\n",
              "      display: none;\n",
              "      fill: #1967D2;\n",
              "      height: 32px;\n",
              "      padding: 0 0 0 0;\n",
              "      width: 32px;\n",
              "    }\n",
              "\n",
              "    .colab-df-convert:hover {\n",
              "      background-color: #E2EBFA;\n",
              "      box-shadow: 0px 1px 2px rgba(60, 64, 67, 0.3), 0px 1px 3px 1px rgba(60, 64, 67, 0.15);\n",
              "      fill: #174EA6;\n",
              "    }\n",
              "\n",
              "    [theme=dark] .colab-df-convert {\n",
              "      background-color: #3B4455;\n",
              "      fill: #D2E3FC;\n",
              "    }\n",
              "\n",
              "    [theme=dark] .colab-df-convert:hover {\n",
              "      background-color: #434B5C;\n",
              "      box-shadow: 0px 1px 3px 1px rgba(0, 0, 0, 0.15);\n",
              "      filter: drop-shadow(0px 1px 2px rgba(0, 0, 0, 0.3));\n",
              "      fill: #FFFFFF;\n",
              "    }\n",
              "  </style>\n",
              "\n",
              "      <script>\n",
              "        const buttonEl =\n",
              "          document.querySelector('#df-f60036e1-410d-4c32-9a67-f697969e48b2 button.colab-df-convert');\n",
              "        buttonEl.style.display =\n",
              "          google.colab.kernel.accessAllowed ? 'block' : 'none';\n",
              "\n",
              "        async function convertToInteractive(key) {\n",
              "          const element = document.querySelector('#df-f60036e1-410d-4c32-9a67-f697969e48b2');\n",
              "          const dataTable =\n",
              "            await google.colab.kernel.invokeFunction('convertToInteractive',\n",
              "                                                     [key], {});\n",
              "          if (!dataTable) return;\n",
              "\n",
              "          const docLinkHtml = 'Like what you see? Visit the ' +\n",
              "            '<a target=\"_blank\" href=https://colab.research.google.com/notebooks/data_table.ipynb>data table notebook</a>'\n",
              "            + ' to learn more about interactive tables.';\n",
              "          element.innerHTML = '';\n",
              "          dataTable['output_type'] = 'display_data';\n",
              "          await google.colab.output.renderOutput(dataTable, element);\n",
              "          const docLink = document.createElement('div');\n",
              "          docLink.innerHTML = docLinkHtml;\n",
              "          element.appendChild(docLink);\n",
              "        }\n",
              "      </script>\n",
              "    </div>\n",
              "  </div>\n",
              "  "
            ]
          },
          "metadata": {},
          "execution_count": 38
        }
      ]
    },
    {
      "cell_type": "code",
      "source": [
        "#movie_budget.dtypes"
      ],
      "metadata": {
        "id": "Vp5CJZklzR7j"
      },
      "execution_count": 39,
      "outputs": []
    },
    {
      "cell_type": "code",
      "source": [
        "#movie_budget.head()"
      ],
      "metadata": {
        "id": "a2_DytarIsJB"
      },
      "execution_count": 40,
      "outputs": []
    },
    {
      "cell_type": "code",
      "source": [
        "movie_budget['domestic_gross'] = movie_budget['domestic_gross'].str.replace(',','')\n",
        "movie_budget['domestic_gross'] = pd.to_numeric(movie_budget['domestic_gross'])\n"
      ],
      "metadata": {
        "id": "rOcmDHXFHJ2p"
      },
      "execution_count": 41,
      "outputs": []
    },
    {
      "cell_type": "code",
      "source": [
        "movie_budget['production_budget'] = movie_budget['production_budget'].str.replace(',','')\n",
        "movie_budget['production_budget'] = pd.to_numeric(movie_budget['production_budget'])\n"
      ],
      "metadata": {
        "id": "kYTszS53Tstu"
      },
      "execution_count": 42,
      "outputs": []
    },
    {
      "cell_type": "code",
      "source": [
        "movie_budget['worldwide_gross'] = movie_budget['worldwide_gross'].str.replace(',','')\n",
        "movie_budget['worldwide_gross'] = pd.to_numeric(movie_budget['worldwide_gross'])"
      ],
      "metadata": {
        "id": "GsVvxBCZnYUm"
      },
      "execution_count": 43,
      "outputs": []
    },
    {
      "cell_type": "code",
      "source": [
        "movie_budget['release_date'] = pd.to_datetime(movie_budget['release_date'])"
      ],
      "metadata": {
        "id": "OLS-o686Vt4D"
      },
      "execution_count": 44,
      "outputs": []
    },
    {
      "cell_type": "code",
      "source": [
        "movie_budget.info()"
      ],
      "metadata": {
        "colab": {
          "base_uri": "https://localhost:8080/"
        },
        "id": "VLj8FCAyo4a0",
        "outputId": "9225b163-eb00-4ad9-b5b6-a76c3cd6de2f"
      },
      "execution_count": 45,
      "outputs": [
        {
          "output_type": "stream",
          "name": "stdout",
          "text": [
            "<class 'pandas.core.frame.DataFrame'>\n",
            "Int64Index: 5782 entries, 1 to 82\n",
            "Data columns (total 5 columns):\n",
            " #   Column             Non-Null Count  Dtype         \n",
            "---  ------             --------------  -----         \n",
            " 0   release_date       5782 non-null   datetime64[ns]\n",
            " 1   movie              5782 non-null   object        \n",
            " 2   production_budget  5782 non-null   int64         \n",
            " 3   domestic_gross     5782 non-null   int64         \n",
            " 4   worldwide_gross    5782 non-null   int64         \n",
            "dtypes: datetime64[ns](1), int64(3), object(1)\n",
            "memory usage: 271.0+ KB\n"
          ]
        }
      ]
    },
    {
      "cell_type": "code",
      "source": [
        "#CHECK THE DATAFRAME WITH THE ADDED COLUMNS(ADD THE COLUMNS)\n",
        "movie_budget['month'] = movie_budget['release_date'].dt.month\n",
        "movie_budget['year'] = movie_budget['release_date'].dt.year\n",
        "movie_budget['day'] = movie_budget['release_date'].dt.day\n",
        "movie_budget['total_gross'] = movie_budget[ 'domestic_gross']+ movie_budget['worldwide_gross']\n",
        "movie_budget['net_gross'] = movie_budget['total_gross']- movie_budget['production_budget']\n",
        "movie_budget.head()"
      ],
      "metadata": {
        "colab": {
          "base_uri": "https://localhost:8080/",
          "height": 281
        },
        "id": "yq0-Fx9jUvVs",
        "outputId": "8305e296-ea14-4726-c2b6-6ce69e49bf7c"
      },
      "execution_count": 46,
      "outputs": [
        {
          "output_type": "execute_result",
          "data": {
            "text/plain": [
              "   release_date                                        movie  \\\n",
              "id                                                             \n",
              "1    2009-12-18                                       Avatar   \n",
              "2    2011-05-20  Pirates of the Caribbean: On Stranger Tides   \n",
              "3    2019-06-07                                 Dark Phoenix   \n",
              "4    2015-05-01                      Avengers: Age of Ultron   \n",
              "5    2017-12-15            Star Wars Ep. VIII: The Last Jedi   \n",
              "\n",
              "    production_budget  domestic_gross  worldwide_gross  month  year  day  \\\n",
              "id                                                                         \n",
              "1           425000000       760507625       2776345279     12  2009   18   \n",
              "2           410600000       241063875       1045663875      5  2011   20   \n",
              "3           350000000        42762350        149762350      6  2019    7   \n",
              "4           330600000       459005868       1403013963      5  2015    1   \n",
              "5           317000000       620181382       1316721747     12  2017   15   \n",
              "\n",
              "    total_gross   net_gross  \n",
              "id                           \n",
              "1    3536852904  3111852904  \n",
              "2    1286727750   876127750  \n",
              "3     192524700  -157475300  \n",
              "4    1862019831  1531419831  \n",
              "5    1936903129  1619903129  "
            ],
            "text/html": [
              "\n",
              "  <div id=\"df-df33ae51-9c94-490d-b6fd-e818bad6389c\">\n",
              "    <div class=\"colab-df-container\">\n",
              "      <div>\n",
              "<style scoped>\n",
              "    .dataframe tbody tr th:only-of-type {\n",
              "        vertical-align: middle;\n",
              "    }\n",
              "\n",
              "    .dataframe tbody tr th {\n",
              "        vertical-align: top;\n",
              "    }\n",
              "\n",
              "    .dataframe thead th {\n",
              "        text-align: right;\n",
              "    }\n",
              "</style>\n",
              "<table border=\"1\" class=\"dataframe\">\n",
              "  <thead>\n",
              "    <tr style=\"text-align: right;\">\n",
              "      <th></th>\n",
              "      <th>release_date</th>\n",
              "      <th>movie</th>\n",
              "      <th>production_budget</th>\n",
              "      <th>domestic_gross</th>\n",
              "      <th>worldwide_gross</th>\n",
              "      <th>month</th>\n",
              "      <th>year</th>\n",
              "      <th>day</th>\n",
              "      <th>total_gross</th>\n",
              "      <th>net_gross</th>\n",
              "    </tr>\n",
              "    <tr>\n",
              "      <th>id</th>\n",
              "      <th></th>\n",
              "      <th></th>\n",
              "      <th></th>\n",
              "      <th></th>\n",
              "      <th></th>\n",
              "      <th></th>\n",
              "      <th></th>\n",
              "      <th></th>\n",
              "      <th></th>\n",
              "      <th></th>\n",
              "    </tr>\n",
              "  </thead>\n",
              "  <tbody>\n",
              "    <tr>\n",
              "      <th>1</th>\n",
              "      <td>2009-12-18</td>\n",
              "      <td>Avatar</td>\n",
              "      <td>425000000</td>\n",
              "      <td>760507625</td>\n",
              "      <td>2776345279</td>\n",
              "      <td>12</td>\n",
              "      <td>2009</td>\n",
              "      <td>18</td>\n",
              "      <td>3536852904</td>\n",
              "      <td>3111852904</td>\n",
              "    </tr>\n",
              "    <tr>\n",
              "      <th>2</th>\n",
              "      <td>2011-05-20</td>\n",
              "      <td>Pirates of the Caribbean: On Stranger Tides</td>\n",
              "      <td>410600000</td>\n",
              "      <td>241063875</td>\n",
              "      <td>1045663875</td>\n",
              "      <td>5</td>\n",
              "      <td>2011</td>\n",
              "      <td>20</td>\n",
              "      <td>1286727750</td>\n",
              "      <td>876127750</td>\n",
              "    </tr>\n",
              "    <tr>\n",
              "      <th>3</th>\n",
              "      <td>2019-06-07</td>\n",
              "      <td>Dark Phoenix</td>\n",
              "      <td>350000000</td>\n",
              "      <td>42762350</td>\n",
              "      <td>149762350</td>\n",
              "      <td>6</td>\n",
              "      <td>2019</td>\n",
              "      <td>7</td>\n",
              "      <td>192524700</td>\n",
              "      <td>-157475300</td>\n",
              "    </tr>\n",
              "    <tr>\n",
              "      <th>4</th>\n",
              "      <td>2015-05-01</td>\n",
              "      <td>Avengers: Age of Ultron</td>\n",
              "      <td>330600000</td>\n",
              "      <td>459005868</td>\n",
              "      <td>1403013963</td>\n",
              "      <td>5</td>\n",
              "      <td>2015</td>\n",
              "      <td>1</td>\n",
              "      <td>1862019831</td>\n",
              "      <td>1531419831</td>\n",
              "    </tr>\n",
              "    <tr>\n",
              "      <th>5</th>\n",
              "      <td>2017-12-15</td>\n",
              "      <td>Star Wars Ep. VIII: The Last Jedi</td>\n",
              "      <td>317000000</td>\n",
              "      <td>620181382</td>\n",
              "      <td>1316721747</td>\n",
              "      <td>12</td>\n",
              "      <td>2017</td>\n",
              "      <td>15</td>\n",
              "      <td>1936903129</td>\n",
              "      <td>1619903129</td>\n",
              "    </tr>\n",
              "  </tbody>\n",
              "</table>\n",
              "</div>\n",
              "      <button class=\"colab-df-convert\" onclick=\"convertToInteractive('df-df33ae51-9c94-490d-b6fd-e818bad6389c')\"\n",
              "              title=\"Convert this dataframe to an interactive table.\"\n",
              "              style=\"display:none;\">\n",
              "        \n",
              "  <svg xmlns=\"http://www.w3.org/2000/svg\" height=\"24px\"viewBox=\"0 0 24 24\"\n",
              "       width=\"24px\">\n",
              "    <path d=\"M0 0h24v24H0V0z\" fill=\"none\"/>\n",
              "    <path d=\"M18.56 5.44l.94 2.06.94-2.06 2.06-.94-2.06-.94-.94-2.06-.94 2.06-2.06.94zm-11 1L8.5 8.5l.94-2.06 2.06-.94-2.06-.94L8.5 2.5l-.94 2.06-2.06.94zm10 10l.94 2.06.94-2.06 2.06-.94-2.06-.94-.94-2.06-.94 2.06-2.06.94z\"/><path d=\"M17.41 7.96l-1.37-1.37c-.4-.4-.92-.59-1.43-.59-.52 0-1.04.2-1.43.59L10.3 9.45l-7.72 7.72c-.78.78-.78 2.05 0 2.83L4 21.41c.39.39.9.59 1.41.59.51 0 1.02-.2 1.41-.59l7.78-7.78 2.81-2.81c.8-.78.8-2.07 0-2.86zM5.41 20L4 18.59l7.72-7.72 1.47 1.35L5.41 20z\"/>\n",
              "  </svg>\n",
              "      </button>\n",
              "      \n",
              "  <style>\n",
              "    .colab-df-container {\n",
              "      display:flex;\n",
              "      flex-wrap:wrap;\n",
              "      gap: 12px;\n",
              "    }\n",
              "\n",
              "    .colab-df-convert {\n",
              "      background-color: #E8F0FE;\n",
              "      border: none;\n",
              "      border-radius: 50%;\n",
              "      cursor: pointer;\n",
              "      display: none;\n",
              "      fill: #1967D2;\n",
              "      height: 32px;\n",
              "      padding: 0 0 0 0;\n",
              "      width: 32px;\n",
              "    }\n",
              "\n",
              "    .colab-df-convert:hover {\n",
              "      background-color: #E2EBFA;\n",
              "      box-shadow: 0px 1px 2px rgba(60, 64, 67, 0.3), 0px 1px 3px 1px rgba(60, 64, 67, 0.15);\n",
              "      fill: #174EA6;\n",
              "    }\n",
              "\n",
              "    [theme=dark] .colab-df-convert {\n",
              "      background-color: #3B4455;\n",
              "      fill: #D2E3FC;\n",
              "    }\n",
              "\n",
              "    [theme=dark] .colab-df-convert:hover {\n",
              "      background-color: #434B5C;\n",
              "      box-shadow: 0px 1px 3px 1px rgba(0, 0, 0, 0.15);\n",
              "      filter: drop-shadow(0px 1px 2px rgba(0, 0, 0, 0.3));\n",
              "      fill: #FFFFFF;\n",
              "    }\n",
              "  </style>\n",
              "\n",
              "      <script>\n",
              "        const buttonEl =\n",
              "          document.querySelector('#df-df33ae51-9c94-490d-b6fd-e818bad6389c button.colab-df-convert');\n",
              "        buttonEl.style.display =\n",
              "          google.colab.kernel.accessAllowed ? 'block' : 'none';\n",
              "\n",
              "        async function convertToInteractive(key) {\n",
              "          const element = document.querySelector('#df-df33ae51-9c94-490d-b6fd-e818bad6389c');\n",
              "          const dataTable =\n",
              "            await google.colab.kernel.invokeFunction('convertToInteractive',\n",
              "                                                     [key], {});\n",
              "          if (!dataTable) return;\n",
              "\n",
              "          const docLinkHtml = 'Like what you see? Visit the ' +\n",
              "            '<a target=\"_blank\" href=https://colab.research.google.com/notebooks/data_table.ipynb>data table notebook</a>'\n",
              "            + ' to learn more about interactive tables.';\n",
              "          element.innerHTML = '';\n",
              "          dataTable['output_type'] = 'display_data';\n",
              "          await google.colab.output.renderOutput(dataTable, element);\n",
              "          const docLink = document.createElement('div');\n",
              "          docLink.innerHTML = docLinkHtml;\n",
              "          element.appendChild(docLink);\n",
              "        }\n",
              "      </script>\n",
              "    </div>\n",
              "  </div>\n",
              "  "
            ]
          },
          "metadata": {},
          "execution_count": 46
        }
      ]
    },
    {
      "cell_type": "code",
      "source": [
        "#CHECK FOR STATISTICAK MEASUREMENT FOR THE COLUMNS WITH NUMERICAL DATA \n",
        "movie_budget_clean  = movie_budget\n",
        "#movie_budget_clean =['production_budget']\n",
        "movie_budget_clean.describe()"
      ],
      "metadata": {
        "colab": {
          "base_uri": "https://localhost:8080/",
          "height": 300
        },
        "id": "1rk4wkC2VdZd",
        "outputId": "dbcbdd31-8286-4108-df93-28b2de2a6295"
      },
      "execution_count": 47,
      "outputs": [
        {
          "output_type": "execute_result",
          "data": {
            "text/plain": [
              "       production_budget  domestic_gross  worldwide_gross        month  \\\n",
              "count       5.782000e+03    5.782000e+03     5.782000e+03  5782.000000   \n",
              "mean        3.158776e+07    4.187333e+07     9.148746e+07     7.050675   \n",
              "std         4.181208e+07    6.824060e+07     1.747200e+08     3.480147   \n",
              "min         1.100000e+03    0.000000e+00     0.000000e+00     1.000000   \n",
              "25%         5.000000e+06    1.429534e+06     4.125415e+06     4.000000   \n",
              "50%         1.700000e+07    1.722594e+07     2.798445e+07     7.000000   \n",
              "75%         4.000000e+07    5.234866e+07     9.764584e+07    10.000000   \n",
              "max         4.250000e+08    9.366622e+08     2.776345e+09    12.000000   \n",
              "\n",
              "              year          day   total_gross     net_gross  \n",
              "count  5782.000000  5782.000000  5.782000e+03  5.782000e+03  \n",
              "mean   2003.967139    16.401245  1.333608e+08  1.017730e+08  \n",
              "std      12.724386     8.803660  2.399411e+08  2.108880e+08  \n",
              "min    1915.000000     1.000000  0.000000e+00 -1.574753e+08  \n",
              "25%    2000.000000     9.000000  6.448924e+06 -3.098222e+05  \n",
              "50%    2007.000000    17.000000  4.605855e+07  2.499538e+07  \n",
              "75%    2012.000000    24.000000  1.506937e+08  1.111648e+08  \n",
              "max    2020.000000    31.000000  3.536853e+09  3.111853e+09  "
            ],
            "text/html": [
              "\n",
              "  <div id=\"df-faa621b7-805b-4442-8a10-1e23f298ef3e\">\n",
              "    <div class=\"colab-df-container\">\n",
              "      <div>\n",
              "<style scoped>\n",
              "    .dataframe tbody tr th:only-of-type {\n",
              "        vertical-align: middle;\n",
              "    }\n",
              "\n",
              "    .dataframe tbody tr th {\n",
              "        vertical-align: top;\n",
              "    }\n",
              "\n",
              "    .dataframe thead th {\n",
              "        text-align: right;\n",
              "    }\n",
              "</style>\n",
              "<table border=\"1\" class=\"dataframe\">\n",
              "  <thead>\n",
              "    <tr style=\"text-align: right;\">\n",
              "      <th></th>\n",
              "      <th>production_budget</th>\n",
              "      <th>domestic_gross</th>\n",
              "      <th>worldwide_gross</th>\n",
              "      <th>month</th>\n",
              "      <th>year</th>\n",
              "      <th>day</th>\n",
              "      <th>total_gross</th>\n",
              "      <th>net_gross</th>\n",
              "    </tr>\n",
              "  </thead>\n",
              "  <tbody>\n",
              "    <tr>\n",
              "      <th>count</th>\n",
              "      <td>5.782000e+03</td>\n",
              "      <td>5.782000e+03</td>\n",
              "      <td>5.782000e+03</td>\n",
              "      <td>5782.000000</td>\n",
              "      <td>5782.000000</td>\n",
              "      <td>5782.000000</td>\n",
              "      <td>5.782000e+03</td>\n",
              "      <td>5.782000e+03</td>\n",
              "    </tr>\n",
              "    <tr>\n",
              "      <th>mean</th>\n",
              "      <td>3.158776e+07</td>\n",
              "      <td>4.187333e+07</td>\n",
              "      <td>9.148746e+07</td>\n",
              "      <td>7.050675</td>\n",
              "      <td>2003.967139</td>\n",
              "      <td>16.401245</td>\n",
              "      <td>1.333608e+08</td>\n",
              "      <td>1.017730e+08</td>\n",
              "    </tr>\n",
              "    <tr>\n",
              "      <th>std</th>\n",
              "      <td>4.181208e+07</td>\n",
              "      <td>6.824060e+07</td>\n",
              "      <td>1.747200e+08</td>\n",
              "      <td>3.480147</td>\n",
              "      <td>12.724386</td>\n",
              "      <td>8.803660</td>\n",
              "      <td>2.399411e+08</td>\n",
              "      <td>2.108880e+08</td>\n",
              "    </tr>\n",
              "    <tr>\n",
              "      <th>min</th>\n",
              "      <td>1.100000e+03</td>\n",
              "      <td>0.000000e+00</td>\n",
              "      <td>0.000000e+00</td>\n",
              "      <td>1.000000</td>\n",
              "      <td>1915.000000</td>\n",
              "      <td>1.000000</td>\n",
              "      <td>0.000000e+00</td>\n",
              "      <td>-1.574753e+08</td>\n",
              "    </tr>\n",
              "    <tr>\n",
              "      <th>25%</th>\n",
              "      <td>5.000000e+06</td>\n",
              "      <td>1.429534e+06</td>\n",
              "      <td>4.125415e+06</td>\n",
              "      <td>4.000000</td>\n",
              "      <td>2000.000000</td>\n",
              "      <td>9.000000</td>\n",
              "      <td>6.448924e+06</td>\n",
              "      <td>-3.098222e+05</td>\n",
              "    </tr>\n",
              "    <tr>\n",
              "      <th>50%</th>\n",
              "      <td>1.700000e+07</td>\n",
              "      <td>1.722594e+07</td>\n",
              "      <td>2.798445e+07</td>\n",
              "      <td>7.000000</td>\n",
              "      <td>2007.000000</td>\n",
              "      <td>17.000000</td>\n",
              "      <td>4.605855e+07</td>\n",
              "      <td>2.499538e+07</td>\n",
              "    </tr>\n",
              "    <tr>\n",
              "      <th>75%</th>\n",
              "      <td>4.000000e+07</td>\n",
              "      <td>5.234866e+07</td>\n",
              "      <td>9.764584e+07</td>\n",
              "      <td>10.000000</td>\n",
              "      <td>2012.000000</td>\n",
              "      <td>24.000000</td>\n",
              "      <td>1.506937e+08</td>\n",
              "      <td>1.111648e+08</td>\n",
              "    </tr>\n",
              "    <tr>\n",
              "      <th>max</th>\n",
              "      <td>4.250000e+08</td>\n",
              "      <td>9.366622e+08</td>\n",
              "      <td>2.776345e+09</td>\n",
              "      <td>12.000000</td>\n",
              "      <td>2020.000000</td>\n",
              "      <td>31.000000</td>\n",
              "      <td>3.536853e+09</td>\n",
              "      <td>3.111853e+09</td>\n",
              "    </tr>\n",
              "  </tbody>\n",
              "</table>\n",
              "</div>\n",
              "      <button class=\"colab-df-convert\" onclick=\"convertToInteractive('df-faa621b7-805b-4442-8a10-1e23f298ef3e')\"\n",
              "              title=\"Convert this dataframe to an interactive table.\"\n",
              "              style=\"display:none;\">\n",
              "        \n",
              "  <svg xmlns=\"http://www.w3.org/2000/svg\" height=\"24px\"viewBox=\"0 0 24 24\"\n",
              "       width=\"24px\">\n",
              "    <path d=\"M0 0h24v24H0V0z\" fill=\"none\"/>\n",
              "    <path d=\"M18.56 5.44l.94 2.06.94-2.06 2.06-.94-2.06-.94-.94-2.06-.94 2.06-2.06.94zm-11 1L8.5 8.5l.94-2.06 2.06-.94-2.06-.94L8.5 2.5l-.94 2.06-2.06.94zm10 10l.94 2.06.94-2.06 2.06-.94-2.06-.94-.94-2.06-.94 2.06-2.06.94z\"/><path d=\"M17.41 7.96l-1.37-1.37c-.4-.4-.92-.59-1.43-.59-.52 0-1.04.2-1.43.59L10.3 9.45l-7.72 7.72c-.78.78-.78 2.05 0 2.83L4 21.41c.39.39.9.59 1.41.59.51 0 1.02-.2 1.41-.59l7.78-7.78 2.81-2.81c.8-.78.8-2.07 0-2.86zM5.41 20L4 18.59l7.72-7.72 1.47 1.35L5.41 20z\"/>\n",
              "  </svg>\n",
              "      </button>\n",
              "      \n",
              "  <style>\n",
              "    .colab-df-container {\n",
              "      display:flex;\n",
              "      flex-wrap:wrap;\n",
              "      gap: 12px;\n",
              "    }\n",
              "\n",
              "    .colab-df-convert {\n",
              "      background-color: #E8F0FE;\n",
              "      border: none;\n",
              "      border-radius: 50%;\n",
              "      cursor: pointer;\n",
              "      display: none;\n",
              "      fill: #1967D2;\n",
              "      height: 32px;\n",
              "      padding: 0 0 0 0;\n",
              "      width: 32px;\n",
              "    }\n",
              "\n",
              "    .colab-df-convert:hover {\n",
              "      background-color: #E2EBFA;\n",
              "      box-shadow: 0px 1px 2px rgba(60, 64, 67, 0.3), 0px 1px 3px 1px rgba(60, 64, 67, 0.15);\n",
              "      fill: #174EA6;\n",
              "    }\n",
              "\n",
              "    [theme=dark] .colab-df-convert {\n",
              "      background-color: #3B4455;\n",
              "      fill: #D2E3FC;\n",
              "    }\n",
              "\n",
              "    [theme=dark] .colab-df-convert:hover {\n",
              "      background-color: #434B5C;\n",
              "      box-shadow: 0px 1px 3px 1px rgba(0, 0, 0, 0.15);\n",
              "      filter: drop-shadow(0px 1px 2px rgba(0, 0, 0, 0.3));\n",
              "      fill: #FFFFFF;\n",
              "    }\n",
              "  </style>\n",
              "\n",
              "      <script>\n",
              "        const buttonEl =\n",
              "          document.querySelector('#df-faa621b7-805b-4442-8a10-1e23f298ef3e button.colab-df-convert');\n",
              "        buttonEl.style.display =\n",
              "          google.colab.kernel.accessAllowed ? 'block' : 'none';\n",
              "\n",
              "        async function convertToInteractive(key) {\n",
              "          const element = document.querySelector('#df-faa621b7-805b-4442-8a10-1e23f298ef3e');\n",
              "          const dataTable =\n",
              "            await google.colab.kernel.invokeFunction('convertToInteractive',\n",
              "                                                     [key], {});\n",
              "          if (!dataTable) return;\n",
              "\n",
              "          const docLinkHtml = 'Like what you see? Visit the ' +\n",
              "            '<a target=\"_blank\" href=https://colab.research.google.com/notebooks/data_table.ipynb>data table notebook</a>'\n",
              "            + ' to learn more about interactive tables.';\n",
              "          element.innerHTML = '';\n",
              "          dataTable['output_type'] = 'display_data';\n",
              "          await google.colab.output.renderOutput(dataTable, element);\n",
              "          const docLink = document.createElement('div');\n",
              "          docLink.innerHTML = docLinkHtml;\n",
              "          element.appendChild(docLink);\n",
              "        }\n",
              "      </script>\n",
              "    </div>\n",
              "  </div>\n",
              "  "
            ]
          },
          "metadata": {},
          "execution_count": 47
        }
      ]
    },
    {
      "cell_type": "code",
      "source": [
        "movie_budget_clean.duplicated().value_counts()"
      ],
      "metadata": {
        "colab": {
          "base_uri": "https://localhost:8080/"
        },
        "id": "C3-Xc9n1gRFg",
        "outputId": "b7df69ba-ba6c-4f2f-ccd8-42f0fae1f565"
      },
      "execution_count": 48,
      "outputs": [
        {
          "output_type": "execute_result",
          "data": {
            "text/plain": [
              "False    5782\n",
              "dtype: int64"
            ]
          },
          "metadata": {},
          "execution_count": 48
        }
      ]
    },
    {
      "cell_type": "code",
      "source": [
        "movie_budget_clean['production_budget'].corr(movie_budget_clean['month'])"
      ],
      "metadata": {
        "colab": {
          "base_uri": "https://localhost:8080/"
        },
        "id": "5JJ6MV9CeafO",
        "outputId": "d584e8db-bbfd-4c0a-e4cd-0bc70d887499"
      },
      "execution_count": 49,
      "outputs": [
        {
          "output_type": "execute_result",
          "data": {
            "text/plain": [
              "0.02257524976931849"
            ]
          },
          "metadata": {},
          "execution_count": 49
        }
      ]
    },
    {
      "cell_type": "code",
      "source": [
        "movie_budget_clean.corr()"
      ],
      "metadata": {
        "colab": {
          "base_uri": "https://localhost:8080/",
          "height": 355
        },
        "id": "AYOZGoyBe-hV",
        "outputId": "15bbf54f-a47b-46bc-d90e-23a8747a9d29"
      },
      "execution_count": 50,
      "outputs": [
        {
          "output_type": "stream",
          "name": "stderr",
          "text": [
            "<ipython-input-50-765aa2c9200e>:1: FutureWarning: The default value of numeric_only in DataFrame.corr is deprecated. In a future version, it will default to False. Select only valid columns or specify the value of numeric_only to silence this warning.\n",
            "  movie_budget_clean.corr()\n"
          ]
        },
        {
          "output_type": "execute_result",
          "data": {
            "text/plain": [
              "                   production_budget  domestic_gross  worldwide_gross  \\\n",
              "production_budget           1.000000        0.685682         0.748306   \n",
              "domestic_gross              0.685682        1.000000         0.938853   \n",
              "worldwide_gross             0.748306        0.938853         1.000000   \n",
              "month                       0.022575        0.028034         0.030288   \n",
              "year                        0.176091        0.036690         0.100588   \n",
              "day                        -0.019217       -0.041380        -0.029274   \n",
              "total_gross                 0.739912        0.968058         0.995194   \n",
              "net_gross                   0.643580        0.965476         0.983933   \n",
              "\n",
              "                      month      year       day  total_gross  net_gross  \n",
              "production_budget  0.022575  0.176091 -0.019217     0.739912   0.643580  \n",
              "domestic_gross     0.028034  0.036690 -0.041380     0.968058   0.965476  \n",
              "worldwide_gross    0.030288  0.100588 -0.029274     0.995194   0.983933  \n",
              "month              1.000000 -0.020533  0.100438     0.030028   0.029689  \n",
              "year              -0.020533  1.000000  0.034229     0.083681   0.060296  \n",
              "day                0.100438  0.034229  1.000000    -0.033085  -0.033833  \n",
              "total_gross        0.030028  0.083681 -0.033085     1.000000   0.991066  \n",
              "net_gross          0.029689  0.060296 -0.033833     0.991066   1.000000  "
            ],
            "text/html": [
              "\n",
              "  <div id=\"df-9210e1bb-b2cf-4bab-b49a-84714efec167\">\n",
              "    <div class=\"colab-df-container\">\n",
              "      <div>\n",
              "<style scoped>\n",
              "    .dataframe tbody tr th:only-of-type {\n",
              "        vertical-align: middle;\n",
              "    }\n",
              "\n",
              "    .dataframe tbody tr th {\n",
              "        vertical-align: top;\n",
              "    }\n",
              "\n",
              "    .dataframe thead th {\n",
              "        text-align: right;\n",
              "    }\n",
              "</style>\n",
              "<table border=\"1\" class=\"dataframe\">\n",
              "  <thead>\n",
              "    <tr style=\"text-align: right;\">\n",
              "      <th></th>\n",
              "      <th>production_budget</th>\n",
              "      <th>domestic_gross</th>\n",
              "      <th>worldwide_gross</th>\n",
              "      <th>month</th>\n",
              "      <th>year</th>\n",
              "      <th>day</th>\n",
              "      <th>total_gross</th>\n",
              "      <th>net_gross</th>\n",
              "    </tr>\n",
              "  </thead>\n",
              "  <tbody>\n",
              "    <tr>\n",
              "      <th>production_budget</th>\n",
              "      <td>1.000000</td>\n",
              "      <td>0.685682</td>\n",
              "      <td>0.748306</td>\n",
              "      <td>0.022575</td>\n",
              "      <td>0.176091</td>\n",
              "      <td>-0.019217</td>\n",
              "      <td>0.739912</td>\n",
              "      <td>0.643580</td>\n",
              "    </tr>\n",
              "    <tr>\n",
              "      <th>domestic_gross</th>\n",
              "      <td>0.685682</td>\n",
              "      <td>1.000000</td>\n",
              "      <td>0.938853</td>\n",
              "      <td>0.028034</td>\n",
              "      <td>0.036690</td>\n",
              "      <td>-0.041380</td>\n",
              "      <td>0.968058</td>\n",
              "      <td>0.965476</td>\n",
              "    </tr>\n",
              "    <tr>\n",
              "      <th>worldwide_gross</th>\n",
              "      <td>0.748306</td>\n",
              "      <td>0.938853</td>\n",
              "      <td>1.000000</td>\n",
              "      <td>0.030288</td>\n",
              "      <td>0.100588</td>\n",
              "      <td>-0.029274</td>\n",
              "      <td>0.995194</td>\n",
              "      <td>0.983933</td>\n",
              "    </tr>\n",
              "    <tr>\n",
              "      <th>month</th>\n",
              "      <td>0.022575</td>\n",
              "      <td>0.028034</td>\n",
              "      <td>0.030288</td>\n",
              "      <td>1.000000</td>\n",
              "      <td>-0.020533</td>\n",
              "      <td>0.100438</td>\n",
              "      <td>0.030028</td>\n",
              "      <td>0.029689</td>\n",
              "    </tr>\n",
              "    <tr>\n",
              "      <th>year</th>\n",
              "      <td>0.176091</td>\n",
              "      <td>0.036690</td>\n",
              "      <td>0.100588</td>\n",
              "      <td>-0.020533</td>\n",
              "      <td>1.000000</td>\n",
              "      <td>0.034229</td>\n",
              "      <td>0.083681</td>\n",
              "      <td>0.060296</td>\n",
              "    </tr>\n",
              "    <tr>\n",
              "      <th>day</th>\n",
              "      <td>-0.019217</td>\n",
              "      <td>-0.041380</td>\n",
              "      <td>-0.029274</td>\n",
              "      <td>0.100438</td>\n",
              "      <td>0.034229</td>\n",
              "      <td>1.000000</td>\n",
              "      <td>-0.033085</td>\n",
              "      <td>-0.033833</td>\n",
              "    </tr>\n",
              "    <tr>\n",
              "      <th>total_gross</th>\n",
              "      <td>0.739912</td>\n",
              "      <td>0.968058</td>\n",
              "      <td>0.995194</td>\n",
              "      <td>0.030028</td>\n",
              "      <td>0.083681</td>\n",
              "      <td>-0.033085</td>\n",
              "      <td>1.000000</td>\n",
              "      <td>0.991066</td>\n",
              "    </tr>\n",
              "    <tr>\n",
              "      <th>net_gross</th>\n",
              "      <td>0.643580</td>\n",
              "      <td>0.965476</td>\n",
              "      <td>0.983933</td>\n",
              "      <td>0.029689</td>\n",
              "      <td>0.060296</td>\n",
              "      <td>-0.033833</td>\n",
              "      <td>0.991066</td>\n",
              "      <td>1.000000</td>\n",
              "    </tr>\n",
              "  </tbody>\n",
              "</table>\n",
              "</div>\n",
              "      <button class=\"colab-df-convert\" onclick=\"convertToInteractive('df-9210e1bb-b2cf-4bab-b49a-84714efec167')\"\n",
              "              title=\"Convert this dataframe to an interactive table.\"\n",
              "              style=\"display:none;\">\n",
              "        \n",
              "  <svg xmlns=\"http://www.w3.org/2000/svg\" height=\"24px\"viewBox=\"0 0 24 24\"\n",
              "       width=\"24px\">\n",
              "    <path d=\"M0 0h24v24H0V0z\" fill=\"none\"/>\n",
              "    <path d=\"M18.56 5.44l.94 2.06.94-2.06 2.06-.94-2.06-.94-.94-2.06-.94 2.06-2.06.94zm-11 1L8.5 8.5l.94-2.06 2.06-.94-2.06-.94L8.5 2.5l-.94 2.06-2.06.94zm10 10l.94 2.06.94-2.06 2.06-.94-2.06-.94-.94-2.06-.94 2.06-2.06.94z\"/><path d=\"M17.41 7.96l-1.37-1.37c-.4-.4-.92-.59-1.43-.59-.52 0-1.04.2-1.43.59L10.3 9.45l-7.72 7.72c-.78.78-.78 2.05 0 2.83L4 21.41c.39.39.9.59 1.41.59.51 0 1.02-.2 1.41-.59l7.78-7.78 2.81-2.81c.8-.78.8-2.07 0-2.86zM5.41 20L4 18.59l7.72-7.72 1.47 1.35L5.41 20z\"/>\n",
              "  </svg>\n",
              "      </button>\n",
              "      \n",
              "  <style>\n",
              "    .colab-df-container {\n",
              "      display:flex;\n",
              "      flex-wrap:wrap;\n",
              "      gap: 12px;\n",
              "    }\n",
              "\n",
              "    .colab-df-convert {\n",
              "      background-color: #E8F0FE;\n",
              "      border: none;\n",
              "      border-radius: 50%;\n",
              "      cursor: pointer;\n",
              "      display: none;\n",
              "      fill: #1967D2;\n",
              "      height: 32px;\n",
              "      padding: 0 0 0 0;\n",
              "      width: 32px;\n",
              "    }\n",
              "\n",
              "    .colab-df-convert:hover {\n",
              "      background-color: #E2EBFA;\n",
              "      box-shadow: 0px 1px 2px rgba(60, 64, 67, 0.3), 0px 1px 3px 1px rgba(60, 64, 67, 0.15);\n",
              "      fill: #174EA6;\n",
              "    }\n",
              "\n",
              "    [theme=dark] .colab-df-convert {\n",
              "      background-color: #3B4455;\n",
              "      fill: #D2E3FC;\n",
              "    }\n",
              "\n",
              "    [theme=dark] .colab-df-convert:hover {\n",
              "      background-color: #434B5C;\n",
              "      box-shadow: 0px 1px 3px 1px rgba(0, 0, 0, 0.15);\n",
              "      filter: drop-shadow(0px 1px 2px rgba(0, 0, 0, 0.3));\n",
              "      fill: #FFFFFF;\n",
              "    }\n",
              "  </style>\n",
              "\n",
              "      <script>\n",
              "        const buttonEl =\n",
              "          document.querySelector('#df-9210e1bb-b2cf-4bab-b49a-84714efec167 button.colab-df-convert');\n",
              "        buttonEl.style.display =\n",
              "          google.colab.kernel.accessAllowed ? 'block' : 'none';\n",
              "\n",
              "        async function convertToInteractive(key) {\n",
              "          const element = document.querySelector('#df-9210e1bb-b2cf-4bab-b49a-84714efec167');\n",
              "          const dataTable =\n",
              "            await google.colab.kernel.invokeFunction('convertToInteractive',\n",
              "                                                     [key], {});\n",
              "          if (!dataTable) return;\n",
              "\n",
              "          const docLinkHtml = 'Like what you see? Visit the ' +\n",
              "            '<a target=\"_blank\" href=https://colab.research.google.com/notebooks/data_table.ipynb>data table notebook</a>'\n",
              "            + ' to learn more about interactive tables.';\n",
              "          element.innerHTML = '';\n",
              "          dataTable['output_type'] = 'display_data';\n",
              "          await google.colab.output.renderOutput(dataTable, element);\n",
              "          const docLink = document.createElement('div');\n",
              "          docLink.innerHTML = docLinkHtml;\n",
              "          element.appendChild(docLink);\n",
              "        }\n",
              "      </script>\n",
              "    </div>\n",
              "  </div>\n",
              "  "
            ]
          },
          "metadata": {},
          "execution_count": 50
        }
      ]
    },
    {
      "cell_type": "code",
      "source": [
        "#he Movie Industry had tremendously growth over the period with peaks experienced in the the mid 2000's\n",
        "sns.histplot(data = movie_budget_clean, x =\"year\",color =\"blue\",bins=12).set_title('Trend of the Annual Movie Releases from 1920 to 2020')\n"
      ],
      "metadata": {
        "colab": {
          "base_uri": "https://localhost:8080/",
          "height": 489
        },
        "id": "EqdZG2cmbm3O",
        "outputId": "fe4ab68d-c58d-4216-aff2-5157a5a9ba3f"
      },
      "execution_count": 51,
      "outputs": [
        {
          "output_type": "execute_result",
          "data": {
            "text/plain": [
              "Text(0.5, 1.0, 'Trend of the Annual Movie Releases from 1920 to 2020')"
            ]
          },
          "metadata": {},
          "execution_count": 51
        },
        {
          "output_type": "display_data",
          "data": {
            "text/plain": [
              "<Figure size 640x480 with 1 Axes>"
            ],
            "image/png": "[encoded data removed]"
          },
          "metadata": {}
        }
      ]
    },
    {
      "cell_type": "code",
      "source": [
        "#The last quarter of a calender year is the best time to release new movies.\n",
        "sns.histplot(x =\"month\",color =\"orange\",bins=12, data=movie_budget_clean).set_title('Number of Released Movies by Month')"
      ],
      "metadata": {
        "colab": {
          "base_uri": "https://localhost:8080/",
          "height": 489
        },
        "id": "DpWhoeo7wl3v",
        "outputId": "2af5f371-c4a1-4cc6-c974-b1f866c34109"
      },
      "execution_count": 52,
      "outputs": [
        {
          "output_type": "execute_result",
          "data": {
            "text/plain": [
              "Text(0.5, 1.0, 'Number of Released Movies by Month')"
            ]
          },
          "metadata": {},
          "execution_count": 52
        },
        {
          "output_type": "display_data",
          "data": {
            "text/plain": [
              "<Figure size 640x480 with 1 Axes>"
            ],
            "image/png": "[encoded data removed]"
          },
          "metadata": {}
        }
      ]
    },
    {
      "cell_type": "code",
      "source": [
        "# A Majority of the movie breakeven after production with an estimated net revenue of between 300M-500M US dolars\n",
        "sns.scatterplot(data = movie_budget_clean, x =\"net_gross\",y=\"production_budget\", palette ='terrain').set_title('Correction between Production Budget and Net Revenue')"
      ],
      "metadata": {
        "colab": {
          "base_uri": "https://localhost:8080/",
          "height": 559
        },
        "id": "hDV0aMQ7cQeV",
        "outputId": "dab7dba1-52ec-4f64-e2a8-d1ba9624607d"
      },
      "execution_count": 53,
      "outputs": [
        {
          "output_type": "stream",
          "name": "stderr",
          "text": [
            "<ipython-input-53-288af8a8debb>:2: UserWarning: Ignoring `palette` because no `hue` variable has been assigned.\n",
            "  sns.scatterplot(data = movie_budget_clean, x =\"net_gross\",y=\"production_budget\", palette ='terrain').set_title('Correction between Production Budget and Net Revenue')\n"
          ]
        },
        {
          "output_type": "execute_result",
          "data": {
            "text/plain": [
              "Text(0.5, 1.0, 'Correction between Production Budget and Net Revenue')"
            ]
          },
          "metadata": {},
          "execution_count": 53
        },
        {
          "output_type": "display_data",
          "data": {
            "text/plain": [
              "<Figure size 640x480 with 1 Axes>"
            ],
            "image/png": "[encoded data removed]"
          },
          "metadata": {}
        }
      ]
    },
    {
      "cell_type": "code",
      "source": [
        "# A Majority of the movies breakeven after production with an estimated net revenue of between 300M-500M US dollars\n",
        "sns.scatterplot(x='production_budget',y='net_gross',data = movie_budget_clean,color='blue').set_title('Correction between Production Budget and Net Earnings')"
      ],
      "metadata": {
        "colab": {
          "base_uri": "https://localhost:8080/",
          "height": 504
        },
        "id": "QWhNu_qev4NE",
        "outputId": "5a905eb6-b1d5-4b7a-9e32-f5a0e0e72032"
      },
      "execution_count": 54,
      "outputs": [
        {
          "output_type": "execute_result",
          "data": {
            "text/plain": [
              "Text(0.5, 1.0, 'Correction between Production Budget and Net Earnings')"
            ]
          },
          "metadata": {},
          "execution_count": 54
        },
        {
          "output_type": "display_data",
          "data": {
            "text/plain": [
              "<Figure size 640x480 with 1 Axes>"
            ],
            "image/png": "[encoded data removed]"
          },
          "metadata": {}
        }
      ]
    },
    {
      "cell_type": "code",
      "source": [
        "movie_budget.corr()"
      ],
      "metadata": {
        "colab": {
          "base_uri": "https://localhost:8080/",
          "height": 355
        },
        "id": "CzjUka5nyP1_",
        "outputId": "939e449f-9e8f-4c2c-efef-d2b2054b0f1f"
      },
      "execution_count": 55,
      "outputs": [
        {
          "output_type": "stream",
          "name": "stderr",
          "text": [
            "<ipython-input-55-d9e7636924a1>:1: FutureWarning: The default value of numeric_only in DataFrame.corr is deprecated. In a future version, it will default to False. Select only valid columns or specify the value of numeric_only to silence this warning.\n",
            "  movie_budget.corr()\n"
          ]
        },
        {
          "output_type": "execute_result",
          "data": {
            "text/plain": [
              "                   production_budget  domestic_gross  worldwide_gross  \\\n",
              "production_budget           1.000000        0.685682         0.748306   \n",
              "domestic_gross              0.685682        1.000000         0.938853   \n",
              "worldwide_gross             0.748306        0.938853         1.000000   \n",
              "month                       0.022575        0.028034         0.030288   \n",
              "year                        0.176091        0.036690         0.100588   \n",
              "day                        -0.019217       -0.041380        -0.029274   \n",
              "total_gross                 0.739912        0.968058         0.995194   \n",
              "net_gross                   0.643580        0.965476         0.983933   \n",
              "\n",
              "                      month      year       day  total_gross  net_gross  \n",
              "production_budget  0.022575  0.176091 -0.019217     0.739912   0.643580  \n",
              "domestic_gross     0.028034  0.036690 -0.041380     0.968058   0.965476  \n",
              "worldwide_gross    0.030288  0.100588 -0.029274     0.995194   0.983933  \n",
              "month              1.000000 -0.020533  0.100438     0.030028   0.029689  \n",
              "year              -0.020533  1.000000  0.034229     0.083681   0.060296  \n",
              "day                0.100438  0.034229  1.000000    -0.033085  -0.033833  \n",
              "total_gross        0.030028  0.083681 -0.033085     1.000000   0.991066  \n",
              "net_gross          0.029689  0.060296 -0.033833     0.991066   1.000000  "
            ],
            "text/html": [
              "\n",
              "  <div id=\"df-bbd7763a-1b9f-4ba0-bf6c-4f1454ce4b87\">\n",
              "    <div class=\"colab-df-container\">\n",
              "      <div>\n",
              "<style scoped>\n",
              "    .dataframe tbody tr th:only-of-type {\n",
              "        vertical-align: middle;\n",
              "    }\n",
              "\n",
              "    .dataframe tbody tr th {\n",
              "        vertical-align: top;\n",
              "    }\n",
              "\n",
              "    .dataframe thead th {\n",
              "        text-align: right;\n",
              "    }\n",
              "</style>\n",
              "<table border=\"1\" class=\"dataframe\">\n",
              "  <thead>\n",
              "    <tr style=\"text-align: right;\">\n",
              "      <th></th>\n",
              "      <th>production_budget</th>\n",
              "      <th>domestic_gross</th>\n",
              "      <th>worldwide_gross</th>\n",
              "      <th>month</th>\n",
              "      <th>year</th>\n",
              "      <th>day</th>\n",
              "      <th>total_gross</th>\n",
              "      <th>net_gross</th>\n",
              "    </tr>\n",
              "  </thead>\n",
              "  <tbody>\n",
              "    <tr>\n",
              "      <th>production_budget</th>\n",
              "      <td>1.000000</td>\n",
              "      <td>0.685682</td>\n",
              "      <td>0.748306</td>\n",
              "      <td>0.022575</td>\n",
              "      <td>0.176091</td>\n",
              "      <td>-0.019217</td>\n",
              "      <td>0.739912</td>\n",
              "      <td>0.643580</td>\n",
              "    </tr>\n",
              "    <tr>\n",
              "      <th>domestic_gross</th>\n",
              "      <td>0.685682</td>\n",
              "      <td>1.000000</td>\n",
              "      <td>0.938853</td>\n",
              "      <td>0.028034</td>\n",
              "      <td>0.036690</td>\n",
              "      <td>-0.041380</td>\n",
              "      <td>0.968058</td>\n",
              "      <td>0.965476</td>\n",
              "    </tr>\n",
              "    <tr>\n",
              "      <th>worldwide_gross</th>\n",
              "      <td>0.748306</td>\n",
              "      <td>0.938853</td>\n",
              "      <td>1.000000</td>\n",
              "      <td>0.030288</td>\n",
              "      <td>0.100588</td>\n",
              "      <td>-0.029274</td>\n",
              "      <td>0.995194</td>\n",
              "      <td>0.983933</td>\n",
              "    </tr>\n",
              "    <tr>\n",
              "      <th>month</th>\n",
              "      <td>0.022575</td>\n",
              "      <td>0.028034</td>\n",
              "      <td>0.030288</td>\n",
              "      <td>1.000000</td>\n",
              "      <td>-0.020533</td>\n",
              "      <td>0.100438</td>\n",
              "      <td>0.030028</td>\n",
              "      <td>0.029689</td>\n",
              "    </tr>\n",
              "    <tr>\n",
              "      <th>year</th>\n",
              "      <td>0.176091</td>\n",
              "      <td>0.036690</td>\n",
              "      <td>0.100588</td>\n",
              "      <td>-0.020533</td>\n",
              "      <td>1.000000</td>\n",
              "      <td>0.034229</td>\n",
              "      <td>0.083681</td>\n",
              "      <td>0.060296</td>\n",
              "    </tr>\n",
              "    <tr>\n",
              "      <th>day</th>\n",
              "      <td>-0.019217</td>\n",
              "      <td>-0.041380</td>\n",
              "      <td>-0.029274</td>\n",
              "      <td>0.100438</td>\n",
              "      <td>0.034229</td>\n",
              "      <td>1.000000</td>\n",
              "      <td>-0.033085</td>\n",
              "      <td>-0.033833</td>\n",
              "    </tr>\n",
              "    <tr>\n",
              "      <th>total_gross</th>\n",
              "      <td>0.739912</td>\n",
              "      <td>0.968058</td>\n",
              "      <td>0.995194</td>\n",
              "      <td>0.030028</td>\n",
              "      <td>0.083681</td>\n",
              "      <td>-0.033085</td>\n",
              "      <td>1.000000</td>\n",
              "      <td>0.991066</td>\n",
              "    </tr>\n",
              "    <tr>\n",
              "      <th>net_gross</th>\n",
              "      <td>0.643580</td>\n",
              "      <td>0.965476</td>\n",
              "      <td>0.983933</td>\n",
              "      <td>0.029689</td>\n",
              "      <td>0.060296</td>\n",
              "      <td>-0.033833</td>\n",
              "      <td>0.991066</td>\n",
              "      <td>1.000000</td>\n",
              "    </tr>\n",
              "  </tbody>\n",
              "</table>\n",
              "</div>\n",
              "      <button class=\"colab-df-convert\" onclick=\"convertToInteractive('df-bbd7763a-1b9f-4ba0-bf6c-4f1454ce4b87')\"\n",
              "              title=\"Convert this dataframe to an interactive table.\"\n",
              "              style=\"display:none;\">\n",
              "        \n",
              "  <svg xmlns=\"http://www.w3.org/2000/svg\" height=\"24px\"viewBox=\"0 0 24 24\"\n",
              "       width=\"24px\">\n",
              "    <path d=\"M0 0h24v24H0V0z\" fill=\"none\"/>\n",
              "    <path d=\"M18.56 5.44l.94 2.06.94-2.06 2.06-.94-2.06-.94-.94-2.06-.94 2.06-2.06.94zm-11 1L8.5 8.5l.94-2.06 2.06-.94-2.06-.94L8.5 2.5l-.94 2.06-2.06.94zm10 10l.94 2.06.94-2.06 2.06-.94-2.06-.94-.94-2.06-.94 2.06-2.06.94z\"/><path d=\"M17.41 7.96l-1.37-1.37c-.4-.4-.92-.59-1.43-.59-.52 0-1.04.2-1.43.59L10.3 9.45l-7.72 7.72c-.78.78-.78 2.05 0 2.83L4 21.41c.39.39.9.59 1.41.59.51 0 1.02-.2 1.41-.59l7.78-7.78 2.81-2.81c.8-.78.8-2.07 0-2.86zM5.41 20L4 18.59l7.72-7.72 1.47 1.35L5.41 20z\"/>\n",
              "  </svg>\n",
              "      </button>\n",
              "      \n",
              "  <style>\n",
              "    .colab-df-container {\n",
              "      display:flex;\n",
              "      flex-wrap:wrap;\n",
              "      gap: 12px;\n",
              "    }\n",
              "\n",
              "    .colab-df-convert {\n",
              "      background-color: #E8F0FE;\n",
              "      border: none;\n",
              "      border-radius: 50%;\n",
              "      cursor: pointer;\n",
              "      display: none;\n",
              "      fill: #1967D2;\n",
              "      height: 32px;\n",
              "      padding: 0 0 0 0;\n",
              "      width: 32px;\n",
              "    }\n",
              "\n",
              "    .colab-df-convert:hover {\n",
              "      background-color: #E2EBFA;\n",
              "      box-shadow: 0px 1px 2px rgba(60, 64, 67, 0.3), 0px 1px 3px 1px rgba(60, 64, 67, 0.15);\n",
              "      fill: #174EA6;\n",
              "    }\n",
              "\n",
              "    [theme=dark] .colab-df-convert {\n",
              "      background-color: #3B4455;\n",
              "      fill: #D2E3FC;\n",
              "    }\n",
              "\n",
              "    [theme=dark] .colab-df-convert:hover {\n",
              "      background-color: #434B5C;\n",
              "      box-shadow: 0px 1px 3px 1px rgba(0, 0, 0, 0.15);\n",
              "      filter: drop-shadow(0px 1px 2px rgba(0, 0, 0, 0.3));\n",
              "      fill: #FFFFFF;\n",
              "    }\n",
              "  </style>\n",
              "\n",
              "      <script>\n",
              "        const buttonEl =\n",
              "          document.querySelector('#df-bbd7763a-1b9f-4ba0-bf6c-4f1454ce4b87 button.colab-df-convert');\n",
              "        buttonEl.style.display =\n",
              "          google.colab.kernel.accessAllowed ? 'block' : 'none';\n",
              "\n",
              "        async function convertToInteractive(key) {\n",
              "          const element = document.querySelector('#df-bbd7763a-1b9f-4ba0-bf6c-4f1454ce4b87');\n",
              "          const dataTable =\n",
              "            await google.colab.kernel.invokeFunction('convertToInteractive',\n",
              "                                                     [key], {});\n",
              "          if (!dataTable) return;\n",
              "\n",
              "          const docLinkHtml = 'Like what you see? Visit the ' +\n",
              "            '<a target=\"_blank\" href=https://colab.research.google.com/notebooks/data_table.ipynb>data table notebook</a>'\n",
              "            + ' to learn more about interactive tables.';\n",
              "          element.innerHTML = '';\n",
              "          dataTable['output_type'] = 'display_data';\n",
              "          await google.colab.output.renderOutput(dataTable, element);\n",
              "          const docLink = document.createElement('div');\n",
              "          docLink.innerHTML = docLinkHtml;\n",
              "          element.appendChild(docLink);\n",
              "        }\n",
              "      </script>\n",
              "    </div>\n",
              "  </div>\n",
              "  "
            ]
          },
          "metadata": {},
          "execution_count": 55
        }
      ]
    },
    {
      "cell_type": "code",
      "source": [
        "movie_budget.isna().sum()"
      ],
      "metadata": {
        "colab": {
          "base_uri": "https://localhost:8080/"
        },
        "id": "KkFYqIFnwj0S",
        "outputId": "b0e54e22-d5c1-44ba-835c-d43cf8a46cd2"
      },
      "execution_count": 56,
      "outputs": [
        {
          "output_type": "execute_result",
          "data": {
            "text/plain": [
              "release_date         0\n",
              "movie                0\n",
              "production_budget    0\n",
              "domestic_gross       0\n",
              "worldwide_gross      0\n",
              "month                0\n",
              "year                 0\n",
              "day                  0\n",
              "total_gross          0\n",
              "net_gross            0\n",
              "dtype: int64"
            ]
          },
          "metadata": {},
          "execution_count": 56
        }
      ]
    },
    {
      "cell_type": "code",
      "source": [
        "movie_budget.shape"
      ],
      "metadata": {
        "colab": {
          "base_uri": "https://localhost:8080/"
        },
        "id": "ZjtIeQWh8d_A",
        "outputId": "bbc50dda-bbae-4d53-f6ce-e0bb9ef921b4"
      },
      "execution_count": 57,
      "outputs": [
        {
          "output_type": "execute_result",
          "data": {
            "text/plain": [
              "(5782, 10)"
            ]
          },
          "metadata": {},
          "execution_count": 57
        }
      ]
    },
    {
      "cell_type": "markdown",
      "source": [
        "Load the bom_movie data."
      ],
      "metadata": {
        "id": "FmlG0CDIR8_f"
      }
    },
    {
      "cell_type": "code",
      "source": [
        "bom_movie = pd.read_csv('/content/bom.movie_gross.csv')\n",
        "bom_movie.head()"
      ],
      "metadata": {
        "colab": {
          "base_uri": "https://localhost:8080/",
          "height": 206
        },
        "id": "4Su7yLNov-Kq",
        "outputId": "2ad3e0b9-841f-4c18-a029-3997b75c2afb"
      },
      "execution_count": 58,
      "outputs": [
        {
          "output_type": "execute_result",
          "data": {
            "text/plain": [
              "                                         title studio  domestic_gross  \\\n",
              "0                                  Toy Story 3     BV     415000000.0   \n",
              "1                   Alice in Wonderland (2010)     BV     334200000.0   \n",
              "2  Harry Potter and the Deathly Hallows Part 1     WB     296000000.0   \n",
              "3                                    Inception     WB     292600000.0   \n",
              "4                          Shrek Forever After   P/DW     238700000.0   \n",
              "\n",
              "  foreign_gross  year  \n",
              "0     652000000  2010  \n",
              "1     691300000  2010  \n",
              "2     664300000  2010  \n",
              "3     535700000  2010  \n",
              "4     513900000  2010  "
            ],
            "text/html": [
              "\n",
              "  <div id=\"df-594b2481-409c-4790-8cea-b7746deebfab\">\n",
              "    <div class=\"colab-df-container\">\n",
              "      <div>\n",
              "<style scoped>\n",
              "    .dataframe tbody tr th:only-of-type {\n",
              "        vertical-align: middle;\n",
              "    }\n",
              "\n",
              "    .dataframe tbody tr th {\n",
              "        vertical-align: top;\n",
              "    }\n",
              "\n",
              "    .dataframe thead th {\n",
              "        text-align: right;\n",
              "    }\n",
              "</style>\n",
              "<table border=\"1\" class=\"dataframe\">\n",
              "  <thead>\n",
              "    <tr style=\"text-align: right;\">\n",
              "      <th></th>\n",
              "      <th>title</th>\n",
              "      <th>studio</th>\n",
              "      <th>domestic_gross</th>\n",
              "      <th>foreign_gross</th>\n",
              "      <th>year</th>\n",
              "    </tr>\n",
              "  </thead>\n",
              "  <tbody>\n",
              "    <tr>\n",
              "      <th>0</th>\n",
              "      <td>Toy Story 3</td>\n",
              "      <td>BV</td>\n",
              "      <td>415000000.0</td>\n",
              "      <td>652000000</td>\n",
              "      <td>2010</td>\n",
              "    </tr>\n",
              "    <tr>\n",
              "      <th>1</th>\n",
              "      <td>Alice in Wonderland (2010)</td>\n",
              "      <td>BV</td>\n",
              "      <td>334200000.0</td>\n",
              "      <td>691300000</td>\n",
              "      <td>2010</td>\n",
              "    </tr>\n",
              "    <tr>\n",
              "      <th>2</th>\n",
              "      <td>Harry Potter and the Deathly Hallows Part 1</td>\n",
              "      <td>WB</td>\n",
              "      <td>296000000.0</td>\n",
              "      <td>664300000</td>\n",
              "      <td>2010</td>\n",
              "    </tr>\n",
              "    <tr>\n",
              "      <th>3</th>\n",
              "      <td>Inception</td>\n",
              "      <td>WB</td>\n",
              "      <td>292600000.0</td>\n",
              "      <td>535700000</td>\n",
              "      <td>2010</td>\n",
              "    </tr>\n",
              "    <tr>\n",
              "      <th>4</th>\n",
              "      <td>Shrek Forever After</td>\n",
              "      <td>P/DW</td>\n",
              "      <td>238700000.0</td>\n",
              "      <td>513900000</td>\n",
              "      <td>2010</td>\n",
              "    </tr>\n",
              "  </tbody>\n",
              "</table>\n",
              "</div>\n",
              "      <button class=\"colab-df-convert\" onclick=\"convertToInteractive('df-594b2481-409c-4790-8cea-b7746deebfab')\"\n",
              "              title=\"Convert this dataframe to an interactive table.\"\n",
              "              style=\"display:none;\">\n",
              "        \n",
              "  <svg xmlns=\"http://www.w3.org/2000/svg\" height=\"24px\"viewBox=\"0 0 24 24\"\n",
              "       width=\"24px\">\n",
              "    <path d=\"M0 0h24v24H0V0z\" fill=\"none\"/>\n",
              "    <path d=\"M18.56 5.44l.94 2.06.94-2.06 2.06-.94-2.06-.94-.94-2.06-.94 2.06-2.06.94zm-11 1L8.5 8.5l.94-2.06 2.06-.94-2.06-.94L8.5 2.5l-.94 2.06-2.06.94zm10 10l.94 2.06.94-2.06 2.06-.94-2.06-.94-.94-2.06-.94 2.06-2.06.94z\"/><path d=\"M17.41 7.96l-1.37-1.37c-.4-.4-.92-.59-1.43-.59-.52 0-1.04.2-1.43.59L10.3 9.45l-7.72 7.72c-.78.78-.78 2.05 0 2.83L4 21.41c.39.39.9.59 1.41.59.51 0 1.02-.2 1.41-.59l7.78-7.78 2.81-2.81c.8-.78.8-2.07 0-2.86zM5.41 20L4 18.59l7.72-7.72 1.47 1.35L5.41 20z\"/>\n",
              "  </svg>\n",
              "      </button>\n",
              "      \n",
              "  <style>\n",
              "    .colab-df-container {\n",
              "      display:flex;\n",
              "      flex-wrap:wrap;\n",
              "      gap: 12px;\n",
              "    }\n",
              "\n",
              "    .colab-df-convert {\n",
              "      background-color: #E8F0FE;\n",
              "      border: none;\n",
              "      border-radius: 50%;\n",
              "      cursor: pointer;\n",
              "      display: none;\n",
              "      fill: #1967D2;\n",
              "      height: 32px;\n",
              "      padding: 0 0 0 0;\n",
              "      width: 32px;\n",
              "    }\n",
              "\n",
              "    .colab-df-convert:hover {\n",
              "      background-color: #E2EBFA;\n",
              "      box-shadow: 0px 1px 2px rgba(60, 64, 67, 0.3), 0px 1px 3px 1px rgba(60, 64, 67, 0.15);\n",
              "      fill: #174EA6;\n",
              "    }\n",
              "\n",
              "    [theme=dark] .colab-df-convert {\n",
              "      background-color: #3B4455;\n",
              "      fill: #D2E3FC;\n",
              "    }\n",
              "\n",
              "    [theme=dark] .colab-df-convert:hover {\n",
              "      background-color: #434B5C;\n",
              "      box-shadow: 0px 1px 3px 1px rgba(0, 0, 0, 0.15);\n",
              "      filter: drop-shadow(0px 1px 2px rgba(0, 0, 0, 0.3));\n",
              "      fill: #FFFFFF;\n",
              "    }\n",
              "  </style>\n",
              "\n",
              "      <script>\n",
              "        const buttonEl =\n",
              "          document.querySelector('#df-594b2481-409c-4790-8cea-b7746deebfab button.colab-df-convert');\n",
              "        buttonEl.style.display =\n",
              "          google.colab.kernel.accessAllowed ? 'block' : 'none';\n",
              "\n",
              "        async function convertToInteractive(key) {\n",
              "          const element = document.querySelector('#df-594b2481-409c-4790-8cea-b7746deebfab');\n",
              "          const dataTable =\n",
              "            await google.colab.kernel.invokeFunction('convertToInteractive',\n",
              "                                                     [key], {});\n",
              "          if (!dataTable) return;\n",
              "\n",
              "          const docLinkHtml = 'Like what you see? Visit the ' +\n",
              "            '<a target=\"_blank\" href=https://colab.research.google.com/notebooks/data_table.ipynb>data table notebook</a>'\n",
              "            + ' to learn more about interactive tables.';\n",
              "          element.innerHTML = '';\n",
              "          dataTable['output_type'] = 'display_data';\n",
              "          await google.colab.output.renderOutput(dataTable, element);\n",
              "          const docLink = document.createElement('div');\n",
              "          docLink.innerHTML = docLinkHtml;\n",
              "          element.appendChild(docLink);\n",
              "        }\n",
              "      </script>\n",
              "    </div>\n",
              "  </div>\n",
              "  "
            ]
          },
          "metadata": {},
          "execution_count": 58
        }
      ]
    },
    {
      "cell_type": "markdown",
      "source": [
        "Add a New columns showing the total gross earning per movie"
      ],
      "metadata": {
        "id": "udVMJgk2SHDi"
      }
    },
    {
      "cell_type": "code",
      "source": [
        "bom_movie['foreign_gross'] = bom_movie['foreign_gross'].str.replace(',','')\n",
        "bom_movie['foreign_gross'] = pd.to_numeric(bom_movie['foreign_gross'])"
      ],
      "metadata": {
        "id": "bYL4QOHD-Rgd"
      },
      "execution_count": 59,
      "outputs": []
    },
    {
      "cell_type": "code",
      "source": [
        "bom_movie['total_gross'] = bom_movie['domestic_gross'] + bom_movie['foreign_gross']\n",
        "bom_movie.head()"
      ],
      "metadata": {
        "colab": {
          "base_uri": "https://localhost:8080/",
          "height": 206
        },
        "id": "xG7HFdWc-qQa",
        "outputId": "6e013621-5deb-40a5-a175-628d5c795b05"
      },
      "execution_count": 60,
      "outputs": [
        {
          "output_type": "execute_result",
          "data": {
            "text/plain": [
              "                                         title studio  domestic_gross  \\\n",
              "0                                  Toy Story 3     BV     415000000.0   \n",
              "1                   Alice in Wonderland (2010)     BV     334200000.0   \n",
              "2  Harry Potter and the Deathly Hallows Part 1     WB     296000000.0   \n",
              "3                                    Inception     WB     292600000.0   \n",
              "4                          Shrek Forever After   P/DW     238700000.0   \n",
              "\n",
              "   foreign_gross  year   total_gross  \n",
              "0    652000000.0  2010  1.067000e+09  \n",
              "1    691300000.0  2010  1.025500e+09  \n",
              "2    664300000.0  2010  9.603000e+08  \n",
              "3    535700000.0  2010  8.283000e+08  \n",
              "4    513900000.0  2010  7.526000e+08  "
            ],
            "text/html": [
              "\n",
              "  <div id=\"df-7e14753f-5886-4585-a0ab-6ec8d4873787\">\n",
              "    <div class=\"colab-df-container\">\n",
              "      <div>\n",
              "<style scoped>\n",
              "    .dataframe tbody tr th:only-of-type {\n",
              "        vertical-align: middle;\n",
              "    }\n",
              "\n",
              "    .dataframe tbody tr th {\n",
              "        vertical-align: top;\n",
              "    }\n",
              "\n",
              "    .dataframe thead th {\n",
              "        text-align: right;\n",
              "    }\n",
              "</style>\n",
              "<table border=\"1\" class=\"dataframe\">\n",
              "  <thead>\n",
              "    <tr style=\"text-align: right;\">\n",
              "      <th></th>\n",
              "      <th>title</th>\n",
              "      <th>studio</th>\n",
              "      <th>domestic_gross</th>\n",
              "      <th>foreign_gross</th>\n",
              "      <th>year</th>\n",
              "      <th>total_gross</th>\n",
              "    </tr>\n",
              "  </thead>\n",
              "  <tbody>\n",
              "    <tr>\n",
              "      <th>0</th>\n",
              "      <td>Toy Story 3</td>\n",
              "      <td>BV</td>\n",
              "      <td>415000000.0</td>\n",
              "      <td>652000000.0</td>\n",
              "      <td>2010</td>\n",
              "      <td>1.067000e+09</td>\n",
              "    </tr>\n",
              "    <tr>\n",
              "      <th>1</th>\n",
              "      <td>Alice in Wonderland (2010)</td>\n",
              "      <td>BV</td>\n",
              "      <td>334200000.0</td>\n",
              "      <td>691300000.0</td>\n",
              "      <td>2010</td>\n",
              "      <td>1.025500e+09</td>\n",
              "    </tr>\n",
              "    <tr>\n",
              "      <th>2</th>\n",
              "      <td>Harry Potter and the Deathly Hallows Part 1</td>\n",
              "      <td>WB</td>\n",
              "      <td>296000000.0</td>\n",
              "      <td>664300000.0</td>\n",
              "      <td>2010</td>\n",
              "      <td>9.603000e+08</td>\n",
              "    </tr>\n",
              "    <tr>\n",
              "      <th>3</th>\n",
              "      <td>Inception</td>\n",
              "      <td>WB</td>\n",
              "      <td>292600000.0</td>\n",
              "      <td>535700000.0</td>\n",
              "      <td>2010</td>\n",
              "      <td>8.283000e+08</td>\n",
              "    </tr>\n",
              "    <tr>\n",
              "      <th>4</th>\n",
              "      <td>Shrek Forever After</td>\n",
              "      <td>P/DW</td>\n",
              "      <td>238700000.0</td>\n",
              "      <td>513900000.0</td>\n",
              "      <td>2010</td>\n",
              "      <td>7.526000e+08</td>\n",
              "    </tr>\n",
              "  </tbody>\n",
              "</table>\n",
              "</div>\n",
              "      <button class=\"colab-df-convert\" onclick=\"convertToInteractive('df-7e14753f-5886-4585-a0ab-6ec8d4873787')\"\n",
              "              title=\"Convert this dataframe to an interactive table.\"\n",
              "              style=\"display:none;\">\n",
              "        \n",
              "  <svg xmlns=\"http://www.w3.org/2000/svg\" height=\"24px\"viewBox=\"0 0 24 24\"\n",
              "       width=\"24px\">\n",
              "    <path d=\"M0 0h24v24H0V0z\" fill=\"none\"/>\n",
              "    <path d=\"M18.56 5.44l.94 2.06.94-2.06 2.06-.94-2.06-.94-.94-2.06-.94 2.06-2.06.94zm-11 1L8.5 8.5l.94-2.06 2.06-.94-2.06-.94L8.5 2.5l-.94 2.06-2.06.94zm10 10l.94 2.06.94-2.06 2.06-.94-2.06-.94-.94-2.06-.94 2.06-2.06.94z\"/><path d=\"M17.41 7.96l-1.37-1.37c-.4-.4-.92-.59-1.43-.59-.52 0-1.04.2-1.43.59L10.3 9.45l-7.72 7.72c-.78.78-.78 2.05 0 2.83L4 21.41c.39.39.9.59 1.41.59.51 0 1.02-.2 1.41-.59l7.78-7.78 2.81-2.81c.8-.78.8-2.07 0-2.86zM5.41 20L4 18.59l7.72-7.72 1.47 1.35L5.41 20z\"/>\n",
              "  </svg>\n",
              "      </button>\n",
              "      \n",
              "  <style>\n",
              "    .colab-df-container {\n",
              "      display:flex;\n",
              "      flex-wrap:wrap;\n",
              "      gap: 12px;\n",
              "    }\n",
              "\n",
              "    .colab-df-convert {\n",
              "      background-color: #E8F0FE;\n",
              "      border: none;\n",
              "      border-radius: 50%;\n",
              "      cursor: pointer;\n",
              "      display: none;\n",
              "      fill: #1967D2;\n",
              "      height: 32px;\n",
              "      padding: 0 0 0 0;\n",
              "      width: 32px;\n",
              "    }\n",
              "\n",
              "    .colab-df-convert:hover {\n",
              "      background-color: #E2EBFA;\n",
              "      box-shadow: 0px 1px 2px rgba(60, 64, 67, 0.3), 0px 1px 3px 1px rgba(60, 64, 67, 0.15);\n",
              "      fill: #174EA6;\n",
              "    }\n",
              "\n",
              "    [theme=dark] .colab-df-convert {\n",
              "      background-color: #3B4455;\n",
              "      fill: #D2E3FC;\n",
              "    }\n",
              "\n",
              "    [theme=dark] .colab-df-convert:hover {\n",
              "      background-color: #434B5C;\n",
              "      box-shadow: 0px 1px 3px 1px rgba(0, 0, 0, 0.15);\n",
              "      filter: drop-shadow(0px 1px 2px rgba(0, 0, 0, 0.3));\n",
              "      fill: #FFFFFF;\n",
              "    }\n",
              "  </style>\n",
              "\n",
              "      <script>\n",
              "        const buttonEl =\n",
              "          document.querySelector('#df-7e14753f-5886-4585-a0ab-6ec8d4873787 button.colab-df-convert');\n",
              "        buttonEl.style.display =\n",
              "          google.colab.kernel.accessAllowed ? 'block' : 'none';\n",
              "\n",
              "        async function convertToInteractive(key) {\n",
              "          const element = document.querySelector('#df-7e14753f-5886-4585-a0ab-6ec8d4873787');\n",
              "          const dataTable =\n",
              "            await google.colab.kernel.invokeFunction('convertToInteractive',\n",
              "                                                     [key], {});\n",
              "          if (!dataTable) return;\n",
              "\n",
              "          const docLinkHtml = 'Like what you see? Visit the ' +\n",
              "            '<a target=\"_blank\" href=https://colab.research.google.com/notebooks/data_table.ipynb>data table notebook</a>'\n",
              "            + ' to learn more about interactive tables.';\n",
              "          element.innerHTML = '';\n",
              "          dataTable['output_type'] = 'display_data';\n",
              "          await google.colab.output.renderOutput(dataTable, element);\n",
              "          const docLink = document.createElement('div');\n",
              "          docLink.innerHTML = docLinkHtml;\n",
              "          element.appendChild(docLink);\n",
              "        }\n",
              "      </script>\n",
              "    </div>\n",
              "  </div>\n",
              "  "
            ]
          },
          "metadata": {},
          "execution_count": 60
        }
      ]
    },
    {
      "cell_type": "code",
      "source": [
        "bom_movie.corr()"
      ],
      "metadata": {
        "colab": {
          "base_uri": "https://localhost:8080/",
          "height": 229
        },
        "id": "3ZHSpLCJWlGP",
        "outputId": "500a567c-410f-4237-bd14-755824ff8886"
      },
      "execution_count": 61,
      "outputs": [
        {
          "output_type": "stream",
          "name": "stderr",
          "text": [
            "<ipython-input-61-a66b3eb6edc1>:1: FutureWarning: The default value of numeric_only in DataFrame.corr is deprecated. In a future version, it will default to False. Select only valid columns or specify the value of numeric_only to silence this warning.\n",
            "  bom_movie.corr()\n"
          ]
        },
        {
          "output_type": "execute_result",
          "data": {
            "text/plain": [
              "                domestic_gross  foreign_gross      year  total_gross\n",
              "domestic_gross        1.000000       0.767991  0.018708     0.904548\n",
              "foreign_gross         0.767991       1.000000  0.145653     0.967759\n",
              "year                  0.018708       0.145653  1.000000     0.143127\n",
              "total_gross           0.904548       0.967759  0.143127     1.000000"
            ],
            "text/html": [
              "\n",
              "  <div id=\"df-d77ad1bc-841e-4344-9ed0-cae077931b6d\">\n",
              "    <div class=\"colab-df-container\">\n",
              "      <div>\n",
              "<style scoped>\n",
              "    .dataframe tbody tr th:only-of-type {\n",
              "        vertical-align: middle;\n",
              "    }\n",
              "\n",
              "    .dataframe tbody tr th {\n",
              "        vertical-align: top;\n",
              "    }\n",
              "\n",
              "    .dataframe thead th {\n",
              "        text-align: right;\n",
              "    }\n",
              "</style>\n",
              "<table border=\"1\" class=\"dataframe\">\n",
              "  <thead>\n",
              "    <tr style=\"text-align: right;\">\n",
              "      <th></th>\n",
              "      <th>domestic_gross</th>\n",
              "      <th>foreign_gross</th>\n",
              "      <th>year</th>\n",
              "      <th>total_gross</th>\n",
              "    </tr>\n",
              "  </thead>\n",
              "  <tbody>\n",
              "    <tr>\n",
              "      <th>domestic_gross</th>\n",
              "      <td>1.000000</td>\n",
              "      <td>0.767991</td>\n",
              "      <td>0.018708</td>\n",
              "      <td>0.904548</td>\n",
              "    </tr>\n",
              "    <tr>\n",
              "      <th>foreign_gross</th>\n",
              "      <td>0.767991</td>\n",
              "      <td>1.000000</td>\n",
              "      <td>0.145653</td>\n",
              "      <td>0.967759</td>\n",
              "    </tr>\n",
              "    <tr>\n",
              "      <th>year</th>\n",
              "      <td>0.018708</td>\n",
              "      <td>0.145653</td>\n",
              "      <td>1.000000</td>\n",
              "      <td>0.143127</td>\n",
              "    </tr>\n",
              "    <tr>\n",
              "      <th>total_gross</th>\n",
              "      <td>0.904548</td>\n",
              "      <td>0.967759</td>\n",
              "      <td>0.143127</td>\n",
              "      <td>1.000000</td>\n",
              "    </tr>\n",
              "  </tbody>\n",
              "</table>\n",
              "</div>\n",
              "      <button class=\"colab-df-convert\" onclick=\"convertToInteractive('df-d77ad1bc-841e-4344-9ed0-cae077931b6d')\"\n",
              "              title=\"Convert this dataframe to an interactive table.\"\n",
              "              style=\"display:none;\">\n",
              "        \n",
              "  <svg xmlns=\"http://www.w3.org/2000/svg\" height=\"24px\"viewBox=\"0 0 24 24\"\n",
              "       width=\"24px\">\n",
              "    <path d=\"M0 0h24v24H0V0z\" fill=\"none\"/>\n",
              "    <path d=\"M18.56 5.44l.94 2.06.94-2.06 2.06-.94-2.06-.94-.94-2.06-.94 2.06-2.06.94zm-11 1L8.5 8.5l.94-2.06 2.06-.94-2.06-.94L8.5 2.5l-.94 2.06-2.06.94zm10 10l.94 2.06.94-2.06 2.06-.94-2.06-.94-.94-2.06-.94 2.06-2.06.94z\"/><path d=\"M17.41 7.96l-1.37-1.37c-.4-.4-.92-.59-1.43-.59-.52 0-1.04.2-1.43.59L10.3 9.45l-7.72 7.72c-.78.78-.78 2.05 0 2.83L4 21.41c.39.39.9.59 1.41.59.51 0 1.02-.2 1.41-.59l7.78-7.78 2.81-2.81c.8-.78.8-2.07 0-2.86zM5.41 20L4 18.59l7.72-7.72 1.47 1.35L5.41 20z\"/>\n",
              "  </svg>\n",
              "      </button>\n",
              "      \n",
              "  <style>\n",
              "    .colab-df-container {\n",
              "      display:flex;\n",
              "      flex-wrap:wrap;\n",
              "      gap: 12px;\n",
              "    }\n",
              "\n",
              "    .colab-df-convert {\n",
              "      background-color: #E8F0FE;\n",
              "      border: none;\n",
              "      border-radius: 50%;\n",
              "      cursor: pointer;\n",
              "      display: none;\n",
              "      fill: #1967D2;\n",
              "      height: 32px;\n",
              "      padding: 0 0 0 0;\n",
              "      width: 32px;\n",
              "    }\n",
              "\n",
              "    .colab-df-convert:hover {\n",
              "      background-color: #E2EBFA;\n",
              "      box-shadow: 0px 1px 2px rgba(60, 64, 67, 0.3), 0px 1px 3px 1px rgba(60, 64, 67, 0.15);\n",
              "      fill: #174EA6;\n",
              "    }\n",
              "\n",
              "    [theme=dark] .colab-df-convert {\n",
              "      background-color: #3B4455;\n",
              "      fill: #D2E3FC;\n",
              "    }\n",
              "\n",
              "    [theme=dark] .colab-df-convert:hover {\n",
              "      background-color: #434B5C;\n",
              "      box-shadow: 0px 1px 3px 1px rgba(0, 0, 0, 0.15);\n",
              "      filter: drop-shadow(0px 1px 2px rgba(0, 0, 0, 0.3));\n",
              "      fill: #FFFFFF;\n",
              "    }\n",
              "  </style>\n",
              "\n",
              "      <script>\n",
              "        const buttonEl =\n",
              "          document.querySelector('#df-d77ad1bc-841e-4344-9ed0-cae077931b6d button.colab-df-convert');\n",
              "        buttonEl.style.display =\n",
              "          google.colab.kernel.accessAllowed ? 'block' : 'none';\n",
              "\n",
              "        async function convertToInteractive(key) {\n",
              "          const element = document.querySelector('#df-d77ad1bc-841e-4344-9ed0-cae077931b6d');\n",
              "          const dataTable =\n",
              "            await google.colab.kernel.invokeFunction('convertToInteractive',\n",
              "                                                     [key], {});\n",
              "          if (!dataTable) return;\n",
              "\n",
              "          const docLinkHtml = 'Like what you see? Visit the ' +\n",
              "            '<a target=\"_blank\" href=https://colab.research.google.com/notebooks/data_table.ipynb>data table notebook</a>'\n",
              "            + ' to learn more about interactive tables.';\n",
              "          element.innerHTML = '';\n",
              "          dataTable['output_type'] = 'display_data';\n",
              "          await google.colab.output.renderOutput(dataTable, element);\n",
              "          const docLink = document.createElement('div');\n",
              "          docLink.innerHTML = docLinkHtml;\n",
              "          element.appendChild(docLink);\n",
              "        }\n",
              "      </script>\n",
              "    </div>\n",
              "  </div>\n",
              "  "
            ]
          },
          "metadata": {},
          "execution_count": 61
        }
      ]
    },
    {
      "cell_type": "markdown",
      "source": [
        "A better understanding of your competitor(s) will position Microsoft at a better place through improving their current models.More analysis is required to better understand the business strategies, business models and their go to market channels(Distribution chain)"
      ],
      "metadata": {
        "id": "5JVEF2-HQh0G"
      }
    },
    {
      "cell_type": "code",
      "source": [
        "top_studio = bom_movie[\"studio\"].unique()[:10]\n",
        "top_studio_counts = bom_movie[\"studio\"].value_counts().nlargest(10).tolist()\n",
        "movie_rel_year = bom_movie['year'].unique()\n",
        "top_studio_gross = bom_movie['total_gross'].sum()\n",
        "\n",
        "print(\"Studio:\", top_studio)\n",
        "print(\"Counts:\", top_studio_counts)\n",
        "print(\"Years:\", movie_rel_year)\n",
        "print(\"gross:\", top_studio_gross)"
      ],
      "metadata": {
        "colab": {
          "base_uri": "https://localhost:8080/"
        },
        "id": "UmeI1tHxi9XV",
        "outputId": "d7f81368-3c34-4ca9-aa53-4214b46af0fa"
      },
      "execution_count": 62,
      "outputs": [
        {
          "output_type": "stream",
          "name": "stdout",
          "text": [
            "Studio: ['BV' 'WB' 'P/DW' 'Sum.' 'Par.' 'Uni.' 'Fox' 'Wein.' 'Sony' 'FoxS']\n",
            "Counts: [166, 147, 140, 136, 136, 123, 110, 106, 103, 101]\n",
            "Years: [2010 2011 2012 2013 2014 2015 2016 2017 2018]\n",
            "gross: 246486889161.5\n"
          ]
        }
      ]
    },
    {
      "cell_type": "code",
      "source": [
        "#Based on correlation alone, domestic gross earnings and foreign gross earnings have a relatively strong positive relationship.\n",
        "sns.scatterplot(x='domestic_gross',y='foreign_gross',data = bom_movie,color='blue').set_title('Correlation between Domestic gross and Foreign gross')"
      ],
      "metadata": {
        "colab": {
          "base_uri": "https://localhost:8080/",
          "height": 504
        },
        "id": "wGC8ksRtSfPV",
        "outputId": "b4079cff-de10-470e-cd36-b4a27e467411"
      },
      "execution_count": 63,
      "outputs": [
        {
          "output_type": "execute_result",
          "data": {
            "text/plain": [
              "Text(0.5, 1.0, 'Correlation between Domestic gross and Foreign gross')"
            ]
          },
          "metadata": {},
          "execution_count": 63
        },
        {
          "output_type": "display_data",
          "data": {
            "text/plain": [
              "<Figure size 640x480 with 1 Axes>"
            ],
            "image/png": "[encoded data removed]"
          },
          "metadata": {}
        }
      ]
    },
    {
      "cell_type": "code",
      "source": [
        "# A glance of the Top 10 Movie Studios\n",
        "bar_chart_title = \"Top 10 Most Common Movie Studio\"\n",
        "\n",
        "fig, ax = plt.subplots()\n",
        "\n",
        "\n",
        "ax.bar(top_studio,top_studio_counts)\n",
        "ax.set_xlabel('Studio')\n",
        "ax.set_ylabel('Movies released')\n",
        "ax.set_title(bar_chart_title)\n"
      ],
      "metadata": {
        "colab": {
          "base_uri": "https://localhost:8080/",
          "height": 489
        },
        "id": "Z6XPGd95wLUY",
        "outputId": "2cbf8ee7-fdf8-4a3f-8ea9-109aa49aecdc"
      },
      "execution_count": 64,
      "outputs": [
        {
          "output_type": "execute_result",
          "data": {
            "text/plain": [
              "Text(0.5, 1.0, 'Top 10 Most Common Movie Studio')"
            ]
          },
          "metadata": {},
          "execution_count": 64
        },
        {
          "output_type": "display_data",
          "data": {
            "text/plain": [
              "<Figure size 640x480 with 1 Axes>"
            ],
            "image/png": "[encoded data removed]"
          },
          "metadata": {}
        }
      ]
    },
    {
      "cell_type": "code",
      "source": [
        "#bar_chart_title = \"Top 10 Most Common Movie Studio\"\n",
        "\n",
        "#fig, ax = plt.subplots()\n",
        "\n",
        "\n",
        "#ax.bar(movie_rel_year , top_studio)\n",
        "##ax.set_xlabel('Release_Year')\n",
        "#ax.set_ylabel('Studio')\n",
        "#ax.set_title(bar_chart_title)"
      ],
      "metadata": {
        "id": "EP-rEXCPnt1q"
      },
      "execution_count": 65,
      "outputs": []
    },
    {
      "cell_type": "code",
      "source": [
        "movie_rel_year = bom_movie['year'].unique()\n",
        "movie_rel_year"
      ],
      "metadata": {
        "colab": {
          "base_uri": "https://localhost:8080/"
        },
        "id": "t5NeCNL9x4Xy",
        "outputId": "d2b3f23b-a093-4f2a-c607-23115f822cd7"
      },
      "execution_count": 66,
      "outputs": [
        {
          "output_type": "execute_result",
          "data": {
            "text/plain": [
              "array([2010, 2011, 2012, 2013, 2014, 2015, 2016, 2017, 2018])"
            ]
          },
          "metadata": {},
          "execution_count": 66
        }
      ]
    }
  ],
  "metadata": {
    "kernelspec": {
      "display_name": "Python 3",
      "language": "python",
      "name": "python3"
    },
    "language_info": {
      "codemirror_mode": {
        "name": "ipython",
        "version": 3
      },
      "file_extension": ".py",
      "mimetype": "text/x-python",
      "name": "python",
      "nbconvert_exporter": "python",
      "pygments_lexer": "ipython3",
      "version": "3.6.4"
    },
    "colab": {
      "provenance": []
    }
  },
  "nbformat": 4,
  "nbformat_minor": 0
}